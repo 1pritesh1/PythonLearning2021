{
 "cells": [
  {
   "cell_type": "code",
   "execution_count": 1,
   "metadata": {},
   "outputs": [],
   "source": [
    "# Jovian Commit Essentials\n",
    "# Please retain and execute this cell without modifying the contents for `jovian.commit` to work\n",
    "!pip install jovian --upgrade -q\n",
    "import jovian\n",
    "jovian.set_project('statistics-measures-of-central-tendency')\n",
    "jovian.set_colab_id('1-QIurHhFK-M8WzwYSAkM7esIYCh9lcNh')"
   ]
  },
  {
   "cell_type": "markdown",
   "metadata": {},
   "source": [
    "# Measures of Central Tendency | Statistics for Data Science\n",
    "\n",
    "This tutorial is a part of the [Zero to Data Analyst Bootcamp by Jovian](https://www.jovian.ai/data-analyst-bootcamp)\n",
    "\n",
    "![](https://i.imgur.com/qgny42s.jpg)\n",
    "\n",
    "Statistics is the discipline of using mathematics to understand data. We use measures of central tendency to summarize, discover and share useful information about data, primarily for gaining insight and making better decisions. The topics covered today will help you answer the following types of questions:\n",
    "\n",
    "- How much will you earn after graduating from university?\n",
    "- How hot is it going to be in the summer this year?\n",
    "- Should your investment portfolio be focused on diversified?\n",
    "- Which movie should you watch this weekend?\n",
    "- How many registered users will your website have one year from now?"
   ]
  },
  {
   "cell_type": "markdown",
   "metadata": {},
   "source": [
    "This tutorial covers the following topics:\n",
    " \n",
    "- Average / arithmetic mean\n",
    "- Median, percentiles, quartiles and range\n",
    "- Mode and frequency tables\n",
    "- Variance and standard deviation\n",
    "- Growth rate and geometric mean"
   ]
  },
  {
   "cell_type": "markdown",
   "metadata": {},
   "source": [
    "### How to Run the Code\n",
    "\n",
    "The best way to learn the material is to execute the code and experiment with it yourself. This tutorial is an executable [Jupyter notebook](https://jupyter.org). You can _run_ this tutorial and experiment with the code examples in a couple of ways: *using free online resources* (recommended) or *on your computer*.\n",
    "\n",
    "#### Option 1: Running using free online resources (1-click, recommended)\n",
    "\n",
    "The easiest way to start executing the code is to click the **Run** button at the top of this page and select **Run on Binder**. You can also select \"Run on Colab\" or \"Run on Kaggle\", but you'll need to create an account on [Google Colab](https://colab.research.google.com) or [Kaggle](https://kaggle.com) to use these platforms.\n",
    "\n",
    "\n",
    "#### Option 2: Running on your computer locally\n",
    "\n",
    "To run the code on your computer locally, you'll need to set up [Python](https://www.python.org), download the notebook and install the required libraries. We recommend using the [Conda](https://docs.conda.io/projects/conda/en/latest/user-guide/install/) distribution of Python. Click the **Run** button at the top of this page, select the **Run Locally** option, and follow the instructions.\n",
    "\n"
   ]
  },
  {
   "cell_type": "markdown",
   "metadata": {},
   "source": [
    "## Average / Arithmetic Mean\n",
    "\n",
    "The average or arithmetic mean of a set of numbers is the sum of the numbers divided by the how many numbers are being averaged. It's the simplest way to come up with a single number to summarize a set of numbers.\n",
    "\n",
    "$$\\textrm{Average} = \\frac {\\textrm{Sum of values}} {\\textrm{No. of values}}$$\n",
    "\n",
    "$$\\mu = \\frac{x_1 + x_2 + ... + x_n} {n}$$\n",
    "\n",
    "The symbol $\\mu$ (pronounced \"myu\") is often used to denote the mean. We can define a function `mean` to implement this formula."
   ]
  },
  {
   "cell_type": "code",
   "execution_count": 1,
   "metadata": {},
   "outputs": [],
   "source": [
    "def mean(nums):\n",
    "    total = 0\n",
    "    for num in nums:\n",
    "        total += num\n",
    "    return total / len(nums)"
   ]
  },
  {
   "cell_type": "code",
   "execution_count": 2,
   "metadata": {},
   "outputs": [],
   "source": [
    "import numpy as np\n",
    "\n",
    "def mean(nums):\n",
    "    total=0\n",
    "    for i in nums:\n",
    "        total = total + i\n",
    "    return total / len(nums)\n"
   ]
  },
  {
   "cell_type": "code",
   "execution_count": 3,
   "metadata": {
    "scrolled": true
   },
   "outputs": [
    {
     "data": {
      "text/plain": [
       "6.6"
      ]
     },
     "execution_count": 3,
     "metadata": {},
     "output_type": "execute_result"
    }
   ],
   "source": [
    "mean([3, 5, 7, 8, 10])"
   ]
  },
  {
   "cell_type": "markdown",
   "metadata": {},
   "source": [
    "Let's apply the formula to a few questions.\n",
    "\n",
    "> **QUESTION**: The following table shows the number of new notebooks created every day on Jovian for the past week. Calculate the average number of notebooks created per day.\n",
    ">\n",
    "> <img src=\"https://i.imgur.com/EScHTCY.png\" width=\"200\">"
   ]
  },
  {
   "cell_type": "code",
   "execution_count": 4,
   "metadata": {},
   "outputs": [],
   "source": [
    "notebooks = [281, 276, 338, 298, 382, 291, 269]"
   ]
  },
  {
   "cell_type": "code",
   "execution_count": 5,
   "metadata": {},
   "outputs": [
    {
     "data": {
      "text/plain": [
       "305.0"
      ]
     },
     "execution_count": 5,
     "metadata": {},
     "output_type": "execute_result"
    }
   ],
   "source": [
    "notebooks_per_day = mean(notebooks)\n",
    "notebooks_per_day"
   ]
  },
  {
   "cell_type": "code",
   "execution_count": 6,
   "metadata": {
    "scrolled": true
   },
   "outputs": [
    {
     "name": "stdout",
     "output_type": "stream",
     "text": [
      "An average of 305.0 notebooks were created every day on Jovian over the last 7 days.\n"
     ]
    }
   ],
   "source": [
    "print(\"An average of {} notebooks were created every day on Jovian over the last 7 days.\".format(notebooks_per_day))"
   ]
  },
  {
   "cell_type": "markdown",
   "metadata": {},
   "source": [
    "### Using Numpy to Compute Mean\n",
    "\n",
    "The `numpy` library provides several helper functions for computing common statistical measures. We'll learn more about numpy in a lecture about numerical computing with Python. Check out the official documentation to learn more about the [mathematical](https://numpy.org/doc/stable/reference/routines.math.html) and [statistical](https://numpy.org/doc/stable/reference/routines.statistics.html) functions it provides. \n",
    "\n",
    "Let's use `numpy` to compute the average number of notebooks created per day."
   ]
  },
  {
   "cell_type": "code",
   "execution_count": 7,
   "metadata": {},
   "outputs": [],
   "source": [
    "# Install the numpy library\n",
    "!pip install numpy --upgrade --quiet"
   ]
  },
  {
   "cell_type": "code",
   "execution_count": 8,
   "metadata": {},
   "outputs": [],
   "source": [
    "# Import the numpy module with an alias\n",
    "import numpy as np"
   ]
  },
  {
   "cell_type": "code",
   "execution_count": 9,
   "metadata": {},
   "outputs": [
    {
     "data": {
      "text/plain": [
       "305.0"
      ]
     },
     "execution_count": 9,
     "metadata": {},
     "output_type": "execute_result"
    }
   ],
   "source": [
    "# Use a function from the numpy module\n",
    "np.mean(notebooks)"
   ]
  },
  {
   "cell_type": "markdown",
   "metadata": {},
   "source": [
    "As expected, we get the same result. Try solving the following question using `np.mean`.\n",
    "\n",
    "> **EXERCISE**: Every time someone runs `jovian.commit`, a new *version* of a Jupyter notebook is uploaded to Jovian. The following table shows the number of notebook versions created every day on Jovian for the past 7 days. Calculate the average number of notebooks versions created per day.\n",
    ">\n",
    "> <img src=\"https://i.imgur.com/Vloo57d.png\" width=\"240\">"
   ]
  },
  {
   "cell_type": "code",
   "execution_count": 10,
   "metadata": {},
   "outputs": [],
   "source": [
    "versions = [1669, 1632, 1747, 1936, 1859, 1497, 1270]"
   ]
  },
  {
   "cell_type": "code",
   "execution_count": 11,
   "metadata": {},
   "outputs": [
    {
     "data": {
      "text/plain": [
       "1658.5714285714287"
      ]
     },
     "execution_count": 11,
     "metadata": {},
     "output_type": "execute_result"
    }
   ],
   "source": [
    "np.mean(versions)"
   ]
  },
  {
   "cell_type": "code",
   "execution_count": null,
   "metadata": {},
   "outputs": [],
   "source": []
  },
  {
   "cell_type": "markdown",
   "metadata": {},
   "source": [
    "### Combining Data From Two Columns\n",
    "\n",
    "Sometimes the given data require some interpretation and processing before we can compute the average.\n",
    "\n",
    "> **QUESTION**: The following table shows the number of notebooks created every day and the number of notebook versions created every day on Jovian for the past 7 days. One notebook can have several versions. Can you find the average number of versions per notebook using this information?\n",
    ">\n",
    "> <img src=\"https://i.imgur.com/TTtDw9N.png\" width=\"320\">"
   ]
  },
  {
   "cell_type": "code",
   "execution_count": 12,
   "metadata": {},
   "outputs": [],
   "source": [
    "notebooks = [281, 276, 338, 298, 382, 291, 269]\n",
    "versions = [1669, 1632, 1747, 1936, 1859, 1497, 1270]"
   ]
  },
  {
   "cell_type": "markdown",
   "metadata": {},
   "source": [
    "Recall the formula for computing the average:\n",
    "\n",
    "$$\\textrm{Average} = \\frac {\\textrm{Sum of values}} {\\textrm{No. of values}}$$\n",
    "\n",
    "In this case, we wish to find the average number of versions per notebook. The way to do this would be:\n",
    "\n",
    "$$\\textrm{Average Versions} = \\frac{v_1 + v_2 + ... + v_n} {n} = \\frac {\\textrm{Total no. of versions}} {\\textrm{Total no. of notebooks}}$$\n",
    "\n",
    "where $n$ is the total number of notebooks created over the last week and $v_i$ is the no. of versions recorded for the $i^{th}$ notebook. \n",
    "\n",
    "We can use the `np.sum` function to compute the sum of values in lists `notebooks` and `versions`."
   ]
  },
  {
   "cell_type": "code",
   "execution_count": 13,
   "metadata": {},
   "outputs": [
    {
     "data": {
      "text/plain": [
       "5.437939110070258"
      ]
     },
     "execution_count": 13,
     "metadata": {},
     "output_type": "execute_result"
    }
   ],
   "source": [
    "avg_versions = np.sum(versions) / np.sum(notebooks)\n",
    "avg_versions"
   ]
  },
  {
   "cell_type": "markdown",
   "metadata": {},
   "source": [
    "Thus, it appears we have $5.43$ versions per notebook.\n",
    "\n",
    "However, there's a problem with the above calculation! It is possible that some versions recorded last week belong to notebooks that were created sometime before the last 7 days. So, instead of counting the total no. of notebooks created in the last 7 days, we should count the total number of notebooks updated in the last 7 days.\n",
    "\n",
    "As a data analyst, it's important for you look out for such subtle issues/shortcomings in data provided, and state your assumptions clearly when presenting results. In many cases, you may need to request for additional information.\n",
    "\n",
    "There's yet another problem with the above result. Can you figure out what it is?\n"
   ]
  },
  {
   "cell_type": "markdown",
   "metadata": {},
   "source": [
    "-- to find correct numberb of version per notebook, we need data for version numbers of notebooks created on on that week"
   ]
  },
  {
   "cell_type": "markdown",
   "metadata": {},
   "source": [
    "### Weighted Averages\n",
    "\n",
    "Sometimes you may need to apply a weight to each number. \n",
    "\n",
    "> **EXERCISE**: The  The following table shows population and the per capita GDP of various states (provinces) in India. Compute per capita GDP for the entire country. The table is also available as a CSV file [here](https://gist.githubusercontent.com/aakashns/b83c25b654bdf20c085382f3d28bb15c/raw/046a19a942ef5a96d33c2e7b2dc5a9ce1a35e868/india_per_capita_gdp_by_state.csv).\n",
    "\n",
    "<img src=\"https://i.imgur.com/YJyfGpr.png\" width=\"320\">\n"
   ]
  },
  {
   "cell_type": "code",
   "execution_count": 14,
   "metadata": {},
   "outputs": [],
   "source": [
    "state_gdp_url = 'https://gist.githubusercontent.com/aakashns/b83c25b654bdf20c085382f3d28bb15c/raw/046a19a942ef5a96d33c2e7b2dc5a9ce1a35e868/india_per_capita_gdp_by_state.csv'"
   ]
  },
  {
   "cell_type": "markdown",
   "metadata": {},
   "source": [
    "Before we solve the problem, we need a way to download and process a CSV file. We can use the `pandas` library for doing this. "
   ]
  },
  {
   "cell_type": "code",
   "execution_count": 33,
   "metadata": {},
   "outputs": [],
   "source": [
    "# Install the library\n",
    "!pip install pandas --upgrade --quiet"
   ]
  },
  {
   "cell_type": "code",
   "execution_count": 15,
   "metadata": {},
   "outputs": [],
   "source": [
    "# Import the library as an alias\n",
    "import pandas as pd"
   ]
  },
  {
   "cell_type": "markdown",
   "metadata": {},
   "source": [
    "The `read_csv` function from Pandas can be used to read a CSV file, from a local filesystem or from a URL. It returns a *data frame*, which is conceptually similar to a table in a spreadsheet."
   ]
  },
  {
   "cell_type": "code",
   "execution_count": 16,
   "metadata": {},
   "outputs": [
    {
     "data": {
      "text/html": [
       "<div>\n",
       "<style scoped>\n",
       "    .dataframe tbody tr th:only-of-type {\n",
       "        vertical-align: middle;\n",
       "    }\n",
       "\n",
       "    .dataframe tbody tr th {\n",
       "        vertical-align: top;\n",
       "    }\n",
       "\n",
       "    .dataframe thead th {\n",
       "        text-align: right;\n",
       "    }\n",
       "</style>\n",
       "<table border=\"1\" class=\"dataframe\">\n",
       "  <thead>\n",
       "    <tr style=\"text-align: right;\">\n",
       "      <th></th>\n",
       "      <th>state</th>\n",
       "      <th>population</th>\n",
       "      <th>gdp_per_capita</th>\n",
       "    </tr>\n",
       "  </thead>\n",
       "  <tbody>\n",
       "    <tr>\n",
       "      <th>0</th>\n",
       "      <td>Andaman &amp; Nicobar</td>\n",
       "      <td>380581</td>\n",
       "      <td>2890</td>\n",
       "    </tr>\n",
       "    <tr>\n",
       "      <th>1</th>\n",
       "      <td>Andhra Pradesh</td>\n",
       "      <td>49577103</td>\n",
       "      <td>2824</td>\n",
       "    </tr>\n",
       "    <tr>\n",
       "      <th>2</th>\n",
       "      <td>Arunachal Pradesh</td>\n",
       "      <td>1383727</td>\n",
       "      <td>2457</td>\n",
       "    </tr>\n",
       "    <tr>\n",
       "      <th>3</th>\n",
       "      <td>Assam</td>\n",
       "      <td>31205576</td>\n",
       "      <td>1410</td>\n",
       "    </tr>\n",
       "    <tr>\n",
       "      <th>4</th>\n",
       "      <td>Bihar</td>\n",
       "      <td>104099452</td>\n",
       "      <td>826</td>\n",
       "    </tr>\n",
       "    <tr>\n",
       "      <th>5</th>\n",
       "      <td>Chandigarh</td>\n",
       "      <td>1055450</td>\n",
       "      <td>5590</td>\n",
       "    </tr>\n",
       "    <tr>\n",
       "      <th>6</th>\n",
       "      <td>Chhattisgarh</td>\n",
       "      <td>25545198</td>\n",
       "      <td>1801</td>\n",
       "    </tr>\n",
       "    <tr>\n",
       "      <th>7</th>\n",
       "      <td>Delhi</td>\n",
       "      <td>16787941</td>\n",
       "      <td>7148</td>\n",
       "    </tr>\n",
       "    <tr>\n",
       "      <th>8</th>\n",
       "      <td>Goa</td>\n",
       "      <td>1458545</td>\n",
       "      <td>6856</td>\n",
       "    </tr>\n",
       "    <tr>\n",
       "      <th>9</th>\n",
       "      <td>Gujarat</td>\n",
       "      <td>60439692</td>\n",
       "      <td>3475</td>\n",
       "    </tr>\n",
       "    <tr>\n",
       "      <th>10</th>\n",
       "      <td>Haryana</td>\n",
       "      <td>25351462</td>\n",
       "      <td>4733</td>\n",
       "    </tr>\n",
       "    <tr>\n",
       "      <th>11</th>\n",
       "      <td>Himachal Pradesh</td>\n",
       "      <td>6864602</td>\n",
       "      <td>3351</td>\n",
       "    </tr>\n",
       "    <tr>\n",
       "      <th>12</th>\n",
       "      <td>Jammu and Kashmir</td>\n",
       "      <td>12541032</td>\n",
       "      <td>1754</td>\n",
       "    </tr>\n",
       "    <tr>\n",
       "      <th>13</th>\n",
       "      <td>Jharkhand</td>\n",
       "      <td>32988134</td>\n",
       "      <td>1394</td>\n",
       "    </tr>\n",
       "    <tr>\n",
       "      <th>14</th>\n",
       "      <td>Karnataka</td>\n",
       "      <td>61095297</td>\n",
       "      <td>3928</td>\n",
       "    </tr>\n",
       "    <tr>\n",
       "      <th>15</th>\n",
       "      <td>Kerala</td>\n",
       "      <td>33406061</td>\n",
       "      <td>3293</td>\n",
       "    </tr>\n",
       "    <tr>\n",
       "      <th>16</th>\n",
       "      <td>Madhya Pradesh</td>\n",
       "      <td>72626809</td>\n",
       "      <td>1790</td>\n",
       "    </tr>\n",
       "    <tr>\n",
       "      <th>17</th>\n",
       "      <td>Maharashtra</td>\n",
       "      <td>112374333</td>\n",
       "      <td>3560</td>\n",
       "    </tr>\n",
       "    <tr>\n",
       "      <th>18</th>\n",
       "      <td>Manipur</td>\n",
       "      <td>2570390</td>\n",
       "      <td>1517</td>\n",
       "    </tr>\n",
       "    <tr>\n",
       "      <th>19</th>\n",
       "      <td>Meghalaya</td>\n",
       "      <td>2966889</td>\n",
       "      <td>1719</td>\n",
       "    </tr>\n",
       "    <tr>\n",
       "      <th>20</th>\n",
       "      <td>Mizoram</td>\n",
       "      <td>1097206</td>\n",
       "      <td>2461</td>\n",
       "    </tr>\n",
       "    <tr>\n",
       "      <th>21</th>\n",
       "      <td>Nagaland</td>\n",
       "      <td>1978502</td>\n",
       "      <td>1921</td>\n",
       "    </tr>\n",
       "    <tr>\n",
       "      <th>22</th>\n",
       "      <td>Odisha</td>\n",
       "      <td>41974219</td>\n",
       "      <td>1763</td>\n",
       "    </tr>\n",
       "    <tr>\n",
       "      <th>23</th>\n",
       "      <td>Puducherry</td>\n",
       "      <td>1247953</td>\n",
       "      <td>4567</td>\n",
       "    </tr>\n",
       "    <tr>\n",
       "      <th>24</th>\n",
       "      <td>Punjab</td>\n",
       "      <td>27743338</td>\n",
       "      <td>2920</td>\n",
       "    </tr>\n",
       "    <tr>\n",
       "      <th>25</th>\n",
       "      <td>Rajasthan</td>\n",
       "      <td>68548437</td>\n",
       "      <td>2042</td>\n",
       "    </tr>\n",
       "    <tr>\n",
       "      <th>26</th>\n",
       "      <td>Sikkim</td>\n",
       "      <td>610577</td>\n",
       "      <td>7534</td>\n",
       "    </tr>\n",
       "    <tr>\n",
       "      <th>27</th>\n",
       "      <td>Tamil Nadu</td>\n",
       "      <td>72147030</td>\n",
       "      <td>3604</td>\n",
       "    </tr>\n",
       "    <tr>\n",
       "      <th>28</th>\n",
       "      <td>Telangana</td>\n",
       "      <td>35003674</td>\n",
       "      <td>4000</td>\n",
       "    </tr>\n",
       "    <tr>\n",
       "      <th>29</th>\n",
       "      <td>Tripura</td>\n",
       "      <td>3673917</td>\n",
       "      <td>1769</td>\n",
       "    </tr>\n",
       "    <tr>\n",
       "      <th>30</th>\n",
       "      <td>Uttar Pradesh</td>\n",
       "      <td>199812341</td>\n",
       "      <td>1251</td>\n",
       "    </tr>\n",
       "    <tr>\n",
       "      <th>31</th>\n",
       "      <td>Uttarakhand</td>\n",
       "      <td>10086292</td>\n",
       "      <td>3371</td>\n",
       "    </tr>\n",
       "    <tr>\n",
       "      <th>32</th>\n",
       "      <td>West Bengal</td>\n",
       "      <td>91276115</td>\n",
       "      <td>1972</td>\n",
       "    </tr>\n",
       "  </tbody>\n",
       "</table>\n",
       "</div>"
      ],
      "text/plain": [
       "                state  population  gdp_per_capita\n",
       "0   Andaman & Nicobar      380581            2890\n",
       "1      Andhra Pradesh    49577103            2824\n",
       "2   Arunachal Pradesh     1383727            2457\n",
       "3               Assam    31205576            1410\n",
       "4               Bihar   104099452             826\n",
       "5          Chandigarh     1055450            5590\n",
       "6        Chhattisgarh    25545198            1801\n",
       "7               Delhi    16787941            7148\n",
       "8                 Goa     1458545            6856\n",
       "9             Gujarat    60439692            3475\n",
       "10            Haryana    25351462            4733\n",
       "11   Himachal Pradesh     6864602            3351\n",
       "12  Jammu and Kashmir    12541032            1754\n",
       "13          Jharkhand    32988134            1394\n",
       "14          Karnataka    61095297            3928\n",
       "15             Kerala    33406061            3293\n",
       "16     Madhya Pradesh    72626809            1790\n",
       "17        Maharashtra   112374333            3560\n",
       "18            Manipur     2570390            1517\n",
       "19          Meghalaya     2966889            1719\n",
       "20            Mizoram     1097206            2461\n",
       "21           Nagaland     1978502            1921\n",
       "22             Odisha    41974219            1763\n",
       "23         Puducherry     1247953            4567\n",
       "24             Punjab    27743338            2920\n",
       "25          Rajasthan    68548437            2042\n",
       "26             Sikkim      610577            7534\n",
       "27         Tamil Nadu    72147030            3604\n",
       "28          Telangana    35003674            4000\n",
       "29            Tripura     3673917            1769\n",
       "30      Uttar Pradesh   199812341            1251\n",
       "31        Uttarakhand    10086292            3371\n",
       "32        West Bengal    91276115            1972"
      ]
     },
     "execution_count": 16,
     "metadata": {},
     "output_type": "execute_result"
    }
   ],
   "source": [
    "dataframe = pd.read_csv(state_gdp_url)\n",
    "dataframe"
   ]
  },
  {
   "cell_type": "markdown",
   "metadata": {},
   "source": [
    "To access the values in a column, we can use the dictionary indexing notation and pass the column name as the key e.g. `dataframe['population']`. The result is a Pandas *series* which works just like a Python list. "
   ]
  },
  {
   "cell_type": "code",
   "execution_count": 17,
   "metadata": {
    "scrolled": false
   },
   "outputs": [],
   "source": [
    "population = dataframe['population']\n",
    "gdp_per_capita = dataframe['gdp_per_capita']"
   ]
  },
  {
   "cell_type": "code",
   "execution_count": 18,
   "metadata": {},
   "outputs": [
    {
     "data": {
      "text/plain": [
       "0       380581\n",
       "1     49577103\n",
       "2      1383727\n",
       "3     31205576\n",
       "4    104099452\n",
       "Name: population, dtype: int64"
      ]
     },
     "execution_count": 18,
     "metadata": {},
     "output_type": "execute_result"
    }
   ],
   "source": [
    "population[:5]"
   ]
  },
  {
   "cell_type": "code",
   "execution_count": 19,
   "metadata": {},
   "outputs": [
    {
     "data": {
      "text/plain": [
       "1410"
      ]
     },
     "execution_count": 19,
     "metadata": {},
     "output_type": "execute_result"
    }
   ],
   "source": [
    "gdp_per_capita[3]"
   ]
  },
  {
   "cell_type": "markdown",
   "metadata": {},
   "source": [
    "We'll learn a lot more about Pandas in a future lesson. \n",
    "\n",
    "Now that you have the `population` and `gdp_per_capita` as lists of numbers, can you answer the question? \n",
    "\n",
    "*Hint*: The GDP per capita of the country is the weighted average of per capita GDPs of individual states, with populations used as weights. Use `np.multiply` to perform element-wise multiplication."
   ]
  },
  {
   "cell_type": "code",
   "execution_count": 20,
   "metadata": {},
   "outputs": [],
   "source": [
    "x =[1,2,3,4]\n",
    "y = [5,1,5,2]"
   ]
  },
  {
   "cell_type": "code",
   "execution_count": 21,
   "metadata": {},
   "outputs": [
    {
     "data": {
      "text/plain": [
       "2437.127948254339"
      ]
     },
     "execution_count": 21,
     "metadata": {},
     "output_type": "execute_result"
    }
   ],
   "source": [
    "np.sum(np.multiply(gdp_per_capita,population))/np.sum(population)"
   ]
  },
  {
   "cell_type": "code",
   "execution_count": null,
   "metadata": {},
   "outputs": [],
   "source": []
  },
  {
   "cell_type": "markdown",
   "metadata": {},
   "source": [
    "> **EXERCISE:** Download [this CSV file](https://gist.githubusercontent.com/aakashns/873875a38d83a46820a6a8c17718a7e5/raw/0387122b1300607fc7ec73f75f0281d5d07ad65f/countries_data.csv) containing country-wise population and GDP per capita. Use it to calculate the GDP per capita for the entire world.\n",
    "\n"
   ]
  },
  {
   "cell_type": "code",
   "execution_count": 22,
   "metadata": {},
   "outputs": [],
   "source": [
    "countries_csv = 'https://gist.githubusercontent.com/aakashns/873875a38d83a46820a6a8c17718a7e5/raw/0387122b1300607fc7ec73f75f0281d5d07ad65f/countries_data.csv'"
   ]
  },
  {
   "cell_type": "code",
   "execution_count": 23,
   "metadata": {},
   "outputs": [],
   "source": [
    "dataframe = pd.read_csv(countries_csv)\n",
    "population = dataframe['Population']\n",
    "gdp_per_capita=dataframe['GDP ($ per capita)']\n"
   ]
  },
  {
   "cell_type": "code",
   "execution_count": 24,
   "metadata": {},
   "outputs": [
    {
     "data": {
      "text/plain": [
       "8079.343958974139"
      ]
     },
     "execution_count": 24,
     "metadata": {},
     "output_type": "execute_result"
    }
   ],
   "source": [
    "np.sum(np.multiply(population,gdp_per_capita))/np.sum(population)"
   ]
  },
  {
   "cell_type": "markdown",
   "metadata": {},
   "source": [
    "### Outliers\n",
    "\n",
    "The mean isn't always a good measure of central tendency because it is susceptible to *outliers* i.e. individual values which lie far outside the normal range of values. Consider the following example, which illustrates the **Michael Jordan Fallacy**.\n",
    "\n",
    "> **EXERCISE**: The following table shows the starting salary of a class of 20 geography graduates from the University of North Carolina in 1986. Person 7 is Michael Jordan, who became a professional basketball player upon graduating. Calculate the average salary for the class. Can you use the number as an estimate of how much a student can expect to earn in 1987?\n",
    ">\n",
    "> <img src=\"https://i.imgur.com/cJHEEEt.png\" width=\"240\">\n",
    "> "
   ]
  },
  {
   "cell_type": "code",
   "execution_count": 25,
   "metadata": {},
   "outputs": [],
   "source": [
    "salaries = [22000, 21000, 26000, 31000, 19000, 21500, 800000, 24500, 25000, 24000]"
   ]
  },
  {
   "cell_type": "code",
   "execution_count": 26,
   "metadata": {},
   "outputs": [
    {
     "data": {
      "text/plain": [
       "101400.0"
      ]
     },
     "execution_count": 26,
     "metadata": {},
     "output_type": "execute_result"
    }
   ],
   "source": [
    "np.mean(salaries)"
   ]
  },
  {
   "cell_type": "markdown",
   "metadata": {},
   "source": [
    "Can you use the average as an estimate of how much a student can expect to earn in 1987?\n",
    "\n",
    "Upon calculating the averages, you will notice that the average salary for the class is 4 times higher than the salary of 9 out of 10 graduates. Michael Jordan is clearly an outlier in this case, and his salary has a disproportionate impact on the average.\n",
    "\n",
    "![](https://i.imgur.com/vgG29mb.png)\n",
    "\n",
    "While it may seem obvious that the average is not representative of the population in this case, this will not be apparent if you were simply quoting the average without showing the actual data. Universities often cite average salaries of graduates in brochures and advertisements, which in most cases include a few outliers. Whenever you come across an average, keep an eye out for the Michael Jordan fallacy.\n",
    "\n",
    "When the data contains outliers, we can use a different measure of central tendency: the median."
   ]
  },
  {
   "cell_type": "markdown",
   "metadata": {},
   "source": [
    "Let's save our work before continuing."
   ]
  },
  {
   "cell_type": "code",
   "execution_count": 27,
   "metadata": {},
   "outputs": [
    {
     "data": {
      "application/javascript": [
       "window.require && require([\"base/js/namespace\"],function(Jupyter){Jupyter.notebook.save_checkpoint()})"
      ],
      "text/plain": [
       "<IPython.core.display.Javascript object>"
      ]
     },
     "metadata": {},
     "output_type": "display_data"
    },
    {
     "name": "stdout",
     "output_type": "stream",
     "text": [
      "[jovian] Attempting to save notebook..\n",
      "[jovian] Updating notebook \"pritesh009/statistics-measures-of-central-tendency\" on https://jovian.ai/\n",
      "[jovian] Uploading notebook..\n",
      "[jovian] Capturing environment..\n",
      "[jovian] Committed successfully! https://jovian.ai/pritesh009/statistics-measures-of-central-tendency\n"
     ]
    },
    {
     "data": {
      "text/plain": [
       "'https://jovian.ai/pritesh009/statistics-measures-of-central-tendency'"
      ]
     },
     "execution_count": 27,
     "metadata": {},
     "output_type": "execute_result"
    }
   ],
   "source": [
    "jovian.commit()"
   ]
  },
  {
   "cell_type": "markdown",
   "metadata": {},
   "source": [
    "## Median, Percentiles, Quartiles and Range\n",
    "\n",
    "![](https://i.imgur.com/UPiZkuE.png)\n",
    "\n",
    "\n",
    "### Median\n",
    "\n",
    "The median of a set of numbers is the *middle number* of the set, after the numbers have been arranged in increasing order. E.g. the median of the numbers $3, 7, 10, 55, 97$ is $10$. \n",
    "\n",
    "When the size of the set is even, there's no single middle number. In this case, the median is the average of the two middle numbers. E.g. the median of $3, 5, 21, 33, 42, 300$ is $(21 + 33)/2 = 27$.\n",
    "\n"
   ]
  },
  {
   "cell_type": "markdown",
   "metadata": {},
   "source": [
    "> **EXERCISE**: Write a function to find a median of a list of numbers. Ensure that your function does NOT modify the input list.\n",
    "\n"
   ]
  },
  {
   "cell_type": "code",
   "execution_count": 28,
   "metadata": {},
   "outputs": [],
   "source": [
    "nums3 = [3, 7, 10, 55, 97]\n",
    "nums4 = [900,500,900,700,100]"
   ]
  },
  {
   "cell_type": "code",
   "execution_count": 29,
   "metadata": {},
   "outputs": [
    {
     "data": {
      "text/plain": [
       "700.0"
      ]
     },
     "execution_count": 29,
     "metadata": {},
     "output_type": "execute_result"
    }
   ],
   "source": [
    "np.median(nums4)"
   ]
  },
  {
   "cell_type": "code",
   "execution_count": 30,
   "metadata": {},
   "outputs": [],
   "source": [
    "def median(nums):\n",
    "    i=len(nums)\n",
    "    if i % 2 == 1:\n",
    "        pos = nums[int(i/2)]\n",
    "    else:\n",
    "        pos = (nums[int(i/2)-1] + nums[int(i/2)])/ 2\n",
    "    return pos"
   ]
  },
  {
   "cell_type": "markdown",
   "metadata": {},
   "source": [
    "Test your implementation with the following examples."
   ]
  },
  {
   "cell_type": "code",
   "execution_count": 31,
   "metadata": {},
   "outputs": [],
   "source": [
    "nums1 = [3, 7, 10, 55, 97]\n",
    "nums2 = [3,5,21,33,42,300]"
   ]
  },
  {
   "cell_type": "code",
   "execution_count": 32,
   "metadata": {},
   "outputs": [
    {
     "data": {
      "text/plain": [
       "10"
      ]
     },
     "execution_count": 32,
     "metadata": {},
     "output_type": "execute_result"
    }
   ],
   "source": [
    "median(nums1)"
   ]
  },
  {
   "cell_type": "code",
   "execution_count": 33,
   "metadata": {},
   "outputs": [
    {
     "data": {
      "text/plain": [
       "27.0"
      ]
     },
     "execution_count": 33,
     "metadata": {},
     "output_type": "execute_result"
    }
   ],
   "source": [
    "median(nums2)"
   ]
  },
  {
   "cell_type": "markdown",
   "metadata": {},
   "source": [
    "As you might expect, `numpy` provides a function to compute the median of a set of numbers."
   ]
  },
  {
   "cell_type": "code",
   "execution_count": 34,
   "metadata": {},
   "outputs": [
    {
     "data": {
      "text/plain": [
       "10.0"
      ]
     },
     "execution_count": 34,
     "metadata": {},
     "output_type": "execute_result"
    }
   ],
   "source": [
    "np.median(nums1)"
   ]
  },
  {
   "cell_type": "code",
   "execution_count": 35,
   "metadata": {},
   "outputs": [
    {
     "data": {
      "text/plain": [
       "27.0"
      ]
     },
     "execution_count": 35,
     "metadata": {},
     "output_type": "execute_result"
    }
   ],
   "source": [
    "np.median(nums2)"
   ]
  },
  {
   "cell_type": "markdown",
   "metadata": {},
   "source": [
    "\n",
    "\n",
    "> **QUESTION**: Download [this CSV file](https://gist.githubusercontent.com/aakashns/5596c1d2d22d3c1ac287c8bf89d76a05/raw/ae588cb3711ba4ef441b578fafb47e911b27dcaf/billionaires.csv) containing information about the 100 richest people in the world according to Forbes. What is the median net worth of the 100 richest people in the world?\n",
    "\n",
    "We can download and process this file using the `read_csv` function from Pandas and compute the median using the `median` function from numpy."
   ]
  },
  {
   "cell_type": "code",
   "execution_count": 99,
   "metadata": {},
   "outputs": [],
   "source": [
    "richest_url = 'https://gist.githubusercontent.com/aakashns/5596c1d2d22d3c1ac287c8bf89d76a05/raw/990fdd64d99cf5586fe19c83daf72988fb4a4746/billionaires.csv'"
   ]
  },
  {
   "cell_type": "code",
   "execution_count": 100,
   "metadata": {},
   "outputs": [],
   "source": [
    "dataframe = pd.read_csv(richest_url)"
   ]
  },
  {
   "cell_type": "code",
   "execution_count": 101,
   "metadata": {},
   "outputs": [
    {
     "data": {
      "text/html": [
       "<div>\n",
       "<style scoped>\n",
       "    .dataframe tbody tr th:only-of-type {\n",
       "        vertical-align: middle;\n",
       "    }\n",
       "\n",
       "    .dataframe tbody tr th {\n",
       "        vertical-align: top;\n",
       "    }\n",
       "\n",
       "    .dataframe thead th {\n",
       "        text-align: right;\n",
       "    }\n",
       "</style>\n",
       "<table border=\"1\" class=\"dataframe\">\n",
       "  <thead>\n",
       "    <tr style=\"text-align: right;\">\n",
       "      <th></th>\n",
       "      <th>rank</th>\n",
       "      <th>name</th>\n",
       "      <th>net_worth_billions_usd</th>\n",
       "      <th>age</th>\n",
       "      <th>country</th>\n",
       "      <th>source</th>\n",
       "      <th>industries</th>\n",
       "    </tr>\n",
       "  </thead>\n",
       "  <tbody>\n",
       "    <tr>\n",
       "      <th>0</th>\n",
       "      <td>1</td>\n",
       "      <td>JEFF BEZOS</td>\n",
       "      <td>113.0</td>\n",
       "      <td>56</td>\n",
       "      <td>United States</td>\n",
       "      <td>Amazon</td>\n",
       "      <td>Technology</td>\n",
       "    </tr>\n",
       "    <tr>\n",
       "      <th>1</th>\n",
       "      <td>2</td>\n",
       "      <td>BILL GATES</td>\n",
       "      <td>98.0</td>\n",
       "      <td>64</td>\n",
       "      <td>United States</td>\n",
       "      <td>Microsoft</td>\n",
       "      <td>Technology</td>\n",
       "    </tr>\n",
       "    <tr>\n",
       "      <th>2</th>\n",
       "      <td>3</td>\n",
       "      <td>BERNARD ARNAULT &amp; FAMILY</td>\n",
       "      <td>76.0</td>\n",
       "      <td>71</td>\n",
       "      <td>France</td>\n",
       "      <td>LVMH</td>\n",
       "      <td>Fashion &amp; Retail</td>\n",
       "    </tr>\n",
       "    <tr>\n",
       "      <th>3</th>\n",
       "      <td>4</td>\n",
       "      <td>WARREN BUFFETT</td>\n",
       "      <td>67.5</td>\n",
       "      <td>89</td>\n",
       "      <td>United States</td>\n",
       "      <td>Berkshire Hathaway</td>\n",
       "      <td>Finance &amp; Investments</td>\n",
       "    </tr>\n",
       "    <tr>\n",
       "      <th>4</th>\n",
       "      <td>5</td>\n",
       "      <td>LARRY ELLISON</td>\n",
       "      <td>59.0</td>\n",
       "      <td>75</td>\n",
       "      <td>United States</td>\n",
       "      <td>software</td>\n",
       "      <td>Technology</td>\n",
       "    </tr>\n",
       "    <tr>\n",
       "      <th>...</th>\n",
       "      <td>...</td>\n",
       "      <td>...</td>\n",
       "      <td>...</td>\n",
       "      <td>...</td>\n",
       "      <td>...</td>\n",
       "      <td>...</td>\n",
       "      <td>...</td>\n",
       "    </tr>\n",
       "    <tr>\n",
       "      <th>95</th>\n",
       "      <td>96</td>\n",
       "      <td>LI SHUFU</td>\n",
       "      <td>12.4</td>\n",
       "      <td>56</td>\n",
       "      <td>China</td>\n",
       "      <td>automobiles</td>\n",
       "      <td>Automotive</td>\n",
       "    </tr>\n",
       "    <tr>\n",
       "      <th>96</th>\n",
       "      <td>96</td>\n",
       "      <td>HASSO PLATTNER &amp; FAMILY</td>\n",
       "      <td>12.4</td>\n",
       "      <td>76</td>\n",
       "      <td>Germany</td>\n",
       "      <td>software</td>\n",
       "      <td>Technology</td>\n",
       "    </tr>\n",
       "    <tr>\n",
       "      <th>97</th>\n",
       "      <td>98</td>\n",
       "      <td>LIU YONGHAO &amp; FAMILY</td>\n",
       "      <td>12.3</td>\n",
       "      <td>68</td>\n",
       "      <td>China</td>\n",
       "      <td>agribusiness</td>\n",
       "      <td>Service</td>\n",
       "    </tr>\n",
       "    <tr>\n",
       "      <th>98</th>\n",
       "      <td>98</td>\n",
       "      <td>STEFAN QUANDT</td>\n",
       "      <td>12.3</td>\n",
       "      <td>53</td>\n",
       "      <td>Germany</td>\n",
       "      <td>BMW</td>\n",
       "      <td>Automotive</td>\n",
       "    </tr>\n",
       "    <tr>\n",
       "      <th>99</th>\n",
       "      <td>100</td>\n",
       "      <td>KEN GRIFFIN</td>\n",
       "      <td>12.1</td>\n",
       "      <td>51</td>\n",
       "      <td>United States</td>\n",
       "      <td>hedge funds</td>\n",
       "      <td>Finance &amp; Investments</td>\n",
       "    </tr>\n",
       "  </tbody>\n",
       "</table>\n",
       "<p>100 rows × 7 columns</p>\n",
       "</div>"
      ],
      "text/plain": [
       "    rank                      name  net_worth_billions_usd  age  \\\n",
       "0      1                JEFF BEZOS                   113.0   56   \n",
       "1      2                BILL GATES                    98.0   64   \n",
       "2      3  BERNARD ARNAULT & FAMILY                    76.0   71   \n",
       "3      4            WARREN BUFFETT                    67.5   89   \n",
       "4      5             LARRY ELLISON                    59.0   75   \n",
       "..   ...                       ...                     ...  ...   \n",
       "95    96                  LI SHUFU                    12.4   56   \n",
       "96    96   HASSO PLATTNER & FAMILY                    12.4   76   \n",
       "97    98      LIU YONGHAO & FAMILY                    12.3   68   \n",
       "98    98             STEFAN QUANDT                    12.3   53   \n",
       "99   100               KEN GRIFFIN                    12.1   51   \n",
       "\n",
       "          country              source             industries  \n",
       "0   United States              Amazon             Technology  \n",
       "1   United States           Microsoft             Technology  \n",
       "2          France                LVMH       Fashion & Retail  \n",
       "3   United States  Berkshire Hathaway  Finance & Investments  \n",
       "4   United States            software             Technology  \n",
       "..            ...                 ...                    ...  \n",
       "95          China         automobiles             Automotive  \n",
       "96        Germany            software             Technology  \n",
       "97          China        agribusiness                Service  \n",
       "98        Germany                 BMW             Automotive  \n",
       "99  United States         hedge funds  Finance & Investments  \n",
       "\n",
       "[100 rows x 7 columns]"
      ]
     },
     "execution_count": 101,
     "metadata": {},
     "output_type": "execute_result"
    }
   ],
   "source": [
    "dataframe"
   ]
  },
  {
   "cell_type": "markdown",
   "metadata": {},
   "source": [
    "The column `net_worth_billions_usd` contains the required information."
   ]
  },
  {
   "cell_type": "code",
   "execution_count": 102,
   "metadata": {},
   "outputs": [],
   "source": [
    "net_worth = dataframe['net_worth_billions_usd']"
   ]
  },
  {
   "cell_type": "code",
   "execution_count": 40,
   "metadata": {},
   "outputs": [],
   "source": [
    "import numpy as np\n",
    "median_net_worth = np.median(net_worth)"
   ]
  },
  {
   "cell_type": "code",
   "execution_count": 41,
   "metadata": {},
   "outputs": [
    {
     "name": "stdout",
     "output_type": "stream",
     "text": [
      "The median net worth among the 100 richest people in the world is $17.05 billion.\n"
     ]
    }
   ],
   "source": [
    "print('The median net worth among the 100 richest people in the world is ${} billion.'.format(median_net_worth))"
   ]
  },
  {
   "cell_type": "markdown",
   "metadata": {},
   "source": [
    "Compare this with the average:"
   ]
  },
  {
   "cell_type": "code",
   "execution_count": 42,
   "metadata": {},
   "outputs": [
    {
     "data": {
      "text/plain": [
       "25.576"
      ]
     },
     "execution_count": 42,
     "metadata": {},
     "output_type": "execute_result"
    }
   ],
   "source": [
    "np.mean(net_worth)"
   ]
  },
  {
   "cell_type": "markdown",
   "metadata": {},
   "source": [
    "The average is 47% higher than the median. Even among the richest, there are outliers!"
   ]
  },
  {
   "cell_type": "markdown",
   "metadata": {},
   "source": [
    "> **EXERCISE**: Use the above dataset to compute the median and average ages of the 100 richest people. Which is a better measure of central tendency in this case?"
   ]
  },
  {
   "cell_type": "code",
   "execution_count": 44,
   "metadata": {},
   "outputs": [],
   "source": [
    "age = dataframe['age']"
   ]
  },
  {
   "cell_type": "code",
   "execution_count": 45,
   "metadata": {},
   "outputs": [
    {
     "data": {
      "text/plain": [
       "66.92"
      ]
     },
     "execution_count": 45,
     "metadata": {},
     "output_type": "execute_result"
    }
   ],
   "source": [
    "np.mean(age)"
   ]
  },
  {
   "cell_type": "code",
   "execution_count": 46,
   "metadata": {},
   "outputs": [
    {
     "data": {
      "text/plain": [
       "67.5"
      ]
     },
     "execution_count": 46,
     "metadata": {},
     "output_type": "execute_result"
    }
   ],
   "source": [
    "np.median(age)"
   ]
  },
  {
   "cell_type": "code",
   "execution_count": 59,
   "metadata": {},
   "outputs": [
    {
     "data": {
      "text/plain": [
       "92"
      ]
     },
     "execution_count": 59,
     "metadata": {},
     "output_type": "execute_result"
    }
   ],
   "source": [
    "np.max(age)"
   ]
  },
  {
   "cell_type": "code",
   "execution_count": 47,
   "metadata": {
    "scrolled": true
   },
   "outputs": [
    {
     "data": {
      "text/plain": [
       "0     56\n",
       "1     64\n",
       "2     71\n",
       "3     89\n",
       "4     75\n",
       "      ..\n",
       "95    56\n",
       "96    76\n",
       "97    68\n",
       "98    53\n",
       "99    51\n",
       "Name: age, Length: 100, dtype: int64"
      ]
     },
     "execution_count": 47,
     "metadata": {},
     "output_type": "execute_result"
    }
   ],
   "source": [
    "dataframe['age'].head(100)"
   ]
  },
  {
   "cell_type": "markdown",
   "metadata": {},
   "source": [
    "> **EXERCISE**: The following table shows the starting salary of a class of 20 geography graduates from the University of North Carolina in 1986. Person 7 is Michael Jordan, who became a professional basketball player upon graduating. Calculate the median salary for the class. How does it compare with the average? Can you use the number as an estimate of how much a student can expect to earn in 1987?\n",
    ">\n",
    "> <img src=\"https://i.imgur.com/cJHEEEt.png\" width=\"240\">\n",
    "> "
   ]
  },
  {
   "cell_type": "code",
   "execution_count": 48,
   "metadata": {},
   "outputs": [],
   "source": [
    "salaries = [22000, 21000, 26000, 31000, 19000, 21500, 800000, 24500, 25000, 24000]"
   ]
  },
  {
   "cell_type": "code",
   "execution_count": 49,
   "metadata": {},
   "outputs": [
    {
     "data": {
      "text/plain": [
       "101400.0"
      ]
     },
     "execution_count": 49,
     "metadata": {},
     "output_type": "execute_result"
    }
   ],
   "source": [
    "np.mean(salaries)"
   ]
  },
  {
   "cell_type": "code",
   "execution_count": 50,
   "metadata": {},
   "outputs": [
    {
     "data": {
      "text/plain": [
       "24250.0"
      ]
     },
     "execution_count": 50,
     "metadata": {},
     "output_type": "execute_result"
    }
   ],
   "source": [
    "np.median(salaries)"
   ]
  },
  {
   "cell_type": "markdown",
   "metadata": {},
   "source": [
    "> **EXERCISE**: Download [this CSV file](https://gist.githubusercontent.com/aakashns/f7d8f99c391f0727270e27e157460e3a/raw/2128978f3297f39ca4237a9ff843c80dd44ca4e3/stocks_returns.csv) containing information about the returns on stock price for several public companies. Find the average returns and the median returns. Based on this information, can you explain if it's better to have a diversified or a focused investment portfolio?"
   ]
  },
  {
   "cell_type": "code",
   "execution_count": 107,
   "metadata": {},
   "outputs": [],
   "source": [
    "stocks_url = 'https://gist.githubusercontent.com/aakashns/7d96d0b9af1c897fe30d1e782314f68e/raw/dc30a5d3e70683407fd16a4a14c56eb05ae82bcc/stock_returns.csv'"
   ]
  },
  {
   "cell_type": "code",
   "execution_count": 108,
   "metadata": {},
   "outputs": [],
   "source": [
    "dataframe=pd.read_csv(stocks_url)"
   ]
  },
  {
   "cell_type": "code",
   "execution_count": 109,
   "metadata": {},
   "outputs": [
    {
     "data": {
      "text/html": [
       "<div>\n",
       "<style scoped>\n",
       "    .dataframe tbody tr th:only-of-type {\n",
       "        vertical-align: middle;\n",
       "    }\n",
       "\n",
       "    .dataframe tbody tr th {\n",
       "        vertical-align: top;\n",
       "    }\n",
       "\n",
       "    .dataframe thead th {\n",
       "        text-align: right;\n",
       "    }\n",
       "</style>\n",
       "<table border=\"1\" class=\"dataframe\">\n",
       "  <thead>\n",
       "    <tr style=\"text-align: right;\">\n",
       "      <th></th>\n",
       "      <th>symbol</th>\n",
       "      <th>return</th>\n",
       "    </tr>\n",
       "  </thead>\n",
       "  <tbody>\n",
       "    <tr>\n",
       "      <th>0</th>\n",
       "      <td>KRNT</td>\n",
       "      <td>57.38</td>\n",
       "    </tr>\n",
       "    <tr>\n",
       "      <th>1</th>\n",
       "      <td>TCX</td>\n",
       "      <td>23.95</td>\n",
       "    </tr>\n",
       "    <tr>\n",
       "      <th>2</th>\n",
       "      <td>IIN</td>\n",
       "      <td>39.05</td>\n",
       "    </tr>\n",
       "    <tr>\n",
       "      <th>3</th>\n",
       "      <td>ATHM</td>\n",
       "      <td>37.19</td>\n",
       "    </tr>\n",
       "    <tr>\n",
       "      <th>4</th>\n",
       "      <td>SITO</td>\n",
       "      <td>44.31</td>\n",
       "    </tr>\n",
       "  </tbody>\n",
       "</table>\n",
       "</div>"
      ],
      "text/plain": [
       "  symbol  return\n",
       "0   KRNT   57.38\n",
       "1    TCX   23.95\n",
       "2    IIN   39.05\n",
       "3   ATHM   37.19\n",
       "4   SITO   44.31"
      ]
     },
     "execution_count": 109,
     "metadata": {},
     "output_type": "execute_result"
    }
   ],
   "source": [
    "dataframe.head(5)"
   ]
  },
  {
   "cell_type": "code",
   "execution_count": 110,
   "metadata": {},
   "outputs": [],
   "source": [
    "stock_return =dataframe['return']"
   ]
  },
  {
   "cell_type": "code",
   "execution_count": 55,
   "metadata": {},
   "outputs": [
    {
     "data": {
      "text/plain": [
       "38.14"
      ]
     },
     "execution_count": 55,
     "metadata": {},
     "output_type": "execute_result"
    }
   ],
   "source": [
    "np.median(stock_return)"
   ]
  },
  {
   "cell_type": "code",
   "execution_count": 111,
   "metadata": {
    "scrolled": true
   },
   "outputs": [
    {
     "data": {
      "text/plain": [
       "62.49580000000002"
      ]
     },
     "execution_count": 111,
     "metadata": {},
     "output_type": "execute_result"
    }
   ],
   "source": [
    "np.mean(stock_return)"
   ]
  },
  {
   "cell_type": "markdown",
   "metadata": {},
   "source": [
    "> **EXERCISE**: What is the relationship between the mean and median of a set of values? Is the mean always greater than the median (or vice versa)? Can they be equal? Demonstrate with examples."
   ]
  },
  {
   "cell_type": "code",
   "execution_count": null,
   "metadata": {},
   "outputs": [],
   "source": []
  },
  {
   "cell_type": "code",
   "execution_count": null,
   "metadata": {},
   "outputs": [],
   "source": []
  },
  {
   "cell_type": "markdown",
   "metadata": {},
   "source": [
    "Let's save our work before continuing."
   ]
  },
  {
   "cell_type": "code",
   "execution_count": 57,
   "metadata": {},
   "outputs": [
    {
     "data": {
      "application/javascript": [
       "window.require && require([\"base/js/namespace\"],function(Jupyter){Jupyter.notebook.save_checkpoint()})"
      ],
      "text/plain": [
       "<IPython.core.display.Javascript object>"
      ]
     },
     "metadata": {},
     "output_type": "display_data"
    },
    {
     "name": "stdout",
     "output_type": "stream",
     "text": [
      "[jovian] Attempting to save notebook..\n",
      "[jovian] Updating notebook \"pritesh009/statistics-measures-of-central-tendency\" on https://jovian.ai/\n",
      "[jovian] Uploading notebook..\n",
      "[jovian] Capturing environment..\n",
      "[jovian] Committed successfully! https://jovian.ai/pritesh009/statistics-measures-of-central-tendency\n"
     ]
    },
    {
     "data": {
      "text/plain": [
       "'https://jovian.ai/pritesh009/statistics-measures-of-central-tendency'"
      ]
     },
     "execution_count": 57,
     "metadata": {},
     "output_type": "execute_result"
    }
   ],
   "source": [
    "jovian.commit()"
   ]
  },
  {
   "cell_type": "markdown",
   "metadata": {},
   "source": [
    "### Percentiles\n",
    "\n",
    "The median divides the dataset into two halves, each with 50% of the observations. A percentile is the generalization of Median. The K-th percentile is a number equal to or larger than K % of the values in the set."
   ]
  },
  {
   "cell_type": "code",
   "execution_count": 61,
   "metadata": {},
   "outputs": [],
   "source": [
    "nums = [2, 4, 6, 12, 34, 89, 97, 125, 324, 982, 1024]"
   ]
  },
  {
   "cell_type": "markdown",
   "metadata": {},
   "source": [
    "The `np.percentile` function can be used to compute the k-th percentile."
   ]
  },
  {
   "cell_type": "code",
   "execution_count": 62,
   "metadata": {},
   "outputs": [
    {
     "data": {
      "text/plain": [
       "982.0"
      ]
     },
     "execution_count": 62,
     "metadata": {},
     "output_type": "execute_result"
    }
   ],
   "source": [
    "percentile_90 = np.percentile(nums, 90)\n",
    "percentile_90"
   ]
  },
  {
   "cell_type": "markdown",
   "metadata": {},
   "source": [
    "Verify that `percentile_90` is greater than or equal to 90% of the values in the set. "
   ]
  },
  {
   "cell_type": "markdown",
   "metadata": {},
   "source": [
    "\n",
    "\n",
    "> **EXERCISE**: Download [this CSV file](https://gist.githubusercontent.com/aakashns/5596c1d2d22d3c1ac287c8bf89d76a05/raw/ae588cb3711ba4ef441b578fafb47e911b27dcaf/billionaires.csv) containing information about the 100 richest people in the world according to Forbes. What is the ratio of the 90-th percentile and 10-the percentile net worth in the list?\n"
   ]
  },
  {
   "cell_type": "code",
   "execution_count": 116,
   "metadata": {},
   "outputs": [],
   "source": [
    "richest_url = 'https://gist.githubusercontent.com/aakashns/5596c1d2d22d3c1ac287c8bf89d76a05/raw/990fdd64d99cf5586fe19c83daf72988fb4a4746/billionaires.csv'\n",
    "dataframe=pd.read_csv(richest_url)\n",
    "net_worth=dataframe['net_worth_billions_usd']\n"
   ]
  },
  {
   "cell_type": "code",
   "execution_count": 63,
   "metadata": {},
   "outputs": [],
   "source": [
    "richest_url = 'https://gist.githubusercontent.com/aakashns/5596c1d2d22d3c1ac287c8bf89d76a05/raw/990fdd64d99cf5586fe19c83daf72988fb4a4746/billionaires.csv'"
   ]
  },
  {
   "cell_type": "code",
   "execution_count": 64,
   "metadata": {},
   "outputs": [],
   "source": [
    "dataframe=pd.read_csv(richest_url)"
   ]
  },
  {
   "cell_type": "code",
   "execution_count": 65,
   "metadata": {},
   "outputs": [],
   "source": [
    "net_worth=dataframe['net_worth_billions_usd']"
   ]
  },
  {
   "cell_type": "code",
   "execution_count": 66,
   "metadata": {},
   "outputs": [
    {
     "data": {
      "text/plain": [
       "4.067744418783681"
      ]
     },
     "execution_count": 66,
     "metadata": {},
     "output_type": "execute_result"
    }
   ],
   "source": [
    "np.percentile(net_worth,90)/np.percentile(net_worth,10)"
   ]
  },
  {
   "cell_type": "code",
   "execution_count": 37,
   "metadata": {},
   "outputs": [
    {
     "data": {
      "text/plain": [
       "12.99"
      ]
     },
     "execution_count": 37,
     "metadata": {},
     "output_type": "execute_result"
    }
   ],
   "source": [
    "np.percentile(net_worth,10)"
   ]
  },
  {
   "cell_type": "markdown",
   "metadata": {},
   "source": [
    "> **EXERCISE**: Download [this CSV file](https://gist.githubusercontent.com/aakashns/f7d8f99c391f0727270e27e157460e3a/raw/2128978f3297f39ca4237a9ff843c80dd44ca4e3/stocks_returns.csv) containing information about the returns on stock price for several public companies. What is the ratio of returns for the 95th percentile and 5th percentile in the list?"
   ]
  },
  {
   "cell_type": "code",
   "execution_count": null,
   "metadata": {},
   "outputs": [],
   "source": [
    "stocks_url = 'https://gist.githubusercontent.com/aakashns/7d96d0b9af1c897fe30d1e782314f68e/raw/dc30a5d3e70683407fd16a4a14c56eb05ae82bcc/stock_returns.csv'\n",
    "dataframe=pd.read_csv(stocks_url)\n",
    "stock_return =dataframe['return']"
   ]
  },
  {
   "cell_type": "code",
   "execution_count": 67,
   "metadata": {},
   "outputs": [],
   "source": [
    "stocks_url = 'https://gist.githubusercontent.com/aakashns/7d96d0b9af1c897fe30d1e782314f68e/raw/dc30a5d3e70683407fd16a4a14c56eb05ae82bcc/stock_returns.csv'"
   ]
  },
  {
   "cell_type": "code",
   "execution_count": 68,
   "metadata": {},
   "outputs": [],
   "source": [
    "dataframe=pd.read_csv(stocks_url)"
   ]
  },
  {
   "cell_type": "code",
   "execution_count": 73,
   "metadata": {},
   "outputs": [
    {
     "data": {
      "text/plain": [
       "24.1545"
      ]
     },
     "execution_count": 73,
     "metadata": {},
     "output_type": "execute_result"
    }
   ],
   "source": [
    "stock_return =dataframe['return']\n",
    "np.percentile(stock_return,5)"
   ]
  },
  {
   "cell_type": "code",
   "execution_count": 74,
   "metadata": {},
   "outputs": [
    {
     "data": {
      "text/plain": [
       "9.057442712538034"
      ]
     },
     "execution_count": 74,
     "metadata": {},
     "output_type": "execute_result"
    }
   ],
   "source": [
    "np.percentile(stock_return,95)/np.percentile(stock_return,5)"
   ]
  },
  {
   "cell_type": "code",
   "execution_count": 72,
   "metadata": {},
   "outputs": [
    {
     "data": {
      "text/plain": [
       "218.77799999999993"
      ]
     },
     "execution_count": 72,
     "metadata": {},
     "output_type": "execute_result"
    }
   ],
   "source": [
    "stock_return =dataframe['return']\n",
    "np.percentile(stock_return,95)"
   ]
  },
  {
   "cell_type": "markdown",
   "metadata": {},
   "source": [
    "> **EXERCISE**: The following table shows a summary of test scores for a class of students. 2 students scored 1 mark in the test, 3 students scored 2 marks, 8 students scored 3 marks and so on. Find the median score for the class.\n",
    ">\n",
    "> <img src=\"https://i.imgur.com/AD7m3gJ.png\" width=\"240\">\n",
    "> \n",
    "> This representation of the data is also known as a frequency table, because it shows how often a certain value occurs in the dataset."
   ]
  },
  {
   "cell_type": "code",
   "execution_count": null,
   "metadata": {},
   "outputs": [],
   "source": [
    "scores = [1, 2, 3, 4, 5, 6, 7, 8, 9, 10]\n",
    "num_students = [2, 3, 8, 7, 13, 18, 23, 12, 5, 1] \n",
    "nums =[]\n",
    "for i in range(len(scores)):\n",
    "    score = scores[i]\n",
    "    count = num_students[i]\n",
    "    #print(count)\n",
    "    for j in range(count):\n",
    "        #print(range(count))\n",
    "        nums.append(score)\n",
    "np.median(nums)\n"
   ]
  },
  {
   "cell_type": "code",
   "execution_count": 86,
   "metadata": {},
   "outputs": [],
   "source": [
    "scores = [1, 2, 3, 4, 5, 6, 7, 8, 9, 10]\n",
    "num_students = [2, 3, 8, 7, 13, 18, 23, 12, 5, 1] "
   ]
  },
  {
   "cell_type": "code",
   "execution_count": 88,
   "metadata": {},
   "outputs": [
    {
     "data": {
      "text/plain": [
       "6.0"
      ]
     },
     "execution_count": 88,
     "metadata": {},
     "output_type": "execute_result"
    }
   ],
   "source": [
    "nums =[]\n",
    "for i in range(len(scores)):\n",
    "    score = scores[i]\n",
    "    count = num_students[i]\n",
    "    #print(count)\n",
    "    for j in range(count):\n",
    "        #print(range(count))\n",
    "        nums.append(score)\n",
    "np.median(nums)\n",
    "        "
   ]
  },
  {
   "cell_type": "code",
   "execution_count": 89,
   "metadata": {},
   "outputs": [
    {
     "data": {
      "text/plain": [
       "92"
      ]
     },
     "execution_count": 89,
     "metadata": {},
     "output_type": "execute_result"
    }
   ],
   "source": [
    "np.sum(num_students)"
   ]
  },
  {
   "cell_type": "markdown",
   "metadata": {},
   "source": [
    "### Quartiles and Range\n",
    "\n",
    "Quartiles are numbers that divide a dataset into 4 equal parts (or quarters). A dataset has three quartiles:\n",
    "\n",
    "1. **1st Quartile or Q1**: 25% of values lie below it i.e. it's the 25th percentile\n",
    "2. **2nd Quartile or Q2**: 50% of values lie below it i.e. it's the median or 50th percentile\n",
    "3. **3rd Quartile or Q3**: 75% of values lie below it i.e. it's the 75th percentile\n",
    "\n",
    "<img src=\"https://i.imgur.com/SQXnns4.png\" width=\"360\">\n",
    "\n",
    "> **EXERCISE:** Write a function `quartiles` which computes the quartiles for a set of numbers.\n",
    "> \n",
    "> *Hint*: Use `np.percentile`."
   ]
  },
  {
   "cell_type": "code",
   "execution_count": 91,
   "metadata": {},
   "outputs": [],
   "source": [
    "def quartiles(nums):\n",
    "    return np.percentile(nums,25),np.percentile(nums,50),np.percentile(nums,75)"
   ]
  },
  {
   "cell_type": "code",
   "execution_count": 92,
   "metadata": {},
   "outputs": [],
   "source": [
    "nums = [1, 3, 3, 4, 5, 6, 6, 7, 8, 8]"
   ]
  },
  {
   "cell_type": "code",
   "execution_count": 93,
   "metadata": {},
   "outputs": [
    {
     "data": {
      "text/plain": [
       "(3.25, 5.5, 6.75)"
      ]
     },
     "execution_count": 93,
     "metadata": {},
     "output_type": "execute_result"
    }
   ],
   "source": [
    "quartiles(nums)"
   ]
  },
  {
   "cell_type": "markdown",
   "metadata": {},
   "source": [
    "The first and third quartiles have fractional values because no specific number in the set achieves a perfect split."
   ]
  },
  {
   "cell_type": "markdown",
   "metadata": {},
   "source": [
    "The range of a set of numbers is defined by two values: the minimum and the maximum. Ranges and quartiles are often used together to get a sense of the spread and distribution of values in a dataset.\n",
    "\n",
    "> **EXERCISE**: Write a function `datarange` to determine the range of a list of numbers. \n",
    "\n",
    "Note that Python already has a built-in function called `range` (which is different from the statistical range defined here), so we'll name our function `datarange`."
   ]
  },
  {
   "cell_type": "code",
   "execution_count": 95,
   "metadata": {},
   "outputs": [],
   "source": [
    "def datarange(nums):\n",
    "    # write code here\n",
    "    return np.min(nums),np.max(nums)"
   ]
  },
  {
   "cell_type": "code",
   "execution_count": 96,
   "metadata": {},
   "outputs": [
    {
     "data": {
      "text/plain": [
       "(1, 8)"
      ]
     },
     "execution_count": 96,
     "metadata": {},
     "output_type": "execute_result"
    }
   ],
   "source": [
    "datarange(nums)"
   ]
  },
  {
   "cell_type": "markdown",
   "metadata": {},
   "source": [
    "Let's try a few exercises with quartiles and ranges.\n",
    "\n",
    "> **EXERCISE**: Compute the quartiles for the net worth and age of the 100 richest people in the world using the relevant dataset from the previous section. "
   ]
  },
  {
   "cell_type": "code",
   "execution_count": 104,
   "metadata": {},
   "outputs": [
    {
     "data": {
      "text/plain": [
       "(14.075, 17.05, 28.450000000000003)"
      ]
     },
     "execution_count": 104,
     "metadata": {},
     "output_type": "execute_result"
    }
   ],
   "source": [
    "quartiles(net_worth)"
   ]
  },
  {
   "cell_type": "code",
   "execution_count": 105,
   "metadata": {},
   "outputs": [
    {
     "data": {
      "text/plain": [
       "(56.0, 67.5, 79.0)"
      ]
     },
     "execution_count": 105,
     "metadata": {},
     "output_type": "execute_result"
    }
   ],
   "source": [
    "quartiles(age)"
   ]
  },
  {
   "cell_type": "markdown",
   "metadata": {},
   "source": [
    ">  **EXERCISE**:  Download [this CSV file](https://gist.githubusercontent.com/aakashns/f7d8f99c391f0727270e27e157460e3a/raw/2128978f3297f39ca4237a9ff843c80dd44ca4e3/stocks_returns.csv) containing information about the returns on stock price for several public companies and compute the quartiles for the returns. "
   ]
  },
  {
   "cell_type": "code",
   "execution_count": 123,
   "metadata": {},
   "outputs": [],
   "source": [
    "stocks_url = 'https://gist.githubusercontent.com/aakashns/7d96d0b9af1c897fe30d1e782314f68e/raw/dc30a5d3e70683407fd16a4a14c56eb05ae82bcc/stock_returns.csv'\n",
    "dataframe=pd.read_csv(stocks_url)\n",
    "stock_return =dataframe['return']"
   ]
  },
  {
   "cell_type": "code",
   "execution_count": 124,
   "metadata": {},
   "outputs": [
    {
     "data": {
      "text/plain": [
       "(28.604999999999997, 38.14, 53.5125)"
      ]
     },
     "execution_count": 124,
     "metadata": {},
     "output_type": "execute_result"
    }
   ],
   "source": [
    "quartiles(stock_return)"
   ]
  },
  {
   "cell_type": "markdown",
   "metadata": {},
   "source": [
    "### Box and Whiskers Plot\n",
    "\n",
    "The range and quartiles of a set of numbers are often plotted using a \"box-and-whiskers\" plot (sometimes just called a box plot). \n",
    "\n",
    "We can use the `seaborn"
   ]
  },
  {
   "cell_type": "code",
   "execution_count": 113,
   "metadata": {},
   "outputs": [],
   "source": [
    "# Import the library\n",
    "!pip install seaborn --upgrade --quiet"
   ]
  },
  {
   "cell_type": "code",
   "execution_count": 114,
   "metadata": {},
   "outputs": [],
   "source": [
    "import seaborn"
   ]
  },
  {
   "cell_type": "code",
   "execution_count": 115,
   "metadata": {
    "scrolled": true
   },
   "outputs": [
    {
     "data": {
      "image/png": "[encoded data removed]",
      "text/plain": [
       "<Figure size 432x288 with 1 Axes>"
      ]
     },
     "metadata": {
      "needs_background": "light"
     },
     "output_type": "display_data"
    }
   ],
   "source": [
    "nums = [1, 3, 3, 4, 5, 6, 6, 7, 8, 8]\n",
    "\n",
    "seaborn.boxplot(x=nums).set_title('Range and Quartiles');"
   ]
  },
  {
   "cell_type": "markdown",
   "metadata": {},
   "source": [
    "The box represents the data between the first and third quartiles i.e. the middle 50% of values. The line cutting the box indicates the median. The lines or \"whiskers\" on each ends indicate the lower 25% and upper 25% of the data. The entire plot is bounded by the range of the data.\n",
    "\n",
    "We'll learn more about plotting in a lot more detail in a later lesson."
   ]
  },
  {
   "cell_type": "markdown",
   "metadata": {},
   "source": [
    "> **EXERCISE**: Create a box and whiskers plot to visualize the range and quartiles for the net worth of the hundred richest people in the world."
   ]
  },
  {
   "cell_type": "code",
   "execution_count": 118,
   "metadata": {},
   "outputs": [],
   "source": [
    "richest_url = 'https://gist.githubusercontent.com/aakashns/5596c1d2d22d3c1ac287c8bf89d76a05/raw/990fdd64d99cf5586fe19c83daf72988fb4a4746/billionaires.csv'\n",
    "dataframe=pd.read_csv(richest_url)\n",
    "net_worth=dataframe['net_worth_billions_usd']"
   ]
  },
  {
   "cell_type": "code",
   "execution_count": 122,
   "metadata": {},
   "outputs": [
    {
     "data": {
      "text/plain": [
       "Text(0.5, 1.0, 'Range and Qurtile')"
      ]
     },
     "execution_count": 122,
     "metadata": {},
     "output_type": "execute_result"
    },
    {
     "data": {
      "image/png": "[encoded data removed]",
      "text/plain": [
       "<Figure size 432x288 with 1 Axes>"
      ]
     },
     "metadata": {
      "needs_background": "light"
     },
     "output_type": "display_data"
    }
   ],
   "source": [
    "seaborn.boxplot(x=net_worth).set_title('Range and Qurtile')"
   ]
  },
  {
   "cell_type": "code",
   "execution_count": null,
   "metadata": {},
   "outputs": [],
   "source": []
  },
  {
   "cell_type": "code",
   "execution_count": null,
   "metadata": {},
   "outputs": [],
   "source": []
  },
  {
   "cell_type": "markdown",
   "metadata": {},
   "source": [
    "> **EXERCISE**: Download [this CSV file](https://gist.githubusercontent.com/aakashns/f7d8f99c391f0727270e27e157460e3a/raw/2128978f3297f39ca4237a9ff843c80dd44ca4e3/stocks_returns.csv) containing information about the returns on stock price for several public companies. Create a box and whiskers plot to visualize the range and quartiles of the returns."
   ]
  },
  {
   "cell_type": "code",
   "execution_count": 126,
   "metadata": {},
   "outputs": [
    {
     "data": {
      "text/plain": [
       "<AxesSubplot:xlabel='return'>"
      ]
     },
     "execution_count": 126,
     "metadata": {},
     "output_type": "execute_result"
    },
    {
     "data": {
      "image/png": "[encoded data removed]",
      "text/plain": [
       "<Figure size 432x288 with 1 Axes>"
      ]
     },
     "metadata": {
      "needs_background": "light"
     },
     "output_type": "display_data"
    }
   ],
   "source": [
    "seaborn.boxplot(x=stock_return)"
   ]
  },
  {
   "cell_type": "code",
   "execution_count": null,
   "metadata": {},
   "outputs": [],
   "source": []
  },
  {
   "cell_type": "markdown",
   "metadata": {},
   "source": [
    "Let's save our work before continuing."
   ]
  },
  {
   "cell_type": "code",
   "execution_count": 51,
   "metadata": {},
   "outputs": [
    {
     "data": {
      "application/javascript": [
       "window.require && require([\"base/js/namespace\"],function(Jupyter){Jupyter.notebook.save_checkpoint()})"
      ],
      "text/plain": [
       "<IPython.core.display.Javascript object>"
      ]
     },
     "metadata": {},
     "output_type": "display_data"
    },
    {
     "name": "stdout",
     "output_type": "stream",
     "text": [
      "[jovian] Attempting to save notebook..\u001b[0m\n",
      "[jovian] Updating notebook \"aakashns/statistics-measures-of-central-tendency\" on https://jovian.ai/\u001b[0m\n",
      "[jovian] Uploading notebook..\u001b[0m\n",
      "[jovian] Capturing environment..\u001b[0m\n",
      "[jovian] Committed successfully! https://jovian.ai/aakashns/statistics-measures-of-central-tendency\u001b[0m\n"
     ]
    },
    {
     "data": {
      "text/plain": [
       "'https://jovian.ai/aakashns/statistics-measures-of-central-tendency'"
      ]
     },
     "execution_count": 51,
     "metadata": {},
     "output_type": "execute_result"
    }
   ],
   "source": [
    "jovian.commit()"
   ]
  },
  {
   "cell_type": "markdown",
   "metadata": {},
   "source": [
    "## Mode and Frequency Tables\n",
    "\n",
    "The mode of a set of values is simply the most frequently occurring value in the set. E.g. the mode of the list `[1, 2, 3, 4, 4, 4, 4, 4, 5, 6, 7, 7, 7, 8]` is `4` because it occurs more times than any other value.\n",
    "\n",
    "If there isn't a single value that occurs most frequently, all the values are occur most frequently are modes. The data is said to be *multimodal* in such cases. E.g. The set `[3, 1, 4, 1, 5, 4]` has two modes, `1` and `4`, which both occur twice.\n",
    "\n",
    "Unlike mean and median, mode is not limited to numbers, it is defined for any set of values. The mode of the set of values `['red', 'green', 'blue', 'green', 'red', 'green', 'green']` is `'green'`.\n"
   ]
  },
  {
   "cell_type": "markdown",
   "metadata": {},
   "source": [
    "> **QUESTION**: Write a function to compute the mode(s) of a list of values.\n",
    "\n",
    "Before we can find the mode, we need a way to count the number of times each value in the list occurs. Let's create a helper function `count_occurrences` to do this."
   ]
  },
  {
   "cell_type": "code",
   "execution_count": 19,
   "metadata": {},
   "outputs": [],
   "source": [
    "def count_occurrences(elements):\n",
    "    # Create a dictionary of results\n",
    "    counts = {}\n",
    "    # Go over each element in the list\n",
    "    for element in elements:\n",
    "        # Check we already have an entry for it\n",
    "        if element in counts:\n",
    "            # Increment the count\n",
    "            counts[element] += 1\n",
    "        else:\n",
    "            # If not present already, create an entry\n",
    "            counts[element] = 1\n",
    "    # Return the dictionary of results\n",
    "    return counts"
   ]
  },
  {
   "cell_type": "markdown",
   "metadata": {},
   "source": [
    "`count_occurrences` returns a dictionary with unique values from the list as keys and the no. of times they occur in the list as values."
   ]
  },
  {
   "cell_type": "code",
   "execution_count": 132,
   "metadata": {},
   "outputs": [],
   "source": [
    "nums1 = [1, 2, 3, 4, 4, 4, 4, 4, 5, 6, 7, 7, 7, 8]\n",
    "nums2 = [3, 1, 4, 1, 5, 4] \n",
    "vals1 = ['red', 'green', 'blue', 'green', 'red', 'green', 'green']"
   ]
  },
  {
   "cell_type": "code",
   "execution_count": 133,
   "metadata": {},
   "outputs": [
    {
     "data": {
      "text/plain": [
       "{1: 1, 2: 1, 3: 1, 4: 5, 5: 1, 6: 1, 7: 3, 8: 1}"
      ]
     },
     "execution_count": 133,
     "metadata": {},
     "output_type": "execute_result"
    }
   ],
   "source": [
    "count_occurrences(nums1)"
   ]
  },
  {
   "cell_type": "code",
   "execution_count": 134,
   "metadata": {},
   "outputs": [
    {
     "data": {
      "text/plain": [
       "{3: 1, 1: 2, 4: 2, 5: 1}"
      ]
     },
     "execution_count": 134,
     "metadata": {},
     "output_type": "execute_result"
    }
   ],
   "source": [
    "count_occurrences(nums2)"
   ]
  },
  {
   "cell_type": "code",
   "execution_count": 135,
   "metadata": {},
   "outputs": [
    {
     "data": {
      "text/plain": [
       "{'red': 2, 'green': 4, 'blue': 1}"
      ]
     },
     "execution_count": 135,
     "metadata": {},
     "output_type": "execute_result"
    }
   ],
   "source": [
    "count_occurrences(vals1)"
   ]
  },
  {
   "cell_type": "markdown",
   "metadata": {},
   "source": [
    "The result of `count_occurrences` is also called a frequency table, as it shows how frequently each value occurs in the dataset. It is often shown in a tabular form:\n",
    "\n",
    "<img src=\"https://i.imgur.com/MeRJqAg.png\" width=\"240\">\n",
    "\n",
    "We can now use `count_occurrences` to define the `mode` function."
   ]
  },
  {
   "cell_type": "code",
   "execution_count": 14,
   "metadata": {},
   "outputs": [],
   "source": [
    "def mode(elements):\n",
    "    # Count the no. of occurences of each value\n",
    "    counts = count_occurrences(elements)\n",
    "    # Get the maximum no. of occurences of any value\n",
    "    max_count = max(counts.values())\n",
    "    # Make a list of the matching elements\n",
    "    results = []\n",
    "    # Iterate over unique elements\n",
    "    for element in counts:\n",
    "        # Check if its count matches max_count\n",
    "        if counts[element] == max_count:\n",
    "            # Add it to results\n",
    "            results.append(element)\n",
    "    return results"
   ]
  },
  {
   "cell_type": "markdown",
   "metadata": {},
   "source": [
    "Let's try out the mode function with some examples."
   ]
  },
  {
   "cell_type": "code",
   "execution_count": 137,
   "metadata": {},
   "outputs": [
    {
     "data": {
      "text/plain": [
       "[4]"
      ]
     },
     "execution_count": 137,
     "metadata": {},
     "output_type": "execute_result"
    }
   ],
   "source": [
    "mode(nums1)"
   ]
  },
  {
   "cell_type": "code",
   "execution_count": 138,
   "metadata": {},
   "outputs": [
    {
     "data": {
      "text/plain": [
       "[1, 4]"
      ]
     },
     "execution_count": 138,
     "metadata": {},
     "output_type": "execute_result"
    }
   ],
   "source": [
    "mode(nums2)"
   ]
  },
  {
   "cell_type": "code",
   "execution_count": 139,
   "metadata": {},
   "outputs": [
    {
     "data": {
      "text/plain": [
       "['green']"
      ]
     },
     "execution_count": 139,
     "metadata": {},
     "output_type": "execute_result"
    }
   ],
   "source": [
    "mode(vals1)"
   ]
  },
  {
   "cell_type": "markdown",
   "metadata": {},
   "source": [
    "The function works as expected! The numpy module doesn't provide a function to compute the mode of a set of numbers, so we'll continue using our custom function."
   ]
  },
  {
   "cell_type": "code",
   "execution_count": null,
   "metadata": {},
   "outputs": [],
   "source": []
  },
  {
   "cell_type": "code",
   "execution_count": null,
   "metadata": {},
   "outputs": [],
   "source": []
  },
  {
   "cell_type": "code",
   "execution_count": null,
   "metadata": {},
   "outputs": [],
   "source": []
  },
  {
   "cell_type": "markdown",
   "metadata": {},
   "source": [
    "> **EXERCISE**: As a data analyst at the online streaming platform FlixNet, you've been asked to come up with a simple strategy to recommend new movies for users to watch. FlixNet allows users to connect their social accounts, so you have a list of friends for every user. You believe that users would like to watch movies which most of their friends have watched.\n",
    ">\n",
    "> To illustrate the strategy, let's look at the relevant data for one FlixNet user: Alfred. The table below shows the movies watched by friends of Alfred. We've excluded the movies Alfred has already watched from this list. This file is available as [a CSV here](https://gist.githubusercontent.com/aakashns/6b44891b426e90f771d3b147a0bb77d5/raw/9a3b8d89947c2e427b9c68454b3d66e7eae047e3/friends_movies.csv).\n",
    ">\n",
    "> Which movie should you recommend to Alfred?\n",
    "> \n",
    "> <img src=\"https://i.imgur.com/qYyTa7n.png\" width=\"240\">\n",
    "\n"
   ]
  },
  {
   "cell_type": "code",
   "execution_count": 140,
   "metadata": {},
   "outputs": [],
   "source": [
    "movies_url = 'https://gist.githubusercontent.com/aakashns/6b44891b426e90f771d3b147a0bb77d5/raw/9a3b8d89947c2e427b9c68454b3d66e7eae047e3/friends_movies.csv'"
   ]
  },
  {
   "cell_type": "code",
   "execution_count": 141,
   "metadata": {},
   "outputs": [],
   "source": [
    "dataframe = pd.read_csv(movies_url)"
   ]
  },
  {
   "cell_type": "code",
   "execution_count": 143,
   "metadata": {},
   "outputs": [
    {
     "data": {
      "text/html": [
       "<div>\n",
       "<style scoped>\n",
       "    .dataframe tbody tr th:only-of-type {\n",
       "        vertical-align: middle;\n",
       "    }\n",
       "\n",
       "    .dataframe tbody tr th {\n",
       "        vertical-align: top;\n",
       "    }\n",
       "\n",
       "    .dataframe thead th {\n",
       "        text-align: right;\n",
       "    }\n",
       "</style>\n",
       "<table border=\"1\" class=\"dataframe\">\n",
       "  <thead>\n",
       "    <tr style=\"text-align: right;\">\n",
       "      <th></th>\n",
       "      <th>friend_name</th>\n",
       "      <th>movie</th>\n",
       "    </tr>\n",
       "  </thead>\n",
       "  <tbody>\n",
       "    <tr>\n",
       "      <th>0</th>\n",
       "      <td>Bruce</td>\n",
       "      <td>Interstellar</td>\n",
       "    </tr>\n",
       "    <tr>\n",
       "      <th>1</th>\n",
       "      <td>Jane</td>\n",
       "      <td>The Prestige</td>\n",
       "    </tr>\n",
       "    <tr>\n",
       "      <th>2</th>\n",
       "      <td>Samir</td>\n",
       "      <td>Mememto</td>\n",
       "    </tr>\n",
       "    <tr>\n",
       "      <th>3</th>\n",
       "      <td>Bruce</td>\n",
       "      <td>Tenet</td>\n",
       "    </tr>\n",
       "    <tr>\n",
       "      <th>4</th>\n",
       "      <td>Samir</td>\n",
       "      <td>The Dark Knight</td>\n",
       "    </tr>\n",
       "  </tbody>\n",
       "</table>\n",
       "</div>"
      ],
      "text/plain": [
       "  friend_name            movie\n",
       "0       Bruce     Interstellar\n",
       "1        Jane     The Prestige\n",
       "2       Samir          Mememto\n",
       "3       Bruce            Tenet\n",
       "4       Samir  The Dark Knight"
      ]
     },
     "execution_count": 143,
     "metadata": {},
     "output_type": "execute_result"
    }
   ],
   "source": [
    "dataframe.head(5)"
   ]
  },
  {
   "cell_type": "code",
   "execution_count": 145,
   "metadata": {},
   "outputs": [],
   "source": [
    "movie = dataframe['movie']"
   ]
  },
  {
   "cell_type": "code",
   "execution_count": 146,
   "metadata": {},
   "outputs": [
    {
     "data": {
      "text/plain": [
       "['The Dark Knight']"
      ]
     },
     "execution_count": 146,
     "metadata": {},
     "output_type": "execute_result"
    }
   ],
   "source": [
    "mode(movie)"
   ]
  },
  {
   "cell_type": "code",
   "execution_count": null,
   "metadata": {},
   "outputs": [],
   "source": []
  },
  {
   "cell_type": "markdown",
   "metadata": {},
   "source": [
    "> **EXERCISE**: Your friend Alex designs shoes as a hobby, and you've persuaded her to start selling her shoes online. You've found a vendor who can manufacture, store and ship the shoes for you. You've requested some sample units from the vendor to inspect the quality of the shoes. However, the vendor does not manufacture fewer than 100 units of single shoe size. Which shoe size would you like them to manufacture?\n",
    "> \n",
    "> You may find [this CSV file](https://gist.githubusercontent.com/aakashns/0754b375153cd74350315a6eedd2841e/raw/dd399f8f779b10fce4eaa021c309ebb6d9cc974e/shoe_sizes.csv) containing a list of shoes recently sold by an online store useful."
   ]
  },
  {
   "cell_type": "code",
   "execution_count": 148,
   "metadata": {},
   "outputs": [],
   "source": [
    "shoes_url = 'https://gist.githubusercontent.com/aakashns/0754b375153cd74350315a6eedd2841e/raw/dd399f8f779b10fce4eaa021c309ebb6d9cc974e/shoe_sizes.csv'"
   ]
  },
  {
   "cell_type": "code",
   "execution_count": 149,
   "metadata": {},
   "outputs": [],
   "source": [
    "dataframe = pd.read_csv(shoes_url)"
   ]
  },
  {
   "cell_type": "code",
   "execution_count": 150,
   "metadata": {},
   "outputs": [
    {
     "data": {
      "text/html": [
       "<div>\n",
       "<style scoped>\n",
       "    .dataframe tbody tr th:only-of-type {\n",
       "        vertical-align: middle;\n",
       "    }\n",
       "\n",
       "    .dataframe tbody tr th {\n",
       "        vertical-align: top;\n",
       "    }\n",
       "\n",
       "    .dataframe thead th {\n",
       "        text-align: right;\n",
       "    }\n",
       "</style>\n",
       "<table border=\"1\" class=\"dataframe\">\n",
       "  <thead>\n",
       "    <tr style=\"text-align: right;\">\n",
       "      <th></th>\n",
       "      <th>Company</th>\n",
       "      <th>Price</th>\n",
       "      <th>Size</th>\n",
       "    </tr>\n",
       "  </thead>\n",
       "  <tbody>\n",
       "    <tr>\n",
       "      <th>0</th>\n",
       "      <td>Puma</td>\n",
       "      <td>₹2,969</td>\n",
       "      <td>9</td>\n",
       "    </tr>\n",
       "    <tr>\n",
       "      <th>1</th>\n",
       "      <td>Puma</td>\n",
       "      <td>₹2,279</td>\n",
       "      <td>8</td>\n",
       "    </tr>\n",
       "    <tr>\n",
       "      <th>2</th>\n",
       "      <td>Deals4you</td>\n",
       "      <td>₹397</td>\n",
       "      <td>7</td>\n",
       "    </tr>\n",
       "    <tr>\n",
       "      <th>3</th>\n",
       "      <td>MILESWALKER</td>\n",
       "      <td>₹379</td>\n",
       "      <td>11</td>\n",
       "    </tr>\n",
       "    <tr>\n",
       "      <th>4</th>\n",
       "      <td>Chevit</td>\n",
       "      <td>₹389</td>\n",
       "      <td>7</td>\n",
       "    </tr>\n",
       "  </tbody>\n",
       "</table>\n",
       "</div>"
      ],
      "text/plain": [
       "       Company   Price  Size\n",
       "0         Puma  ₹2,969     9\n",
       "1         Puma  ₹2,279     8\n",
       "2    Deals4you    ₹397     7\n",
       "3  MILESWALKER    ₹379    11\n",
       "4       Chevit    ₹389     7"
      ]
     },
     "execution_count": 150,
     "metadata": {},
     "output_type": "execute_result"
    }
   ],
   "source": [
    "dataframe.head(5)"
   ]
  },
  {
   "cell_type": "code",
   "execution_count": 155,
   "metadata": {},
   "outputs": [
    {
     "data": {
      "text/plain": [
       "[9]"
      ]
     },
     "execution_count": 155,
     "metadata": {},
     "output_type": "execute_result"
    }
   ],
   "source": [
    "shoe_size = dataframe['Size']\n",
    "mode(shoe_size)"
   ]
  },
  {
   "cell_type": "markdown",
   "metadata": {},
   "source": [
    "Sometimes you may be given a frequency table instead of a full list of numbers.\n",
    "\n",
    "> **EXERCISE**: The following table shows the votes earned by candidates competiting the 2000 US Presidential Election. This table is also available [as a CSV here](https://gist.githubusercontent.com/aakashns/0f137d0fd21635f82ee1a81d8bd1a804/raw/12006b199ad5b3f4b20c853daeb8bb0e1b9847e7/us_2000_results.csv).\n",
    ">\n",
    "> <img src=\"https://i.imgur.com/f8hcMh9.png\" width=\"480\">\n",
    ">\n",
    "> *Hint*: Define a function `frequency_table_mode` which compute the mode from a frequency table."
   ]
  },
  {
   "cell_type": "code",
   "execution_count": 161,
   "metadata": {},
   "outputs": [
    {
     "data": {
      "text/html": [
       "<div>\n",
       "<style scoped>\n",
       "    .dataframe tbody tr th:only-of-type {\n",
       "        vertical-align: middle;\n",
       "    }\n",
       "\n",
       "    .dataframe tbody tr th {\n",
       "        vertical-align: top;\n",
       "    }\n",
       "\n",
       "    .dataframe thead th {\n",
       "        text-align: right;\n",
       "    }\n",
       "</style>\n",
       "<table border=\"1\" class=\"dataframe\">\n",
       "  <thead>\n",
       "    <tr style=\"text-align: right;\">\n",
       "      <th></th>\n",
       "      <th>Candidate</th>\n",
       "      <th>Party</th>\n",
       "      <th>State</th>\n",
       "      <th>Votes</th>\n",
       "    </tr>\n",
       "  </thead>\n",
       "  <tbody>\n",
       "    <tr>\n",
       "      <th>0</th>\n",
       "      <td>Howard Phillips</td>\n",
       "      <td>Constitution</td>\n",
       "      <td>Virginia</td>\n",
       "      <td>98020</td>\n",
       "    </tr>\n",
       "    <tr>\n",
       "      <th>1</th>\n",
       "      <td>John Hagelin</td>\n",
       "      <td>Natural Law</td>\n",
       "      <td>Iowa</td>\n",
       "      <td>83714</td>\n",
       "    </tr>\n",
       "    <tr>\n",
       "      <th>2</th>\n",
       "      <td>Ralph Nader</td>\n",
       "      <td>Green</td>\n",
       "      <td>Connecticut</td>\n",
       "      <td>2882955</td>\n",
       "    </tr>\n",
       "    <tr>\n",
       "      <th>3</th>\n",
       "      <td>George Walker Bush</td>\n",
       "      <td>Republican</td>\n",
       "      <td>Texas</td>\n",
       "      <td>50456002</td>\n",
       "    </tr>\n",
       "    <tr>\n",
       "      <th>4</th>\n",
       "      <td>Harry Browne</td>\n",
       "      <td>Libertarian</td>\n",
       "      <td>Tennessee</td>\n",
       "      <td>384431</td>\n",
       "    </tr>\n",
       "    <tr>\n",
       "      <th>5</th>\n",
       "      <td>Albert Arnold Gore Jr.</td>\n",
       "      <td>Democratic</td>\n",
       "      <td>Tennessee</td>\n",
       "      <td>50999897</td>\n",
       "    </tr>\n",
       "    <tr>\n",
       "      <th>6</th>\n",
       "      <td>Pat Buchanan</td>\n",
       "      <td>Reform</td>\n",
       "      <td>Virginia</td>\n",
       "      <td>448895</td>\n",
       "    </tr>\n",
       "  </tbody>\n",
       "</table>\n",
       "</div>"
      ],
      "text/plain": [
       "                Candidate         Party        State     Votes\n",
       "0         Howard Phillips  Constitution     Virginia     98020\n",
       "1            John Hagelin   Natural Law         Iowa     83714\n",
       "2             Ralph Nader         Green  Connecticut   2882955\n",
       "3      George Walker Bush    Republican        Texas  50456002\n",
       "4            Harry Browne   Libertarian    Tennessee    384431\n",
       "5  Albert Arnold Gore Jr.    Democratic    Tennessee  50999897\n",
       "6            Pat Buchanan        Reform     Virginia    448895"
      ]
     },
     "execution_count": 161,
     "metadata": {},
     "output_type": "execute_result"
    }
   ],
   "source": [
    "election_results_url = 'https://gist.githubusercontent.com/aakashns/0f137d0fd21635f82ee1a81d8bd1a804/raw/12006b199ad5b3f4b20c853daeb8bb0e1b9847e7/us_2000_results.csv'\n",
    "dataframe=pd.read_csv(election_results_url)\n",
    "elc_vote=dataframe['Votes']\n",
    "elc_candidate =dataframe['Candidate']\n",
    "dataframe"
   ]
  },
  {
   "cell_type": "code",
   "execution_count": 171,
   "metadata": {},
   "outputs": [],
   "source": [
    "def frequency_table_mode(values, counts):\n",
    "    max_num=np.max(counts)\n",
    "    for i in range(len(counts)):\n",
    "        if counts[i] == max_num:\n",
    "            break\n",
    "    \n",
    "    return (values[i]) "
   ]
  },
  {
   "cell_type": "code",
   "execution_count": 173,
   "metadata": {},
   "outputs": [
    {
     "data": {
      "text/plain": [
       "'Albert Arnold Gore Jr.'"
      ]
     },
     "execution_count": 173,
     "metadata": {},
     "output_type": "execute_result"
    }
   ],
   "source": [
    "frequency_table_mode(elc_candidate,elc_vote)"
   ]
  },
  {
   "cell_type": "code",
   "execution_count": null,
   "metadata": {},
   "outputs": [],
   "source": []
  },
  {
   "cell_type": "code",
   "execution_count": null,
   "metadata": {},
   "outputs": [],
   "source": []
  },
  {
   "cell_type": "markdown",
   "metadata": {},
   "source": [
    "Let's save our work before continuing."
   ]
  },
  {
   "cell_type": "code",
   "execution_count": 65,
   "metadata": {},
   "outputs": [
    {
     "data": {
      "application/javascript": [
       "window.require && require([\"base/js/namespace\"],function(Jupyter){Jupyter.notebook.save_checkpoint()})"
      ],
      "text/plain": [
       "<IPython.core.display.Javascript object>"
      ]
     },
     "metadata": {},
     "output_type": "display_data"
    },
    {
     "name": "stdout",
     "output_type": "stream",
     "text": [
      "[jovian] Attempting to save notebook..\u001b[0m\n",
      "[jovian] Updating notebook \"aakashns/statistics-measures-of-central-tendency\" on https://jovian.ai/\u001b[0m\n",
      "[jovian] Uploading notebook..\u001b[0m\n",
      "[jovian] Capturing environment..\u001b[0m\n",
      "[jovian] Committed successfully! https://jovian.ai/aakashns/statistics-measures-of-central-tendency\u001b[0m\n"
     ]
    },
    {
     "data": {
      "text/plain": [
       "'https://jovian.ai/aakashns/statistics-measures-of-central-tendency'"
      ]
     },
     "execution_count": 65,
     "metadata": {},
     "output_type": "execute_result"
    }
   ],
   "source": [
    "jovian.commit()"
   ]
  },
  {
   "cell_type": "markdown",
   "metadata": {},
   "source": [
    "## Skewness of Data\n",
    "\n",
    "The relative order of mean, median and mode indicates the direction of skewness in the dataset. Skewness, in statistics, is the degree of asymmetry observed in a set of observations. The image below([source](https://medium.com/@nhan.tran/mean-median-an-mode-in-statistics-3359d3774b0b)) shows three possible scenarios:\n",
    "\n",
    "![](https://miro.medium.com/max/4800/0*wHMvuwRa_YF9SFwY.png)\n",
    "\n",
    "\n",
    "The x-axis indicates the values of the numbers in the dataset and the y-axis indicates the no. of times each value occurs. There's no one single right measure of central tendency, it is always better to look at multiple measures to form a fuller picture of distribution of values in the dataset.\n",
    "\n",
    "\n"
   ]
  },
  {
   "cell_type": "markdown",
   "metadata": {},
   "source": [
    "> **EXERCISE**: The following table shows a summary of test scores for a class of students. 2 students scored 1 mark in the test, 3 students scored 2 marks, 8 students scored 3 marks and so on. Compute the mean, median and mode of the scores. Does the data skew towards one side or the other?\n",
    ">\n",
    "> <img src=\"https://i.imgur.com/AD7m3gJ.png\" width=\"240\">\n",
    "> "
   ]
  },
  {
   "cell_type": "code",
   "execution_count": 15,
   "metadata": {},
   "outputs": [],
   "source": [
    "scores = [1, 2, 3, 4, 5, 6, 7, 8, 9, 10]\n",
    "num_students = [2, 3, 8, 7, 13, 18, 23, 12, 5, 1] \n"
   ]
  },
  {
   "cell_type": "code",
   "execution_count": 20,
   "metadata": {},
   "outputs": [
    {
     "data": {
      "text/plain": [
       "6.0"
      ]
     },
     "execution_count": 20,
     "metadata": {},
     "output_type": "execute_result"
    }
   ],
   "source": [
    "import numpy as np\n",
    "nums =[]\n",
    "for i in range(len(scores)):\n",
    "    score = scores[i]\n",
    "    count = num_students[i]\n",
    "    #print(count)\n",
    "    for j in range(count):\n",
    "        #print(range(count))\n",
    "        nums.append(score)\n",
    "np.median(nums)"
   ]
  },
  {
   "cell_type": "code",
   "execution_count": 22,
   "metadata": {},
   "outputs": [
    {
     "data": {
      "text/plain": [
       "[7]"
      ]
     },
     "execution_count": 22,
     "metadata": {},
     "output_type": "execute_result"
    }
   ],
   "source": [
    "mode(nums)"
   ]
  },
  {
   "cell_type": "code",
   "execution_count": 5,
   "metadata": {},
   "outputs": [
    {
     "data": {
      "text/plain": [
       "5.923913043478261"
      ]
     },
     "execution_count": 5,
     "metadata": {},
     "output_type": "execute_result"
    }
   ],
   "source": [
    "np.mean(nums)"
   ]
  },
  {
   "cell_type": "markdown",
   "metadata": {},
   "source": [
    "Apart from measures of central tendency, we also often compute measures of variability or spread."
   ]
  },
  {
   "cell_type": "markdown",
   "metadata": {},
   "source": [
    "## Variance and Standard Deviation\n",
    "\n",
    "The **variance** of a set of numbers measures how far each number is from the mean of the set. It is denoted by the symbol $\\sigma^2$ (pronounced \"sigma squared\") and is defined by the formula:\n",
    "\n",
    "$$\\sigma^2 = \\frac{ (x_1 - \\mu)^2 + (x_2 - \\mu)^2 + ... + (x_n - \\mu)^2 }{n}$$\n",
    "\n",
    "$$\\textrm{Variance} = \\frac{\\textrm{Sum of squares of difference between observations and mean}} {\\textrm{Number of observations}}$$\n",
    "\n",
    "Notice that variance is simply the mean of the squared difference between observations and their average. While the mean is a measure of central tendency, the variance measure the variability or the spread of the data around the mean. \n",
    "\n",
    "The **standard deviation** of a set of numbers is defined as the square root of the variance. It is denoted by the symbol $\\sigma$ (pronounced \"sigma\") and is defined by the formula\n",
    "\n",
    "$$\\sigma^2 = \\sqrt{\\frac{ (x_1 - \\mu)^2 + (x_2 - \\mu)^2 + ... + (x_n - \\mu)^2 }{n}}$$\n",
    "\n",
    "$$\\textrm{ Standard Deviation } = \\sqrt{\\textrm{ Variance }}$$"
   ]
  },
  {
   "cell_type": "markdown",
   "metadata": {},
   "source": [
    "> **EXERCISE**: Define function `variance` and `standard_deviation` to compute the variance of a list of numbers. \n",
    "> \n",
    "> *Hint*: You may find the functions `np.mean`, `np.subtract` and `np.square` useful."
   ]
  },
  {
   "cell_type": "code",
   "execution_count": 30,
   "metadata": {},
   "outputs": [
    {
     "data": {
      "text/plain": [
       "5.84"
      ]
     },
     "execution_count": 30,
     "metadata": {},
     "output_type": "execute_result"
    }
   ],
   "source": [
    "np.mean(np.square(np.subtract(nums,np.mean(nums))))"
   ]
  },
  {
   "cell_type": "code",
   "execution_count": 32,
   "metadata": {},
   "outputs": [],
   "source": [
    "def variance(nums):\n",
    "    result = np.mean(np.square(np.subtract(nums,np.mean(nums))))\n",
    "    # write code here\n",
    "    return result"
   ]
  },
  {
   "cell_type": "code",
   "execution_count": 67,
   "metadata": {},
   "outputs": [],
   "source": [
    "def standard_deviation(nums):\n",
    "    # write code here\n",
    "    pass"
   ]
  },
  {
   "cell_type": "markdown",
   "metadata": {},
   "source": [
    "Let's test out the functions using a sample list of numbers. "
   ]
  },
  {
   "cell_type": "code",
   "execution_count": 33,
   "metadata": {},
   "outputs": [],
   "source": [
    "nums = [3, 5, 7, 8, 10]"
   ]
  },
  {
   "cell_type": "code",
   "execution_count": 34,
   "metadata": {},
   "outputs": [
    {
     "data": {
      "text/plain": [
       "5.84"
      ]
     },
     "execution_count": 34,
     "metadata": {},
     "output_type": "execute_result"
    }
   ],
   "source": [
    "variance(nums)"
   ]
  },
  {
   "cell_type": "code",
   "execution_count": 35,
   "metadata": {},
   "outputs": [
    {
     "ename": "NameError",
     "evalue": "name 'standard_deviation' is not defined",
     "output_type": "error",
     "traceback": [
      "\u001b[1;31m---------------------------------------------------------------------------\u001b[0m",
      "\u001b[1;31mNameError\u001b[0m                                 Traceback (most recent call last)",
      "\u001b[1;32m<ipython-input-35-7a53335fab5d>\u001b[0m in \u001b[0;36m<module>\u001b[1;34m\u001b[0m\n\u001b[1;32m----> 1\u001b[1;33m \u001b[0mstandard_deviation\u001b[0m\u001b[1;33m(\u001b[0m\u001b[0mnums\u001b[0m\u001b[1;33m)\u001b[0m\u001b[1;33m\u001b[0m\u001b[1;33m\u001b[0m\u001b[0m\n\u001b[0m",
      "\u001b[1;31mNameError\u001b[0m: name 'standard_deviation' is not defined"
     ]
    }
   ],
   "source": [
    "standard_deviation(nums)"
   ]
  },
  {
   "cell_type": "markdown",
   "metadata": {},
   "source": [
    "The `numpy` library provides function `var` and `std` for computing the variance and standard deviation respectively."
   ]
  },
  {
   "cell_type": "code",
   "execution_count": 36,
   "metadata": {},
   "outputs": [
    {
     "data": {
      "text/plain": [
       "5.84"
      ]
     },
     "execution_count": 36,
     "metadata": {},
     "output_type": "execute_result"
    }
   ],
   "source": [
    "np.var(nums)"
   ]
  },
  {
   "cell_type": "code",
   "execution_count": 37,
   "metadata": {},
   "outputs": [
    {
     "data": {
      "text/plain": [
       "2.4166091947189146"
      ]
     },
     "execution_count": 37,
     "metadata": {},
     "output_type": "execute_result"
    }
   ],
   "source": [
    "np.std(nums)"
   ]
  },
  {
   "cell_type": "markdown",
   "metadata": {},
   "source": [
    "> **QUESTION**: The following table shows the number of new notebooks created every day on Jovian for the past week. Calculate the variance and standard deviation of the number of notebooks created per day.\n",
    ">\n",
    "> <img src=\"https://i.imgur.com/EScHTCY.png\" width=\"200\">"
   ]
  },
  {
   "cell_type": "code",
   "execution_count": null,
   "metadata": {},
   "outputs": [],
   "source": []
  },
  {
   "cell_type": "code",
   "execution_count": null,
   "metadata": {},
   "outputs": [],
   "source": []
  },
  {
   "cell_type": "code",
   "execution_count": null,
   "metadata": {},
   "outputs": [],
   "source": []
  },
  {
   "cell_type": "markdown",
   "metadata": {},
   "source": [
    "Variance and standard deviation can help us understand if the data contains outliers. A low standard devation indicates that there are few or no outliers. A high standard deviation indicates there may be significant outliers.\n",
    "\n",
    "> **EXERCISE**: The following table shows the starting salary of a class of 20 geography graduates from the University of North Carolina in 1986. Person 7 is Michael Jordan, who became a professional basketball player upon graduating. Calculate the average salary for the class. Find the standard deviation of the salaries with and without Person 7 included. How different are they?\n",
    ">\n",
    "> <img src=\"https://i.imgur.com/cJHEEEt.png\" width=\"240\">\n",
    "> "
   ]
  },
  {
   "cell_type": "code",
   "execution_count": 73,
   "metadata": {},
   "outputs": [],
   "source": [
    "salaries = [22000, 21000, 26000, 31000, 19000, 21500, 800000, 24500, 25000, 24000]"
   ]
  },
  {
   "cell_type": "code",
   "execution_count": null,
   "metadata": {},
   "outputs": [],
   "source": []
  },
  {
   "cell_type": "code",
   "execution_count": null,
   "metadata": {},
   "outputs": [],
   "source": []
  },
  {
   "cell_type": "code",
   "execution_count": null,
   "metadata": {},
   "outputs": [],
   "source": []
  },
  {
   "cell_type": "markdown",
   "metadata": {},
   "source": [
    "Just like means, sometimes you need to use weights to compute the variance or standard deviation using a frequency table.\n",
    "\n",
    "> **EXERCISE**: The following table shows a summary of test scores for a class of students. 2 students scored 1 mark in the test, 3 students scored 2 marks, 8 students scored 3 marks and so on. Find the mean score and standard deviation of the score.\n",
    ">\n",
    "> <img src=\"https://i.imgur.com/AD7m3gJ.png\" width=\"240\">\n",
    "> \n",
    "> *Hint*: The `np.std` function won't do. You may find the functions `np.mean`, `np.subtract`, `np.square`, `np.sum` and `np.sqrt` useful."
   ]
  },
  {
   "cell_type": "code",
   "execution_count": 74,
   "metadata": {},
   "outputs": [],
   "source": [
    "scores = [1, 2, 3, 4, 5, 6, 7, 8, 9, 10]\n",
    "num_students = [2, 3, 8, 7, 13, 18, 23, 12, 5, 1] "
   ]
  },
  {
   "cell_type": "code",
   "execution_count": null,
   "metadata": {},
   "outputs": [],
   "source": []
  },
  {
   "cell_type": "code",
   "execution_count": null,
   "metadata": {},
   "outputs": [],
   "source": []
  },
  {
   "cell_type": "markdown",
   "metadata": {},
   "source": [
    "Let's save our work before continuing."
   ]
  },
  {
   "cell_type": "code",
   "execution_count": 75,
   "metadata": {},
   "outputs": [
    {
     "data": {
      "application/javascript": [
       "window.require && require([\"base/js/namespace\"],function(Jupyter){Jupyter.notebook.save_checkpoint()})"
      ],
      "text/plain": [
       "<IPython.core.display.Javascript object>"
      ]
     },
     "metadata": {},
     "output_type": "display_data"
    },
    {
     "name": "stdout",
     "output_type": "stream",
     "text": [
      "[jovian] Attempting to save notebook..\u001b[0m\n",
      "[jovian] Updating notebook \"aakashns/statistics-measures-of-central-tendency\" on https://jovian.ai/\u001b[0m\n",
      "[jovian] Uploading notebook..\u001b[0m\n",
      "[jovian] Capturing environment..\u001b[0m\n",
      "[jovian] Committed successfully! https://jovian.ai/aakashns/statistics-measures-of-central-tendency\u001b[0m\n"
     ]
    },
    {
     "data": {
      "text/plain": [
       "'https://jovian.ai/aakashns/statistics-measures-of-central-tendency'"
      ]
     },
     "execution_count": 75,
     "metadata": {},
     "output_type": "execute_result"
    }
   ],
   "source": [
    "jovian.commit()"
   ]
  },
  {
   "cell_type": "markdown",
   "metadata": {},
   "source": [
    "## Growth and Average Growth Rates\n",
    "\n",
    "As a data analyst, one of your primary responsibilities will include observing trends in data over time and making projections: _\"Are our sales growing?\"_, _\"What is the projected revenue for the next quarter?\"_, _\"Which markets have the fastest growing population of our target demographic?\"_ etc.\n",
    "\n",
    "### Measuring Growth\n",
    "\n",
    "Measuring growth and projecting it forward is an important skill for a data analyst. Let's look at a simple example to see how its done."
   ]
  },
  {
   "cell_type": "markdown",
   "metadata": {},
   "source": [
    "\n",
    "> **QUESTION**: The table below shows the total number of registered users on Jovian at the end of each month, over the past 6 months. Compute the percentage of growth in registered users each month.\n",
    "\n",
    "\n",
    "<img src=\"https://i.imgur.com/z1UdIGT.png\" width=\"300\">"
   ]
  },
  {
   "cell_type": "code",
   "execution_count": 76,
   "metadata": {},
   "outputs": [],
   "source": [
    "users = [31310, 34048, 39267, 43066, 50765, 57838]"
   ]
  },
  {
   "cell_type": "markdown",
   "metadata": {},
   "source": [
    "The growth in any period is simply the percentage increase in the number since the previous period:\n",
    "\n",
    "$$\\textrm{Growth} =  \\frac{\\textrm{Current Value} - \\textrm{Previous Value}} {\\textrm{Previous Value}}$$\n",
    "\n",
    "Let's write a helper function `compute_growth` which takes a list of values and computes the growth for each period. Note that we can't determine the growth for the first period."
   ]
  },
  {
   "cell_type": "code",
   "execution_count": 77,
   "metadata": {},
   "outputs": [],
   "source": [
    "def compute_growth(nums):\n",
    "    return list(np.diff(nums) / nums[:-1])"
   ]
  },
  {
   "cell_type": "markdown",
   "metadata": {},
   "source": [
    "Can you understand how the above function works? Look up the documentation for `np.diff` and try to execute each part of the code in a separate code cell."
   ]
  },
  {
   "cell_type": "code",
   "execution_count": 78,
   "metadata": {},
   "outputs": [],
   "source": [
    "growth = compute_growth(users)"
   ]
  },
  {
   "cell_type": "code",
   "execution_count": 79,
   "metadata": {},
   "outputs": [
    {
     "data": {
      "text/plain": [
       "[0.08744809964867455,\n",
       " 0.15328359962406016,\n",
       " 0.0967479053658288,\n",
       " 0.17877211721543676,\n",
       " 0.13932827735644637]"
      ]
     },
     "execution_count": 79,
     "metadata": {},
     "output_type": "execute_result"
    }
   ],
   "source": [
    "growth"
   ]
  },
  {
   "cell_type": "markdown",
   "metadata": {},
   "source": [
    "The monthly growth is often expressed as a percentage:\n",
    "\n",
    "<img src=\"https://i.imgur.com/kZL93HM.png\" width=\"400\">\n",
    "\n",
    "\n",
    "If the growth for month is $r_i$ and the no. of users at the end of the month is $N_i$, then \n",
    "\n",
    "$$N_i = N_{i-1} + N_{i-1} r_i  $$\n",
    "\n",
    "$$N_i = N_{i-1} (1 + r_i)  $$\n",
    "\n",
    "\n"
   ]
  },
  {
   "cell_type": "markdown",
   "metadata": {},
   "source": [
    "\n",
    "\n",
    "\n",
    "### Average Growth Rates\n",
    "\n",
    "> **QUESTION**: Compute the average monthly growth rate of registered users on Jovian.\n",
    "\n",
    "You may be tempted to compute the arithmetic mean of the growth rates here, but that would the wrong approach. The average growth rate is the percentage of growth, when applied across all periods, results in the same final number.\n",
    "\n",
    "In the above example, if we use $r$ to indicate the average growth, then it follows that:\n",
    "\n",
    "$$N_5 = N_0(1+r_1)(1 + r_2)(1 + r_3)(1 + r_4)(1 + r_5) = N_0(1 + r)(1 + r)(1 + r)(1 + r)(1 + r)$$\n",
    "\n",
    "In other words, if we're computing the average growth for `n` periods:\n",
    "\n",
    "$$ (1+r)^n = (1+r_1)(1+r_2)...(1+r_n)$$\n",
    "\n",
    "In the above formula, $(1+r)$ is said to be the **geometric mean** of the numbers $(1+r_1), (1+r_2), ... , (1+r_n)$.\n",
    "\n",
    "Simplifying, we get\n",
    "\n",
    "$$ \\textrm{Average Growth} = r = \\sqrt[n]{(1+r_1)(1+r_2)...(1+r_n)} - 1$$\n",
    "\n",
    "\n",
    "Let's write a helper function to compute the average growth."
   ]
  },
  {
   "cell_type": "code",
   "execution_count": 80,
   "metadata": {},
   "outputs": [],
   "source": [
    "def average_growth(rates):\n",
    "    return (np.sum([1+rate for rate in rates])**1/len(rates)) - 1"
   ]
  },
  {
   "cell_type": "code",
   "execution_count": 81,
   "metadata": {},
   "outputs": [],
   "source": [
    "avg_growth = average_growth(growth)"
   ]
  },
  {
   "cell_type": "code",
   "execution_count": 82,
   "metadata": {},
   "outputs": [
    {
     "data": {
      "text/plain": [
       "0.13111599984208944"
      ]
     },
     "execution_count": 82,
     "metadata": {},
     "output_type": "execute_result"
    }
   ],
   "source": [
    "avg_growth"
   ]
  },
  {
   "cell_type": "code",
   "execution_count": 83,
   "metadata": {},
   "outputs": [
    {
     "name": "stdout",
     "output_type": "stream",
     "text": [
      "The average monthly growth rate of registered users on Jovian is 13.11%.\n"
     ]
    }
   ],
   "source": [
    "print('The average monthly growth rate of registered users on Jovian is {:.2f}%.'.format(avg_growth*100))"
   ]
  },
  {
   "cell_type": "markdown",
   "metadata": {},
   "source": [
    "Another way to compute the average growth directly is using the formula:\n",
    "\n",
    "$$r = \\sqrt[n]{\\frac{N_{final}}{N_{initial}}}$$\n",
    "\n",
    "when $n$ is the number of periods. Can you see how this formula returns the same result as the one implemented above?"
   ]
  },
  {
   "cell_type": "markdown",
   "metadata": {},
   "source": [
    "### Projecting Growth Forward\n",
    "\n",
    "Once we have the average growth rate, we can apply it to the current number to obtain projections for the future.\n",
    "\n",
    "> **QUESTION**: Projecting forward the average monthly growth rate, estimate the number of registered users on Jovian in March 2022.\n",
    "\n",
    "If the average growth rate is $r$ and the number is $N$, the number $k$ periods later is given by:\n",
    "\n",
    "$$N_k = N(1+r)^k$$\n",
    "\n",
    "Let's define a helper function `project_forward` to perform this computation."
   ]
  },
  {
   "cell_type": "code",
   "execution_count": 84,
   "metadata": {},
   "outputs": [],
   "source": [
    "def project_forward(current, rate, periods):\n",
    "    return current * ((1+rate)**periods)"
   ]
  },
  {
   "cell_type": "markdown",
   "metadata": {},
   "source": [
    "We can now "
   ]
  },
  {
   "cell_type": "code",
   "execution_count": 85,
   "metadata": {},
   "outputs": [],
   "source": [
    "projection = int(project_forward(users[-1], avg_growth, 12))"
   ]
  },
  {
   "cell_type": "code",
   "execution_count": 86,
   "metadata": {},
   "outputs": [
    {
     "data": {
      "text/plain": [
       "253687"
      ]
     },
     "execution_count": 86,
     "metadata": {},
     "output_type": "execute_result"
    }
   ],
   "source": [
    "projection"
   ]
  },
  {
   "cell_type": "code",
   "execution_count": 87,
   "metadata": {},
   "outputs": [
    {
     "name": "stdout",
     "output_type": "stream",
     "text": [
      "In March 2021, Jovian is expected to have 253687 registered users.\n"
     ]
    }
   ],
   "source": [
    "print('In March 2021, Jovian is expected to have {} registered users.'.format(projection))"
   ]
  },
  {
   "cell_type": "markdown",
   "metadata": {},
   "source": [
    "Keep in mind, however, that this is simply a projection assuming that the current trend will continue for the next year. The actual number can be significantly lower or higher based on the activities undertaken by the company and external factors like competition, pandemics, new technologies etc. \n",
    "\n",
    "To maintain or exceed the current growth rate, the company needs to:\n",
    "\n",
    "* Keep doing the things that are working well\n",
    "* Fix bugs and issues to improve the user experience\n",
    "* Come up with new ideas and build more useful features\n",
    "\n",
    "> **Tip:** A good way to wrap your head around growth rate and compounding is to determine the doubling time i.e. the number of periods it takes for a number to double. Here's a shorthand, if a number is growing at a rate of $r%$, then it takes approximately $72/r$ periods to double. E.g. If the number of registered users on Jovian grows by $12%$ on average, then the number will double ever 6 months. Can you prove this relationship?\n"
   ]
  },
  {
   "cell_type": "markdown",
   "metadata": {},
   "source": [
    "### Compound Annual Growth Rate (CAGR)\n",
    "\n",
    "In the previous example, we looked at monthly growth. When the period in consideration is a year, the average growth rate is also referred to as the **Compound Annual Growth Rate** or **CAGR**.\n",
    "\n",
    "\n",
    "> **EXERCISE**: Find the Compound Annual Growth Rate (CAGR) of India's population using the population data 2015-2020 ([available here](https://www.statista.com/statistics/263766/total-population-of-india/)) and project it forward to predict the population of India in 2030."
   ]
  },
  {
   "cell_type": "code",
   "execution_count": null,
   "metadata": {},
   "outputs": [],
   "source": []
  },
  {
   "cell_type": "code",
   "execution_count": null,
   "metadata": {},
   "outputs": [],
   "source": []
  },
  {
   "cell_type": "code",
   "execution_count": null,
   "metadata": {},
   "outputs": [],
   "source": []
  },
  {
   "cell_type": "markdown",
   "metadata": {},
   "source": [
    "Let's save our work before continuing."
   ]
  },
  {
   "cell_type": "code",
   "execution_count": 88,
   "metadata": {},
   "outputs": [
    {
     "data": {
      "application/javascript": [
       "window.require && require([\"base/js/namespace\"],function(Jupyter){Jupyter.notebook.save_checkpoint()})"
      ],
      "text/plain": [
       "<IPython.core.display.Javascript object>"
      ]
     },
     "metadata": {},
     "output_type": "display_data"
    },
    {
     "name": "stdout",
     "output_type": "stream",
     "text": [
      "[jovian] Attempting to save notebook..\u001b[0m\n",
      "[jovian] Updating notebook \"aakashns/statistics-measures-of-central-tendency\" on https://jovian.ai/\u001b[0m\n",
      "[jovian] Uploading notebook..\u001b[0m\n",
      "[jovian] Capturing environment..\u001b[0m\n",
      "[jovian] Committed successfully! https://jovian.ai/aakashns/statistics-measures-of-central-tendency\u001b[0m\n"
     ]
    },
    {
     "data": {
      "text/plain": [
       "'https://jovian.ai/aakashns/statistics-measures-of-central-tendency'"
      ]
     },
     "execution_count": 88,
     "metadata": {},
     "output_type": "execute_result"
    }
   ],
   "source": [
    "jovian.commit()"
   ]
  },
  {
   "cell_type": "markdown",
   "metadata": {},
   "source": [
    "## Putting it All Together\n",
    "\n",
    "\n",
    "Here's a problem combining many of the topics we've covered in this tutorial:\n",
    "\n",
    "> **EXERCISE**: The table below shows the total no. of goals scored in the FIFA Soccer World Cup 2018 by teams participating in the tournament. 12 teams scored a total of 2 goals each in the tournament, 4 teams scored a total of 3 goals each, 1 team scored a total of 4 goals, 2 teams scored a total of 6 goals each and so on. \n",
    ">\n",
    "> <img src=\"https://i.imgur.com/4DwHIam.png\" width=\"240\">\n",
    ">\n",
    "> Answer the following questions using the above data:\n",
    "> 1. Find the total number of goals scored in the tournament.\n",
    "> 2. Find the total number of teams in the tournament.\n",
    "> 3. Find the average number of goals scored by a team in the tournament.\n",
    "> 4. Find the median number of goals scored by a team in the tournament.\n",
    "> 5. Find the range and quartiles for the number of goals scored by a team in the tournament.\n",
    "> 5. Find the mode of the number of goals scored by a team in the tournament.\n",
    "> 6. What is the maximum number of goals scored by a team in the tournament?\n",
    "> 7. What is the minimum number of goals scored by a team in the tournament?\n",
    "> 8. Find the standard deviation of the number of goals scored by a team in the tournament?\n",
    "> 9. If you pick one of the teams who participated in the tournament at random, what is the probability that team has scored less than three goals in the tournament?\n",
    "> \n",
    "> 10. Find the average number of goals scored per match in the tournament?\n",
    ">\n",
    "> The table is also available as a CSV file [here](https://gist.githubusercontent.com/aakashns/80896b90166ac9e81fb3e11f15ba3dd3/raw/95f8d847a82f46566cd45fbd7a72b046e2b52a5c/gistfile1.txt).\n",
    "\n"
   ]
  },
  {
   "cell_type": "code",
   "execution_count": 89,
   "metadata": {},
   "outputs": [],
   "source": [
    "goals_url = 'https://gist.githubusercontent.com/aakashns/80896b90166ac9e81fb3e11f15ba3dd3/raw/95f8d847a82f46566cd45fbd7a72b046e2b52a5c/gistfile1.txt'"
   ]
  },
  {
   "cell_type": "code",
   "execution_count": null,
   "metadata": {},
   "outputs": [],
   "source": []
  },
  {
   "cell_type": "code",
   "execution_count": null,
   "metadata": {},
   "outputs": [],
   "source": []
  },
  {
   "cell_type": "markdown",
   "metadata": {},
   "source": [
    "Let's save our work before continuing."
   ]
  },
  {
   "cell_type": "code",
   "execution_count": 90,
   "metadata": {},
   "outputs": [
    {
     "data": {
      "application/javascript": [
       "window.require && require([\"base/js/namespace\"],function(Jupyter){Jupyter.notebook.save_checkpoint()})"
      ],
      "text/plain": [
       "<IPython.core.display.Javascript object>"
      ]
     },
     "metadata": {},
     "output_type": "display_data"
    },
    {
     "name": "stdout",
     "output_type": "stream",
     "text": [
      "[jovian] Attempting to save notebook..\u001b[0m\n",
      "[jovian] Updating notebook \"aakashns/statistics-measures-of-central-tendency\" on https://jovian.ai/\u001b[0m\n",
      "[jovian] Uploading notebook..\u001b[0m\n",
      "[jovian] Capturing environment..\u001b[0m\n",
      "[jovian] Committed successfully! https://jovian.ai/aakashns/statistics-measures-of-central-tendency\u001b[0m\n"
     ]
    },
    {
     "data": {
      "text/plain": [
       "'https://jovian.ai/aakashns/statistics-measures-of-central-tendency'"
      ]
     },
     "execution_count": 90,
     "metadata": {},
     "output_type": "execute_result"
    }
   ],
   "source": [
    "jovian.commit()"
   ]
  },
  {
   "cell_type": "markdown",
   "metadata": {},
   "source": [
    "## Summary\n",
    "\n",
    "Here's a summary of the topics covered in this tutorial:\n",
    "\n",
    "### Average / Arithmetic Mean\n",
    "  - The average or arithmetic mean of a set of numbers is the sum of the numbers divided by the how many numbers are being averaged. \n",
    "  \n",
    "  $$\\textrm{Average} = \\frac{\\textrm{Sum of values}}{\\textrm{Number of values}}$$\n",
    "\n",
    "  - Sometimes you may need to apply a weight to each number. \n",
    "  \n",
    "  $$\\textrm{Weighted Average} = \\frac{\\textrm{Weighted sum of values}}{\\textrm{Sum of weights}}$$\n",
    "  \n",
    "  - Average/mean is susceptible to outliers (the **Michael Jordan** effect) and may not be a good measure of central tendency in such cases.\n",
    "  \n",
    "  <img src=\"https://i.imgur.com/vgG29mb.png\" width=\"640\">\n",
    "\n",
    "\n",
    "### Median and Percentile\n",
    "\n",
    "<img src=\"https://i.imgur.com/UPiZkuE.png\" width=\"640\">\n",
    "\n",
    "* The median of a set of numbers is the *middle number* of the set, after the numbers have been arranged in increasing order. E.g. the median of the numbers $3, 7, 10, 55, 97$ is $10$. \n",
    "\n",
    "\n",
    "* When the size of the set is even, there's no single middle number. In this case, the median is the average of the two middle numbers. E.g. the median of $3, 5, 21, 33, 42, 300$ is $(21 + 33)/2 = 27$.\n",
    "\n",
    "\n",
    "* A percentile is the generalization of median. The K-th percentile is a number equal to or larger than K % of the values in the set. The median is the 50-th percentile.\n",
    "\n",
    "\n",
    "### Quartiles and Range\n",
    "\n",
    "* Quartile are numbers that divide a dataset into 4 equal parts (or quarters). A dataset has three quartiles:\n",
    "\n",
    "  1. **1st Quartile or Q1**: 25% of values lie below it i.e. it's the 25th percentile\n",
    "  2. **2nd Quartile or Q2**: 50% of values lie below it i.e. it's the median or 50th percentile\n",
    "  3. **3rd Quartile or Q3**: 75% of values lie below it i.e. it's the 75th percentile\n",
    "\n",
    "<img src=\"https://i.imgur.com/SQXnns4.png\" width=\"360\">\n",
    "\n",
    "* Range of a set of numbers is defined by two values: the minimum and the maximum. Ranges and quartiles are often used together to get a sense of the spread and distribution of values in a dataset.\n",
    "\n",
    "* The range and quartiles of a set of numbers are often plotted using a \"box-and-whiskers\" plot (sometimes just called a box plot).\n",
    "\n",
    "![](https://i.imgur.com/vB42RrG.png)\n",
    "\n",
    "\n",
    "### Mode and Frequency Tables\n",
    "\n",
    "* The mode of a set of values is simply the most frequently occurring value in the set. E.g. the mode of the list `[1, 2, 3, 4, 4, 4, 4, 4, 5, 6, 7, 7, 7, 8]` is `4` because it occurs more times than any other value.\n",
    "\n",
    "\n",
    "* If there isn't a single value that occurs most frequently, all the values are occur most frequently are modes. The data is said to be *multimodal* in such cases. E.g. The set `[3, 1, 4, 1, 5, 4]` has two modes, `1` and `4`, which both occur twice.\n",
    "\n",
    "\n",
    "* Unlike mean and median, mode is not limited to numbers, it is defined for any set of values. The mode of the set of values `['red', 'green', 'blue', 'green', 'red', 'green', 'green']` is `'green'`.\n",
    "\n",
    "\n",
    "* A frequency table shows how many times each observation occurs in a dataset.\n",
    "\n",
    "\n",
    "<img src=\"https://i.imgur.com/MeRJqAg.png\" width=\"240\">\n",
    "\n",
    "\n",
    "### Skewness of Data\n",
    "\n",
    "* Skewness, in statistics, is the degree of asymmetry observed in a set of observations. \n",
    "\n",
    "* The relative order of mean, median and mode indicates the direction of skewness in the dataset.\n",
    "\n",
    "![](https://miro.medium.com/max/4800/0*wHMvuwRa_YF9SFwY.png)\n",
    "\n",
    "\n",
    "### Variance and Standard Deviation\n",
    "\n",
    "* The **variance** of a set of numbers measures how far each number is from the mean of the set. It is denoted by the symbol $\\sigma^2$ (pronounced \"sigma squared\") and is defined by the formula:\n",
    "\n",
    "  $$\\sigma^2 = \\frac{ (x_1 - \\mu)^2 + (x_2 - \\mu)^2 + ... + (x_n - \\mu)^2 }{n}$$\n",
    "\n",
    "  $$\\textrm{Variance} = \\frac{\\textrm{Sum of squares of difference between observations and mean}} {\\textrm{Number of observations}}$$\n",
    "\n",
    "\n",
    "* The **standard deviation** of a set of numbers is defined as the square root of the variance. It is denoted by the symbol $\\sigma$ (pronounced \"sigma\") and is defined by the formula\n",
    "\n",
    "  $$\\sigma^2 = \\sqrt{\\frac{ (x_1 - \\mu)^2 + (x_2 - \\mu)^2 + ... + (x_n - \\mu)^2 }{n}}$$\n",
    "\n",
    "  $$\\textrm{ Standard Deviation } = \\sqrt{\\textrm{ Variance }}$$\n",
    "\n",
    "\n",
    "### Growth and Average Growth Rate\n",
    "\n",
    "* Growth in any period is defined the percentage increase in the number since the previous period:\n",
    "\n",
    "$$\\textrm{Growth} =  \\frac{\\textrm{Current Value} - \\textrm{Previous Value}} {\\textrm{Previous Value}}$$\n",
    "\n",
    "* The Average Growth Rate is the percentage of growth, when applied across all periods, results in the same final number. It is given by the formula:\n",
    "\n",
    "$$ \\textrm{Average Growth} = r = \\sqrt[n]{(1+r_1)(1+r_2)...(1+r_n)} - 1$$\n",
    "\n",
    "* Projecting growth forward can help us estimate numbers in the future. If the average growth rate is $r$ and the number is $N$, the number $k$ periods later is given by:\n",
    "\n",
    "$$N_k = N(1+r)^k$$\n",
    "\n"
   ]
  },
  {
   "cell_type": "markdown",
   "metadata": {},
   "source": [
    "## Review Questions and Further Reading\n",
    "\n",
    "Based on what you've learned in this tutorial, try to come up with general strategies to answer the following questions:\n",
    "\n",
    "- How much will you earn after graduating from university?\n",
    "- How hot is it going to be in the summer this year?\n",
    "- Should your investment portfolio be focused on diversified?\n",
    "- Which movie should you watch this weekend?\n",
    "- How many registered users will your website have one year from now?\n",
    "\n",
    "\n",
    "Here are some resources for learning more:\n",
    "\n",
    "\n",
    "* https://www.math-only-math.com/worksheet-on-mean-median-and-mode.html\n",
    "* https://www.khanacademy.org/math/statistics-probability\n",
    "* https://www.w3resource.com/python-exercises/numpy/python-numpy-stat.php\n",
    "* https://numpy.org/doc/stable/reference/index.html"
   ]
  },
  {
   "cell_type": "code",
   "execution_count": 91,
   "metadata": {},
   "outputs": [
    {
     "data": {
      "application/javascript": [
       "window.require && require([\"base/js/namespace\"],function(Jupyter){Jupyter.notebook.save_checkpoint()})"
      ],
      "text/plain": [
       "<IPython.core.display.Javascript object>"
      ]
     },
     "metadata": {},
     "output_type": "display_data"
    },
    {
     "name": "stdout",
     "output_type": "stream",
     "text": [
      "[jovian] Attempting to save notebook..\u001b[0m\n",
      "[jovian] Updating notebook \"aakashns/statistics-measures-of-central-tendency\" on https://jovian.ai/\u001b[0m\n",
      "[jovian] Uploading notebook..\u001b[0m\n",
      "[jovian] Capturing environment..\u001b[0m\n",
      "[jovian] Committed successfully! https://jovian.ai/aakashns/statistics-measures-of-central-tendency\u001b[0m\n"
     ]
    },
    {
     "data": {
      "text/plain": [
       "'https://jovian.ai/aakashns/statistics-measures-of-central-tendency'"
      ]
     },
     "execution_count": 91,
     "metadata": {},
     "output_type": "execute_result"
    }
   ],
   "source": [
    "jovian.commit()"
   ]
  },
  {
   "cell_type": "code",
   "execution_count": null,
   "metadata": {},
   "outputs": [],
   "source": []
  }
 ],
 "metadata": {
  "kernelspec": {
   "display_name": "Python 3",
   "language": "python",
   "name": "python3"
  },
  "language_info": {
   "codemirror_mode": {
    "name": "ipython",
    "version": 3
   },
   "file_extension": ".py",
   "mimetype": "text/x-python",
   "name": "python",
   "nbconvert_exporter": "python",
   "pygments_lexer": "ipython3",
   "version": "3.8.5"
  }
 },
 "nbformat": 4,
 "nbformat_minor": 5
}
