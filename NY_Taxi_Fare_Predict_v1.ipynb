{
  "nbformat": 4,
  "nbformat_minor": 5,
  "metadata": {
    "kernelspec": {
      "display_name": "Python 3",
      "language": "python",
      "name": "python3"
    },
    "language_info": {
      "codemirror_mode": {
        "name": "ipython",
        "version": 3
      },
      "file_extension": ".py",
      "mimetype": "text/x-python",
      "name": "python",
      "nbconvert_exporter": "python",
      "pygments_lexer": "ipython3",
      "version": "3.8.8"
    },
    "colab": {
      "name": " NY_Taxi_Fare_Predict_v1.ipynb",
      "provenance": [],
      "collapsed_sections": [
        "93aa84ba",
        "8aa22911",
        "249d4a10",
        "719292a1",
        "97b69348",
        "O62C3bY5E8ga",
        "iHk1H06TFd9E",
        "559808d2",
        "2ffc1cbc",
        "827aaa0f",
        "73a62d37"
      ],
      "include_colab_link": true
    }
  },
  "cells": [
    {
      "cell_type": "markdown",
      "metadata": {
        "id": "view-in-github",
        "colab_type": "text"
      },
      "source": [
        "<a href=\"https://colab.research.google.com/github/1pritesh1/PythonLearning2021/blob/main/NY_Taxi_Fare_Predict_v1.ipynb\" target=\"_parent\"><img src=\"https://colab.research.google.com/assets/colab-badge.svg\" alt=\"Open In Colab\"/></a>"
      ]
    },
    {
      "cell_type": "code",
      "metadata": {
        "id": "2948590b"
      },
      "source": [
        "# Jovian Commit Essentials\n",
        "# Please retain and execute this cell without modifying the contents for `jovian.commit` to work\n",
        "!pip install jovian --upgrade -q\n",
        "import jovian\n",
        "jovian.set_project('project-3-ny-taxi-fare-prediction v2')\n",
        "jovian.set_colab_id('1XdgSCYQ9x3k00cPd1PWNXyenvpkrZwgq')"
      ],
      "id": "2948590b",
      "execution_count": null,
      "outputs": []
    },
    {
      "cell_type": "code",
      "metadata": {
        "colab": {
          "base_uri": "https://localhost:8080/",
          "height": 86
        },
        "id": "0sazkJkrNFd9",
        "outputId": "e3089ba6-1dc4-4d44-c78a-aac87ad9fa05"
      },
      "source": [
        "jovian.commit()"
      ],
      "id": "0sazkJkrNFd9",
      "execution_count": null,
      "outputs": [
        {
          "output_type": "stream",
          "text": [
            "[jovian] Detected Colab notebook...\u001b[0m\n",
            "[jovian] Uploading colab notebook to Jovian...\u001b[0m\n",
            "Committed successfully! https://jovian.ai/pritesh009/project-3-ny-taxi-fare-prediction-v2\n"
          ],
          "name": "stdout"
        },
        {
          "output_type": "execute_result",
          "data": {
            "application/vnd.google.colaboratory.intrinsic+json": {
              "type": "string"
            },
            "text/plain": [
              "'https://jovian.ai/pritesh009/project-3-ny-taxi-fare-prediction-v2'"
            ]
          },
          "metadata": {},
          "execution_count": 8
        }
      ]
    },
    {
      "cell_type": "code",
      "metadata": {
        "id": "979683ce",
        "colab": {
          "base_uri": "https://localhost:8080/"
        },
        "outputId": "de428c8d-3058-4aa5-c4fe-2d47c7db5103"
      },
      "source": [
        "import pandas as pd\n",
        "import numpy as np\n",
        "!pip install pyarrow --upgrade --quiet"
      ],
      "id": "979683ce",
      "execution_count": 1,
      "outputs": [
        {
          "output_type": "stream",
          "text": [
            "\u001b[K     |████████████████████████████████| 23.6 MB 123 kB/s \n",
            "\u001b[?25h"
          ],
          "name": "stdout"
        }
      ]
    },
    {
      "cell_type": "code",
      "metadata": {
        "colab": {
          "base_uri": "https://localhost:8080/"
        },
        "id": "egyUFlNPocIH",
        "outputId": "19e84492-0656-4bbc-94f1-06ded6b2a13d"
      },
      "source": [
        "from google.colab import drive\n",
        "drive.mount('/content/drive')"
      ],
      "id": "egyUFlNPocIH",
      "execution_count": 2,
      "outputs": [
        {
          "output_type": "stream",
          "text": [
            "Mounted at /content/drive\n"
          ],
          "name": "stdout"
        }
      ]
    },
    {
      "cell_type": "code",
      "metadata": {
        "id": "b4ddab0c"
      },
      "source": [
        "import matplotlib.pyplot as plt"
      ],
      "id": "b4ddab0c",
      "execution_count": 3,
      "outputs": []
    },
    {
      "cell_type": "code",
      "metadata": {
        "id": "62e4f0aa"
      },
      "source": [
        "train = '/content/drive/MyDrive/train.csv'\n",
        "test = '/content/drive/MyDrive/test.csv'"
      ],
      "id": "62e4f0aa",
      "execution_count": 4,
      "outputs": []
    },
    {
      "cell_type": "code",
      "metadata": {
        "colab": {
          "base_uri": "https://localhost:8080/"
        },
        "id": "eb53fe90",
        "outputId": "7b48c88e-5e74-4e92-d005-257e6439a034"
      },
      "source": [
        "%%time\n",
        "df = pd.read_csv(train ,nrows = 400000)"
      ],
      "id": "eb53fe90",
      "execution_count": 5,
      "outputs": [
        {
          "output_type": "stream",
          "text": [
            "CPU times: user 1.1 s, sys: 154 ms, total: 1.26 s\n",
            "Wall time: 2.59 s\n"
          ],
          "name": "stdout"
        }
      ]
    },
    {
      "cell_type": "code",
      "metadata": {
        "colab": {
          "base_uri": "https://localhost:8080/"
        },
        "id": "761335ea",
        "outputId": "7ee49c81-f8e8-4ce7-a44f-32576df674fe"
      },
      "source": [
        "%%time\n",
        "test_df = pd.read_csv(test)"
      ],
      "id": "761335ea",
      "execution_count": 6,
      "outputs": [
        {
          "output_type": "stream",
          "text": [
            "CPU times: user 22.9 ms, sys: 1.99 ms, total: 24.9 ms\n",
            "Wall time: 802 ms\n"
          ],
          "name": "stdout"
        }
      ]
    },
    {
      "cell_type": "code",
      "metadata": {
        "colab": {
          "base_uri": "https://localhost:8080/"
        },
        "id": "4ecefc77",
        "outputId": "676e45ca-4195-46e9-c068-a98f5b628593"
      },
      "source": [
        "test_df.columns"
      ],
      "id": "4ecefc77",
      "execution_count": 7,
      "outputs": [
        {
          "output_type": "execute_result",
          "data": {
            "text/plain": [
              "Index(['key', 'pickup_datetime', 'pickup_longitude', 'pickup_latitude',\n",
              "       'dropoff_longitude', 'dropoff_latitude', 'passenger_count'],\n",
              "      dtype='object')"
            ]
          },
          "metadata": {},
          "execution_count": 7
        }
      ]
    },
    {
      "cell_type": "code",
      "metadata": {
        "id": "72bda5e6"
      },
      "source": [
        "use_cols = ['fare_amount', 'pickup_datetime', 'pickup_longitude',\n",
        "       'pickup_latitude', 'dropoff_longitude', 'dropoff_latitude',\n",
        "       'passenger_count']\n",
        "\n",
        "selected_dtypes = {\n",
        "    'passenger_count': 'int16',\n",
        "    'fare_amount':'float32',\n",
        "    'pickup_longitude': 'float32',\n",
        "    'pickup_latitude': 'float32',\n",
        "    'dropoff_longitude': 'float32',\n",
        "    'dropoff_latitude': 'float32' \n",
        "}"
      ],
      "id": "72bda5e6",
      "execution_count": 8,
      "outputs": []
    },
    {
      "cell_type": "code",
      "metadata": {
        "colab": {
          "base_uri": "https://localhost:8080/"
        },
        "id": "0e44e282",
        "outputId": "595cf2e3-8a79-42f0-ba54-bcdbc83d25c7"
      },
      "source": [
        "%%time\n",
        "df3 = pd.read_csv(train,\n",
        "                  usecols=use_cols,\n",
        "                  dtype=selected_dtypes, \n",
        "                  parse_dates=['pickup_datetime'],nrows = 400000)"
      ],
      "id": "0e44e282",
      "execution_count": 9,
      "outputs": [
        {
          "output_type": "stream",
          "text": [
            "CPU times: user 1min 8s, sys: 360 ms, total: 1min 9s\n",
            "Wall time: 1min 9s\n"
          ],
          "name": "stdout"
        }
      ]
    },
    {
      "cell_type": "code",
      "metadata": {
        "id": "7695a3f1"
      },
      "source": [
        "selected_cols = ['key','pickup_datetime', 'pickup_longitude',\n",
        "       'pickup_latitude', 'dropoff_longitude', 'dropoff_latitude',\n",
        "       'passenger_count']\n",
        "df3_test = pd.read_csv(test,\n",
        "                  usecols=selected_cols,\n",
        "                  dtype=selected_dtypes, \n",
        "                  parse_dates=['pickup_datetime'])"
      ],
      "id": "7695a3f1",
      "execution_count": 10,
      "outputs": []
    },
    {
      "cell_type": "markdown",
      "metadata": {
        "id": "8lkSnn8HzHsq"
      },
      "source": [
        "## Add date features**"
      ],
      "id": "8lkSnn8HzHsq"
    },
    {
      "cell_type": "code",
      "metadata": {
        "scrolled": true,
        "id": "d64611fa"
      },
      "source": [
        "def night (dataTbl):\n",
        "    if (dataTbl['hour'] <= 6) or (dataTbl['hour'] >= 20):\n",
        "        return 1\n",
        "    else:\n",
        "        return 0\n",
        "\n",
        "def datefeatures(dataTbl):\n",
        "  if set(['pickup_datetime']).issubset(dataTbl.columns):\n",
        "    dataTbl['year']=dataTbl['pickup_datetime'].dt.year\n",
        "    dataTbl['day']=dataTbl['pickup_datetime'].dt.day\n",
        "    dataTbl['month']=dataTbl['pickup_datetime'].dt.month\n",
        "    dataTbl['weekday']=dataTbl['pickup_datetime'].dt.weekday\n",
        "    dataTbl['hour']=dataTbl['pickup_datetime'].dt.hour\n",
        "    dataTbl['night'] = dataTbl.apply (lambda x: night(x), axis=1)\n",
        "    dataTbl.drop('pickup_datetime', axis = 1, inplace = True)\n",
        "    return dataTbl.head(5)\n",
        "  else:\n",
        "    return  dataTbl.head(5)\n"
      ],
      "id": "d64611fa",
      "execution_count": 11,
      "outputs": []
    },
    {
      "cell_type": "markdown",
      "metadata": {
        "id": "biuiDHplrH6l"
      },
      "source": [
        ""
      ],
      "id": "biuiDHplrH6l"
    },
    {
      "cell_type": "code",
      "metadata": {
        "colab": {
          "base_uri": "https://localhost:8080/"
        },
        "id": "X6fGssJEvg1c",
        "outputId": "d2e6938e-6c41-4206-a52e-b09ae73eabda"
      },
      "source": [
        "df3.columns"
      ],
      "id": "X6fGssJEvg1c",
      "execution_count": 12,
      "outputs": [
        {
          "output_type": "execute_result",
          "data": {
            "text/plain": [
              "Index(['fare_amount', 'pickup_datetime', 'pickup_longitude', 'pickup_latitude',\n",
              "       'dropoff_longitude', 'dropoff_latitude', 'passenger_count'],\n",
              "      dtype='object')"
            ]
          },
          "metadata": {},
          "execution_count": 12
        }
      ]
    },
    {
      "cell_type": "code",
      "metadata": {
        "colab": {
          "base_uri": "https://localhost:8080/",
          "height": 309
        },
        "id": "82H6u5I1pwpp",
        "outputId": "ff7ac4a5-b7a8-46f2-b1ae-d2786351bdf2"
      },
      "source": [
        "datefeatures(df3_test)"
      ],
      "id": "82H6u5I1pwpp",
      "execution_count": 13,
      "outputs": [
        {
          "output_type": "execute_result",
          "data": {
            "text/html": [
              "<div>\n",
              "<style scoped>\n",
              "    .dataframe tbody tr th:only-of-type {\n",
              "        vertical-align: middle;\n",
              "    }\n",
              "\n",
              "    .dataframe tbody tr th {\n",
              "        vertical-align: top;\n",
              "    }\n",
              "\n",
              "    .dataframe thead th {\n",
              "        text-align: right;\n",
              "    }\n",
              "</style>\n",
              "<table border=\"1\" class=\"dataframe\">\n",
              "  <thead>\n",
              "    <tr style=\"text-align: right;\">\n",
              "      <th></th>\n",
              "      <th>key</th>\n",
              "      <th>pickup_longitude</th>\n",
              "      <th>pickup_latitude</th>\n",
              "      <th>dropoff_longitude</th>\n",
              "      <th>dropoff_latitude</th>\n",
              "      <th>passenger_count</th>\n",
              "      <th>year</th>\n",
              "      <th>day</th>\n",
              "      <th>month</th>\n",
              "      <th>weekday</th>\n",
              "      <th>hour</th>\n",
              "      <th>night</th>\n",
              "    </tr>\n",
              "  </thead>\n",
              "  <tbody>\n",
              "    <tr>\n",
              "      <th>0</th>\n",
              "      <td>2015-01-27 13:08:24.0000002</td>\n",
              "      <td>-73.973320</td>\n",
              "      <td>40.763805</td>\n",
              "      <td>-73.981430</td>\n",
              "      <td>40.743835</td>\n",
              "      <td>1</td>\n",
              "      <td>2015</td>\n",
              "      <td>27</td>\n",
              "      <td>1</td>\n",
              "      <td>1</td>\n",
              "      <td>13</td>\n",
              "      <td>0</td>\n",
              "    </tr>\n",
              "    <tr>\n",
              "      <th>1</th>\n",
              "      <td>2015-01-27 13:08:24.0000003</td>\n",
              "      <td>-73.986862</td>\n",
              "      <td>40.719383</td>\n",
              "      <td>-73.998886</td>\n",
              "      <td>40.739201</td>\n",
              "      <td>1</td>\n",
              "      <td>2015</td>\n",
              "      <td>27</td>\n",
              "      <td>1</td>\n",
              "      <td>1</td>\n",
              "      <td>13</td>\n",
              "      <td>0</td>\n",
              "    </tr>\n",
              "    <tr>\n",
              "      <th>2</th>\n",
              "      <td>2011-10-08 11:53:44.0000002</td>\n",
              "      <td>-73.982521</td>\n",
              "      <td>40.751259</td>\n",
              "      <td>-73.979652</td>\n",
              "      <td>40.746140</td>\n",
              "      <td>1</td>\n",
              "      <td>2011</td>\n",
              "      <td>8</td>\n",
              "      <td>10</td>\n",
              "      <td>5</td>\n",
              "      <td>11</td>\n",
              "      <td>0</td>\n",
              "    </tr>\n",
              "    <tr>\n",
              "      <th>3</th>\n",
              "      <td>2012-12-01 21:12:12.0000002</td>\n",
              "      <td>-73.981163</td>\n",
              "      <td>40.767807</td>\n",
              "      <td>-73.990448</td>\n",
              "      <td>40.751637</td>\n",
              "      <td>1</td>\n",
              "      <td>2012</td>\n",
              "      <td>1</td>\n",
              "      <td>12</td>\n",
              "      <td>5</td>\n",
              "      <td>21</td>\n",
              "      <td>1</td>\n",
              "    </tr>\n",
              "    <tr>\n",
              "      <th>4</th>\n",
              "      <td>2012-12-01 21:12:12.0000003</td>\n",
              "      <td>-73.966049</td>\n",
              "      <td>40.789776</td>\n",
              "      <td>-73.988564</td>\n",
              "      <td>40.744427</td>\n",
              "      <td>1</td>\n",
              "      <td>2012</td>\n",
              "      <td>1</td>\n",
              "      <td>12</td>\n",
              "      <td>5</td>\n",
              "      <td>21</td>\n",
              "      <td>1</td>\n",
              "    </tr>\n",
              "  </tbody>\n",
              "</table>\n",
              "</div>"
            ],
            "text/plain": [
              "                           key  pickup_longitude  ...  hour  night\n",
              "0  2015-01-27 13:08:24.0000002        -73.973320  ...    13      0\n",
              "1  2015-01-27 13:08:24.0000003        -73.986862  ...    13      0\n",
              "2  2011-10-08 11:53:44.0000002        -73.982521  ...    11      0\n",
              "3  2012-12-01 21:12:12.0000002        -73.981163  ...    21      1\n",
              "4  2012-12-01 21:12:12.0000003        -73.966049  ...    21      1\n",
              "\n",
              "[5 rows x 12 columns]"
            ]
          },
          "metadata": {},
          "execution_count": 13
        }
      ]
    },
    {
      "cell_type": "code",
      "metadata": {
        "colab": {
          "base_uri": "https://localhost:8080/",
          "height": 224
        },
        "id": "IAK9pQqyHIhJ",
        "outputId": "7e0d9092-aaf6-4836-ab7d-8386859851ea"
      },
      "source": [
        "datefeatures(df3)"
      ],
      "id": "IAK9pQqyHIhJ",
      "execution_count": 14,
      "outputs": [
        {
          "output_type": "execute_result",
          "data": {
            "text/html": [
              "<div>\n",
              "<style scoped>\n",
              "    .dataframe tbody tr th:only-of-type {\n",
              "        vertical-align: middle;\n",
              "    }\n",
              "\n",
              "    .dataframe tbody tr th {\n",
              "        vertical-align: top;\n",
              "    }\n",
              "\n",
              "    .dataframe thead th {\n",
              "        text-align: right;\n",
              "    }\n",
              "</style>\n",
              "<table border=\"1\" class=\"dataframe\">\n",
              "  <thead>\n",
              "    <tr style=\"text-align: right;\">\n",
              "      <th></th>\n",
              "      <th>fare_amount</th>\n",
              "      <th>pickup_longitude</th>\n",
              "      <th>pickup_latitude</th>\n",
              "      <th>dropoff_longitude</th>\n",
              "      <th>dropoff_latitude</th>\n",
              "      <th>passenger_count</th>\n",
              "      <th>year</th>\n",
              "      <th>day</th>\n",
              "      <th>month</th>\n",
              "      <th>weekday</th>\n",
              "      <th>hour</th>\n",
              "      <th>night</th>\n",
              "    </tr>\n",
              "  </thead>\n",
              "  <tbody>\n",
              "    <tr>\n",
              "      <th>0</th>\n",
              "      <td>4.5</td>\n",
              "      <td>-73.844315</td>\n",
              "      <td>40.721317</td>\n",
              "      <td>-73.841614</td>\n",
              "      <td>40.712276</td>\n",
              "      <td>1</td>\n",
              "      <td>2009</td>\n",
              "      <td>15</td>\n",
              "      <td>6</td>\n",
              "      <td>0</td>\n",
              "      <td>17</td>\n",
              "      <td>0</td>\n",
              "    </tr>\n",
              "    <tr>\n",
              "      <th>1</th>\n",
              "      <td>16.9</td>\n",
              "      <td>-74.016045</td>\n",
              "      <td>40.711304</td>\n",
              "      <td>-73.979271</td>\n",
              "      <td>40.782005</td>\n",
              "      <td>1</td>\n",
              "      <td>2010</td>\n",
              "      <td>5</td>\n",
              "      <td>1</td>\n",
              "      <td>1</td>\n",
              "      <td>16</td>\n",
              "      <td>0</td>\n",
              "    </tr>\n",
              "    <tr>\n",
              "      <th>2</th>\n",
              "      <td>5.7</td>\n",
              "      <td>-73.982735</td>\n",
              "      <td>40.761269</td>\n",
              "      <td>-73.991241</td>\n",
              "      <td>40.750561</td>\n",
              "      <td>2</td>\n",
              "      <td>2011</td>\n",
              "      <td>18</td>\n",
              "      <td>8</td>\n",
              "      <td>3</td>\n",
              "      <td>0</td>\n",
              "      <td>1</td>\n",
              "    </tr>\n",
              "    <tr>\n",
              "      <th>3</th>\n",
              "      <td>7.7</td>\n",
              "      <td>-73.987129</td>\n",
              "      <td>40.733143</td>\n",
              "      <td>-73.991570</td>\n",
              "      <td>40.758091</td>\n",
              "      <td>1</td>\n",
              "      <td>2012</td>\n",
              "      <td>21</td>\n",
              "      <td>4</td>\n",
              "      <td>5</td>\n",
              "      <td>4</td>\n",
              "      <td>1</td>\n",
              "    </tr>\n",
              "    <tr>\n",
              "      <th>4</th>\n",
              "      <td>5.3</td>\n",
              "      <td>-73.968094</td>\n",
              "      <td>40.768009</td>\n",
              "      <td>-73.956657</td>\n",
              "      <td>40.783764</td>\n",
              "      <td>1</td>\n",
              "      <td>2010</td>\n",
              "      <td>9</td>\n",
              "      <td>3</td>\n",
              "      <td>1</td>\n",
              "      <td>7</td>\n",
              "      <td>0</td>\n",
              "    </tr>\n",
              "  </tbody>\n",
              "</table>\n",
              "</div>"
            ],
            "text/plain": [
              "   fare_amount  pickup_longitude  pickup_latitude  ...  weekday  hour  night\n",
              "0          4.5        -73.844315        40.721317  ...        0    17      0\n",
              "1         16.9        -74.016045        40.711304  ...        1    16      0\n",
              "2          5.7        -73.982735        40.761269  ...        3     0      1\n",
              "3          7.7        -73.987129        40.733143  ...        5     4      1\n",
              "4          5.3        -73.968094        40.768009  ...        1     7      0\n",
              "\n",
              "[5 rows x 12 columns]"
            ]
          },
          "metadata": {},
          "execution_count": 14
        }
      ]
    },
    {
      "cell_type": "markdown",
      "metadata": {
        "id": "93aa84ba"
      },
      "source": [
        "## Add Distance using geo info"
      ],
      "id": "93aa84ba"
    },
    {
      "cell_type": "markdown",
      "metadata": {
        "id": "8aa22911"
      },
      "source": [
        "#### Distance Using geopanda"
      ],
      "id": "8aa22911"
    },
    {
      "cell_type": "code",
      "metadata": {
        "colab": {
          "base_uri": "https://localhost:8080/"
        },
        "id": "5fe335bf",
        "outputId": "e9037a20-76b2-4243-aeb8-d54fff79d5f4"
      },
      "source": [
        "pip install geopy"
      ],
      "id": "5fe335bf",
      "execution_count": 15,
      "outputs": [
        {
          "output_type": "stream",
          "text": [
            "Requirement already satisfied: geopy in /usr/local/lib/python3.7/dist-packages (1.17.0)\n",
            "Requirement already satisfied: geographiclib<2,>=1.49 in /usr/local/lib/python3.7/dist-packages (from geopy) (1.52)\n"
          ],
          "name": "stdout"
        }
      ]
    },
    {
      "cell_type": "code",
      "metadata": {
        "colab": {
          "base_uri": "https://localhost:8080/"
        },
        "id": "KaPUvXCOJeeg",
        "outputId": "a2d69afe-d292-4973-b4b5-98be5b832fc4"
      },
      "source": [
        "df3.columns"
      ],
      "id": "KaPUvXCOJeeg",
      "execution_count": 16,
      "outputs": [
        {
          "output_type": "execute_result",
          "data": {
            "text/plain": [
              "Index(['fare_amount', 'pickup_longitude', 'pickup_latitude',\n",
              "       'dropoff_longitude', 'dropoff_latitude', 'passenger_count', 'year',\n",
              "       'day', 'month', 'weekday', 'hour', 'night'],\n",
              "      dtype='object')"
            ]
          },
          "metadata": {},
          "execution_count": 16
        }
      ]
    },
    {
      "cell_type": "code",
      "metadata": {
        "id": "SLkYXTwJJjyT"
      },
      "source": [
        "pd.options.display.float_format = '{:.2f}'.format"
      ],
      "id": "SLkYXTwJJjyT",
      "execution_count": 17,
      "outputs": []
    },
    {
      "cell_type": "code",
      "metadata": {
        "colab": {
          "base_uri": "https://localhost:8080/",
          "height": 452
        },
        "id": "_1b6B7imJsv2",
        "outputId": "bb04f774-f316-49ea-8604-eb799638e288"
      },
      "source": [
        "df3[['pickup_longitude', 'pickup_latitude', 'dropoff_longitude',\n",
        "       'dropoff_latitude']].describe(percentiles=[.01,.05,.1,.25,.5,.9,.95,.99])\n"
      ],
      "id": "_1b6B7imJsv2",
      "execution_count": 18,
      "outputs": [
        {
          "output_type": "execute_result",
          "data": {
            "text/html": [
              "<div>\n",
              "<style scoped>\n",
              "    .dataframe tbody tr th:only-of-type {\n",
              "        vertical-align: middle;\n",
              "    }\n",
              "\n",
              "    .dataframe tbody tr th {\n",
              "        vertical-align: top;\n",
              "    }\n",
              "\n",
              "    .dataframe thead th {\n",
              "        text-align: right;\n",
              "    }\n",
              "</style>\n",
              "<table border=\"1\" class=\"dataframe\">\n",
              "  <thead>\n",
              "    <tr style=\"text-align: right;\">\n",
              "      <th></th>\n",
              "      <th>pickup_longitude</th>\n",
              "      <th>pickup_latitude</th>\n",
              "      <th>dropoff_longitude</th>\n",
              "      <th>dropoff_latitude</th>\n",
              "    </tr>\n",
              "  </thead>\n",
              "  <tbody>\n",
              "    <tr>\n",
              "      <th>count</th>\n",
              "      <td>400000.00</td>\n",
              "      <td>400000.00</td>\n",
              "      <td>399997.00</td>\n",
              "      <td>399997.00</td>\n",
              "    </tr>\n",
              "    <tr>\n",
              "      <th>mean</th>\n",
              "      <td>-72.54</td>\n",
              "      <td>40.04</td>\n",
              "      <td>-72.54</td>\n",
              "      <td>40.04</td>\n",
              "    </tr>\n",
              "    <tr>\n",
              "      <th>std</th>\n",
              "      <td>11.26</td>\n",
              "      <td>8.34</td>\n",
              "      <td>10.85</td>\n",
              "      <td>6.50</td>\n",
              "    </tr>\n",
              "    <tr>\n",
              "      <th>min</th>\n",
              "      <td>-740.00</td>\n",
              "      <td>-3116.29</td>\n",
              "      <td>-1329.62</td>\n",
              "      <td>-1189.62</td>\n",
              "    </tr>\n",
              "    <tr>\n",
              "      <th>1%</th>\n",
              "      <td>-74.01</td>\n",
              "      <td>0.00</td>\n",
              "      <td>-74.02</td>\n",
              "      <td>0.00</td>\n",
              "    </tr>\n",
              "    <tr>\n",
              "      <th>5%</th>\n",
              "      <td>-74.01</td>\n",
              "      <td>40.70</td>\n",
              "      <td>-74.01</td>\n",
              "      <td>40.69</td>\n",
              "    </tr>\n",
              "    <tr>\n",
              "      <th>10%</th>\n",
              "      <td>-74.00</td>\n",
              "      <td>40.72</td>\n",
              "      <td>-74.00</td>\n",
              "      <td>40.71</td>\n",
              "    </tr>\n",
              "    <tr>\n",
              "      <th>25%</th>\n",
              "      <td>-73.99</td>\n",
              "      <td>40.73</td>\n",
              "      <td>-73.99</td>\n",
              "      <td>40.73</td>\n",
              "    </tr>\n",
              "    <tr>\n",
              "      <th>50%</th>\n",
              "      <td>-73.98</td>\n",
              "      <td>40.75</td>\n",
              "      <td>-73.98</td>\n",
              "      <td>40.75</td>\n",
              "    </tr>\n",
              "    <tr>\n",
              "      <th>90%</th>\n",
              "      <td>-73.95</td>\n",
              "      <td>40.78</td>\n",
              "      <td>-73.95</td>\n",
              "      <td>40.78</td>\n",
              "    </tr>\n",
              "    <tr>\n",
              "      <th>95%</th>\n",
              "      <td>-73.87</td>\n",
              "      <td>40.79</td>\n",
              "      <td>-73.87</td>\n",
              "      <td>40.79</td>\n",
              "    </tr>\n",
              "    <tr>\n",
              "      <th>99%</th>\n",
              "      <td>0.00</td>\n",
              "      <td>40.81</td>\n",
              "      <td>0.00</td>\n",
              "      <td>40.83</td>\n",
              "    </tr>\n",
              "    <tr>\n",
              "      <th>max</th>\n",
              "      <td>2140.60</td>\n",
              "      <td>1703.09</td>\n",
              "      <td>40.85</td>\n",
              "      <td>404.62</td>\n",
              "    </tr>\n",
              "  </tbody>\n",
              "</table>\n",
              "</div>"
            ],
            "text/plain": [
              "       pickup_longitude  pickup_latitude  dropoff_longitude  dropoff_latitude\n",
              "count         400000.00        400000.00          399997.00         399997.00\n",
              "mean             -72.54            40.04             -72.54             40.04\n",
              "std               11.26             8.34              10.85              6.50\n",
              "min             -740.00         -3116.29           -1329.62          -1189.62\n",
              "1%               -74.01             0.00             -74.02              0.00\n",
              "5%               -74.01            40.70             -74.01             40.69\n",
              "10%              -74.00            40.72             -74.00             40.71\n",
              "25%              -73.99            40.73             -73.99             40.73\n",
              "50%              -73.98            40.75             -73.98             40.75\n",
              "90%              -73.95            40.78             -73.95             40.78\n",
              "95%              -73.87            40.79             -73.87             40.79\n",
              "99%                0.00            40.81               0.00             40.83\n",
              "max             2140.60          1703.09              40.85            404.62"
            ]
          },
          "metadata": {},
          "execution_count": 18
        }
      ]
    },
    {
      "cell_type": "code",
      "metadata": {
        "id": "b22ed138"
      },
      "source": [
        "import geopy.distance"
      ],
      "id": "b22ed138",
      "execution_count": 19,
      "outputs": []
    },
    {
      "cell_type": "code",
      "metadata": {
        "id": "9fe858e6"
      },
      "source": [
        "def cleanLongLat(df):\n",
        "\n",
        "    df.drop(df[(df.pickup_longitude < -76) | (df.pickup_longitude > -71) | \n",
        "              (df.pickup_latitude < 38) | (df.pickup_latitude > 42)].index,axis=0,inplace=True)\n",
        "    df.drop(df[(df.dropoff_longitude < -76) | (df.dropoff_longitude > -71) | \n",
        "              (df.dropoff_latitude < 38) | (df.dropoff_latitude > 42)].index,axis=0,inplace=True)\n",
        "\n",
        "def geodesic_dist(df):\n",
        "    pickup_lat = df['pickup_latitude']\n",
        "    pickup_long = df['pickup_longitude']\n",
        "    dropoff_lat = df['dropoff_latitude']\n",
        "    dropoff_long = df['dropoff_longitude']\n",
        "    distance = geopy.distance.geodesic((pickup_lat, pickup_long), \n",
        "                                       (dropoff_lat, dropoff_long)).km\n",
        "    try:\n",
        "        return distance\n",
        "    except ValueError:\n",
        "        return np.nan\n",
        "    \n",
        "def circle_dist(df):\n",
        "    pickup_lat = df['pickup_latitude']\n",
        "    pickup_long = df['pickup_longitude']\n",
        "    dropoff_lat = df['dropoff_latitude']\n",
        "    dropoff_long = df['dropoff_longitude']\n",
        "    distance = geopy.distance.great_circle((pickup_lat, pickup_long), \n",
        "                                       (dropoff_lat, dropoff_long)).km\n",
        "    try:\n",
        "        return distance\n",
        "    except ValueError:\n",
        "        return np.nan\n",
        "\n",
        "def latlong_diff(df):\n",
        "    lat1 = df['pickup_latitude']\n",
        "    lat2 = df['dropoff_latitude']\n",
        "    lon1 = df['pickup_longitude']\n",
        "    lon2 = df['dropoff_longitude']\n",
        "    \n",
        "    # Add new features\n",
        "    df['latdiff'] = (lat1 - lat2)\n",
        "    df['londiff'] = (lon1 - lon2)\n",
        "    df['euclidean'] = (df['latdiff'] ** 2 + df['londiff'] ** 2) ** 0.5\n",
        "\n",
        "# vectorized haversine function\n",
        "def haversine(lat1, lon1, lat2, lon2, to_radians=True, earth_radius=6371):\n",
        "    \"\"\"\n",
        "    Calculate the great circle distance between two points\n",
        "    on the earth (specified in decimal degrees or in radians)\n",
        "    \"\"\"\n",
        "    if to_radians:\n",
        "        lat1, lon1, lat2, lon2 = np.radians([lat1, lon1, lat2, lon2])\n",
        "    a = np.sin((lat2-lat1)/2.0)**2 + \\\n",
        "        np.cos(lat1) * np.cos(lat2) * np.sin((lon2-lon1)/2.0)**2\n",
        "\n",
        "    return earth_radius * 2 * np.arcsin(np.sqrt(a))\n",
        "\n",
        "def dist_grouping(df):\n",
        "    bins= [0,6,12,18,24,30,300]\n",
        "    labels = [1,2,3,4,5,6]\n",
        "    df['dist_group'] = pd.cut(df['distance'], bins=bins, labels=labels, right=False)\n",
        "\n",
        "def geoDisCols(df):\n",
        "    cleanLongLat(df)\n",
        "    df.dropna(inplace=True)\n",
        "    df['geopyDesic_dist'] = df.apply(lambda x: geodesic_dist(x), axis = 1 )\n",
        "    df['geopyGrtCir_dist'] = df.apply(lambda x: circle_dist(x), axis = 1 )\n",
        "    df['distance'] = haversine(df.pickup_latitude, df.pickup_longitude, df.dropoff_latitude,df.dropoff_longitude)\n",
        "    dist_grouping(df)\n",
        "    latlong_diff(df)\n",
        "    "
      ],
      "id": "9fe858e6",
      "execution_count": 20,
      "outputs": []
    },
    {
      "cell_type": "code",
      "metadata": {
        "id": "yR_iYxsIBUgm"
      },
      "source": [
        "geoDisCols(df3)"
      ],
      "id": "yR_iYxsIBUgm",
      "execution_count": 21,
      "outputs": []
    },
    {
      "cell_type": "code",
      "metadata": {
        "id": "P7lG8B8oFzW1"
      },
      "source": [
        "geoDisCols(df3_test)"
      ],
      "id": "P7lG8B8oFzW1",
      "execution_count": 22,
      "outputs": []
    },
    {
      "cell_type": "code",
      "metadata": {
        "id": "z1wtJUpdH1Gn",
        "colab": {
          "base_uri": "https://localhost:8080/",
          "height": 213
        },
        "outputId": "1254eb3b-b077-4af5-ff4b-58652881bb65"
      },
      "source": [
        "df3_test.head(3)"
      ],
      "id": "z1wtJUpdH1Gn",
      "execution_count": 23,
      "outputs": [
        {
          "output_type": "execute_result",
          "data": {
            "text/html": [
              "<div>\n",
              "<style scoped>\n",
              "    .dataframe tbody tr th:only-of-type {\n",
              "        vertical-align: middle;\n",
              "    }\n",
              "\n",
              "    .dataframe tbody tr th {\n",
              "        vertical-align: top;\n",
              "    }\n",
              "\n",
              "    .dataframe thead th {\n",
              "        text-align: right;\n",
              "    }\n",
              "</style>\n",
              "<table border=\"1\" class=\"dataframe\">\n",
              "  <thead>\n",
              "    <tr style=\"text-align: right;\">\n",
              "      <th></th>\n",
              "      <th>key</th>\n",
              "      <th>pickup_longitude</th>\n",
              "      <th>pickup_latitude</th>\n",
              "      <th>dropoff_longitude</th>\n",
              "      <th>dropoff_latitude</th>\n",
              "      <th>passenger_count</th>\n",
              "      <th>year</th>\n",
              "      <th>day</th>\n",
              "      <th>month</th>\n",
              "      <th>weekday</th>\n",
              "      <th>hour</th>\n",
              "      <th>night</th>\n",
              "      <th>geopyDesic_dist</th>\n",
              "      <th>geopyGrtCir_dist</th>\n",
              "      <th>distance</th>\n",
              "      <th>dist_group</th>\n",
              "      <th>latdiff</th>\n",
              "      <th>londiff</th>\n",
              "      <th>euclidean</th>\n",
              "    </tr>\n",
              "  </thead>\n",
              "  <tbody>\n",
              "    <tr>\n",
              "      <th>0</th>\n",
              "      <td>2015-01-27 13:08:24.0000002</td>\n",
              "      <td>-73.97</td>\n",
              "      <td>40.76</td>\n",
              "      <td>-73.98</td>\n",
              "      <td>40.74</td>\n",
              "      <td>1</td>\n",
              "      <td>2015</td>\n",
              "      <td>27</td>\n",
              "      <td>1</td>\n",
              "      <td>1</td>\n",
              "      <td>13</td>\n",
              "      <td>0</td>\n",
              "      <td>2.32</td>\n",
              "      <td>2.32</td>\n",
              "      <td>2.32</td>\n",
              "      <td>1</td>\n",
              "      <td>0.02</td>\n",
              "      <td>0.01</td>\n",
              "      <td>0.02</td>\n",
              "    </tr>\n",
              "    <tr>\n",
              "      <th>1</th>\n",
              "      <td>2015-01-27 13:08:24.0000003</td>\n",
              "      <td>-73.99</td>\n",
              "      <td>40.72</td>\n",
              "      <td>-74.00</td>\n",
              "      <td>40.74</td>\n",
              "      <td>1</td>\n",
              "      <td>2015</td>\n",
              "      <td>27</td>\n",
              "      <td>1</td>\n",
              "      <td>1</td>\n",
              "      <td>13</td>\n",
              "      <td>0</td>\n",
              "      <td>2.42</td>\n",
              "      <td>2.43</td>\n",
              "      <td>2.43</td>\n",
              "      <td>1</td>\n",
              "      <td>-0.02</td>\n",
              "      <td>0.01</td>\n",
              "      <td>0.02</td>\n",
              "    </tr>\n",
              "    <tr>\n",
              "      <th>2</th>\n",
              "      <td>2011-10-08 11:53:44.0000002</td>\n",
              "      <td>-73.98</td>\n",
              "      <td>40.75</td>\n",
              "      <td>-73.98</td>\n",
              "      <td>40.75</td>\n",
              "      <td>1</td>\n",
              "      <td>2011</td>\n",
              "      <td>8</td>\n",
              "      <td>10</td>\n",
              "      <td>5</td>\n",
              "      <td>11</td>\n",
              "      <td>0</td>\n",
              "      <td>0.62</td>\n",
              "      <td>0.62</td>\n",
              "      <td>0.62</td>\n",
              "      <td>1</td>\n",
              "      <td>0.01</td>\n",
              "      <td>-0.00</td>\n",
              "      <td>0.01</td>\n",
              "    </tr>\n",
              "  </tbody>\n",
              "</table>\n",
              "</div>"
            ],
            "text/plain": [
              "                           key  pickup_longitude  ...  londiff  euclidean\n",
              "0  2015-01-27 13:08:24.0000002            -73.97  ...     0.01       0.02\n",
              "1  2015-01-27 13:08:24.0000003            -73.99  ...     0.01       0.02\n",
              "2  2011-10-08 11:53:44.0000002            -73.98  ...    -0.00       0.01\n",
              "\n",
              "[3 rows x 19 columns]"
            ]
          },
          "metadata": {},
          "execution_count": 23
        }
      ]
    },
    {
      "cell_type": "code",
      "metadata": {
        "id": "ArAbPPZbIGjr",
        "colab": {
          "base_uri": "https://localhost:8080/",
          "height": 162
        },
        "outputId": "33e4d15f-d800-47b5-e010-8adfeb8a313a"
      },
      "source": [
        "df3.head(3)"
      ],
      "id": "ArAbPPZbIGjr",
      "execution_count": 24,
      "outputs": [
        {
          "output_type": "execute_result",
          "data": {
            "text/html": [
              "<div>\n",
              "<style scoped>\n",
              "    .dataframe tbody tr th:only-of-type {\n",
              "        vertical-align: middle;\n",
              "    }\n",
              "\n",
              "    .dataframe tbody tr th {\n",
              "        vertical-align: top;\n",
              "    }\n",
              "\n",
              "    .dataframe thead th {\n",
              "        text-align: right;\n",
              "    }\n",
              "</style>\n",
              "<table border=\"1\" class=\"dataframe\">\n",
              "  <thead>\n",
              "    <tr style=\"text-align: right;\">\n",
              "      <th></th>\n",
              "      <th>fare_amount</th>\n",
              "      <th>pickup_longitude</th>\n",
              "      <th>pickup_latitude</th>\n",
              "      <th>dropoff_longitude</th>\n",
              "      <th>dropoff_latitude</th>\n",
              "      <th>passenger_count</th>\n",
              "      <th>year</th>\n",
              "      <th>day</th>\n",
              "      <th>month</th>\n",
              "      <th>weekday</th>\n",
              "      <th>hour</th>\n",
              "      <th>night</th>\n",
              "      <th>geopyDesic_dist</th>\n",
              "      <th>geopyGrtCir_dist</th>\n",
              "      <th>distance</th>\n",
              "      <th>dist_group</th>\n",
              "      <th>latdiff</th>\n",
              "      <th>londiff</th>\n",
              "      <th>euclidean</th>\n",
              "    </tr>\n",
              "  </thead>\n",
              "  <tbody>\n",
              "    <tr>\n",
              "      <th>0</th>\n",
              "      <td>4.50</td>\n",
              "      <td>-73.84</td>\n",
              "      <td>40.72</td>\n",
              "      <td>-73.84</td>\n",
              "      <td>40.71</td>\n",
              "      <td>1</td>\n",
              "      <td>2009</td>\n",
              "      <td>15</td>\n",
              "      <td>6</td>\n",
              "      <td>0</td>\n",
              "      <td>17</td>\n",
              "      <td>0</td>\n",
              "      <td>1.03</td>\n",
              "      <td>1.03</td>\n",
              "      <td>1.03</td>\n",
              "      <td>1</td>\n",
              "      <td>0.01</td>\n",
              "      <td>-0.00</td>\n",
              "      <td>0.01</td>\n",
              "    </tr>\n",
              "    <tr>\n",
              "      <th>1</th>\n",
              "      <td>16.90</td>\n",
              "      <td>-74.02</td>\n",
              "      <td>40.71</td>\n",
              "      <td>-73.98</td>\n",
              "      <td>40.78</td>\n",
              "      <td>1</td>\n",
              "      <td>2010</td>\n",
              "      <td>5</td>\n",
              "      <td>1</td>\n",
              "      <td>1</td>\n",
              "      <td>16</td>\n",
              "      <td>0</td>\n",
              "      <td>8.44</td>\n",
              "      <td>8.45</td>\n",
              "      <td>8.45</td>\n",
              "      <td>2</td>\n",
              "      <td>-0.07</td>\n",
              "      <td>-0.04</td>\n",
              "      <td>0.08</td>\n",
              "    </tr>\n",
              "    <tr>\n",
              "      <th>2</th>\n",
              "      <td>5.70</td>\n",
              "      <td>-73.98</td>\n",
              "      <td>40.76</td>\n",
              "      <td>-73.99</td>\n",
              "      <td>40.75</td>\n",
              "      <td>2</td>\n",
              "      <td>2011</td>\n",
              "      <td>18</td>\n",
              "      <td>8</td>\n",
              "      <td>3</td>\n",
              "      <td>0</td>\n",
              "      <td>1</td>\n",
              "      <td>1.39</td>\n",
              "      <td>1.39</td>\n",
              "      <td>1.39</td>\n",
              "      <td>1</td>\n",
              "      <td>0.01</td>\n",
              "      <td>0.01</td>\n",
              "      <td>0.01</td>\n",
              "    </tr>\n",
              "  </tbody>\n",
              "</table>\n",
              "</div>"
            ],
            "text/plain": [
              "   fare_amount  pickup_longitude  pickup_latitude  ...  latdiff  londiff  euclidean\n",
              "0         4.50            -73.84            40.72  ...     0.01    -0.00       0.01\n",
              "1        16.90            -74.02            40.71  ...    -0.07    -0.04       0.08\n",
              "2         5.70            -73.98            40.76  ...     0.01     0.01       0.01\n",
              "\n",
              "[3 rows x 19 columns]"
            ]
          },
          "metadata": {},
          "execution_count": 24
        }
      ]
    },
    {
      "cell_type": "code",
      "metadata": {
        "colab": {
          "base_uri": "https://localhost:8080/",
          "height": 350
        },
        "id": "cfxpMLHwGP-7",
        "outputId": "a20cefe2-7704-4cd7-ad44-89fe20972834"
      },
      "source": [
        "plt.hist(\n",
        "    df3.loc[(df3['fare_amount'] >= 0) & (df3['fare_amount'] <= 70)]['fare_amount'],bins=10)"
      ],
      "id": "cfxpMLHwGP-7",
      "execution_count": null,
      "outputs": [
        {
          "output_type": "execute_result",
          "data": {
            "text/plain": [
              "(array([140982., 168149.,  44943.,  14427.,   8970.,   4253.,   2712.,\n",
              "          3774.,   2618.,    291.]),\n",
              " array([ 0.,  7., 14., 21., 28., 35., 42., 49., 56., 63., 70.],\n",
              "       dtype=float32),\n",
              " <a list of 10 Patch objects>)"
            ]
          },
          "metadata": {},
          "execution_count": 129
        },
        {
          "output_type": "display_data",
          "data": {
            "image/png": "[encoded data removed]",
            "text/plain": [
              "<Figure size 432x288 with 1 Axes>"
            ]
          },
          "metadata": {
            "needs_background": "light"
          }
        }
      ]
    },
    {
      "cell_type": "code",
      "metadata": {
        "colab": {
          "base_uri": "https://localhost:8080/",
          "height": 367
        },
        "id": "goV0-owBuH-1",
        "outputId": "1473b6de-045f-405c-8b38-569662393700"
      },
      "source": [
        "plt.hist(\n",
        "    df3.loc[(df3['distance'] >= 0) & (df3['fare_amount'] <= 70)]['fare_amount'],bins=10)"
      ],
      "id": "goV0-owBuH-1",
      "execution_count": null,
      "outputs": [
        {
          "output_type": "execute_result",
          "data": {
            "text/plain": [
              "(array([1.00000e+00, 0.00000e+00, 0.00000e+00, 3.00000e+01, 2.94995e+05,\n",
              "        6.68800e+04, 1.61350e+04, 6.12000e+03, 6.44600e+03, 5.29000e+02]),\n",
              " array([-44.9      , -33.41     , -21.920002 , -10.430001 ,   1.0599991,\n",
              "         12.549999 ,  24.039999 ,  35.53     ,  47.02     ,  58.51     ,\n",
              "         70.       ], dtype=float32),\n",
              " <a list of 10 Patch objects>)"
            ]
          },
          "metadata": {},
          "execution_count": 184
        },
        {
          "output_type": "display_data",
          "data": {
            "image/png": "[encoded data removed]",
            "text/plain": [
              "<Figure size 432x288 with 1 Axes>"
            ]
          },
          "metadata": {
            "needs_background": "light"
          }
        }
      ]
    },
    {
      "cell_type": "code",
      "metadata": {
        "colab": {
          "base_uri": "https://localhost:8080/",
          "height": 316
        },
        "id": "AF9Zj6KkuSdJ",
        "outputId": "65db8da8-1ccb-4805-b90c-13d1f0e3b9a7"
      },
      "source": [
        "plt.hist(\n",
        "    df3.loc[(df3['distance'] >= 0) & (df3['distance'] <= 25)]['distance'],bins=2)"
      ],
      "id": "AF9Zj6KkuSdJ",
      "execution_count": null,
      "outputs": [
        {
          "output_type": "execute_result",
          "data": {
            "text/plain": [
              "(array([378960.,  12424.]),\n",
              " array([ 0.      , 12.493085, 24.98617 ], dtype=float32),\n",
              " <a list of 2 Patch objects>)"
            ]
          },
          "metadata": {},
          "execution_count": 194
        },
        {
          "output_type": "display_data",
          "data": {
            "image/png": "[encoded data removed]",
            "text/plain": [
              "<Figure size 432x288 with 1 Axes>"
            ]
          },
          "metadata": {
            "needs_background": "light"
          }
        }
      ]
    },
    {
      "cell_type": "markdown",
      "metadata": {
        "id": "227f9c9e"
      },
      "source": [
        "https://www.netstate.com/states/geography/ny_geography.htm"
      ],
      "id": "227f9c9e"
    },
    {
      "cell_type": "code",
      "metadata": {
        "id": "ab9046f9"
      },
      "source": [
        "%%time\n",
        "df3.to_csv('NY_Updated_Data.csv', index=False)"
      ],
      "id": "ab9046f9",
      "execution_count": null,
      "outputs": []
    },
    {
      "cell_type": "code",
      "metadata": {
        "id": "0d7d3bbb",
        "colab": {
          "base_uri": "https://localhost:8080/"
        },
        "outputId": "b17003dc-ad7c-4adc-9bd8-52ae39d4552e"
      },
      "source": [
        "%%time\n",
        "df3_test.to_csv('NY_Updated_Test_Data.csv', index=False)"
      ],
      "id": "0d7d3bbb",
      "execution_count": null,
      "outputs": [
        {
          "output_type": "stream",
          "text": [
            "CPU times: user 71.4 ms, sys: 3.82 ms, total: 75.2 ms\n",
            "Wall time: 83.3 ms\n"
          ],
          "name": "stdout"
        }
      ]
    },
    {
      "cell_type": "markdown",
      "metadata": {
        "id": "249d4a10"
      },
      "source": [
        "## Data Cleaning"
      ],
      "id": "249d4a10"
    },
    {
      "cell_type": "code",
      "metadata": {
        "id": "5145b761"
      },
      "source": [
        "def dataClean(df):\n",
        "    # drop all rows where fare amount is less than 50 cent or higher than $150.\n",
        "\n",
        "    df.drop(df[df['fare_amount'] < 0.5].index, axis=0, inplace = True)\n",
        "    df.drop(df[df['fare_amount'] > 150].index, axis=0, inplace = True)\n",
        "\n",
        "    # drop all rows where passenger count is zero\n",
        "\n",
        "    df.drop(df[df['passenger_count'] == 0].index, axis=0, inplace = True)\n",
        "\n",
        "    # drop all row where long and lat is outside newyork\n",
        "\n",
        "    df.drop(df[(df.pickup_longitude < -79) | (df.pickup_longitude > -71) | \n",
        "              (df.pickup_latitude < 40) | (df.pickup_latitude > 45)].index,axis=0,inplace=True)\n",
        "\n",
        "    df.drop(df[(df.dropoff_longitude < -79) | (df.dropoff_longitude > -71) | \n",
        "              (df.dropoff_latitude < 40) | (df.dropoff_latitude > 45)].index,axis=0,inplace=True)\n",
        "    \n",
        "    # Drop all rows where fare amount is not in line with distance\n",
        "    df.drop(df[(df.fare_amount > 5) & (df.geopyDesic_dist < 0.001)].index, axis=0, inplace = True)\n",
        "    df.drop(df[(df.fare_amount < 20) & (df.geopyDesic_dist >150)].index, axis=0, inplace = True)\n",
        "\n",
        "\n",
        "    return df"
      ],
      "id": "5145b761",
      "execution_count": 25,
      "outputs": []
    },
    {
      "cell_type": "code",
      "metadata": {
        "colab": {
          "base_uri": "https://localhost:8080/"
        },
        "id": "Zp-OZFVP4P0m",
        "outputId": "479c7278-3dec-4747-d3e8-b2b6b3c60e22"
      },
      "source": [
        "df3.shape"
      ],
      "id": "Zp-OZFVP4P0m",
      "execution_count": 26,
      "outputs": [
        {
          "output_type": "execute_result",
          "data": {
            "text/plain": [
              "(391748, 19)"
            ]
          },
          "metadata": {},
          "execution_count": 26
        }
      ]
    },
    {
      "cell_type": "code",
      "metadata": {
        "colab": {
          "base_uri": "https://localhost:8080/",
          "height": 439
        },
        "id": "uYTQKQRZ4TqG",
        "outputId": "f6f3012e-31ad-4b6a-f59e-57382509a3b0"
      },
      "source": [
        "dataClean(df3)"
      ],
      "id": "uYTQKQRZ4TqG",
      "execution_count": 27,
      "outputs": [
        {
          "output_type": "execute_result",
          "data": {
            "text/html": [
              "<div>\n",
              "<style scoped>\n",
              "    .dataframe tbody tr th:only-of-type {\n",
              "        vertical-align: middle;\n",
              "    }\n",
              "\n",
              "    .dataframe tbody tr th {\n",
              "        vertical-align: top;\n",
              "    }\n",
              "\n",
              "    .dataframe thead th {\n",
              "        text-align: right;\n",
              "    }\n",
              "</style>\n",
              "<table border=\"1\" class=\"dataframe\">\n",
              "  <thead>\n",
              "    <tr style=\"text-align: right;\">\n",
              "      <th></th>\n",
              "      <th>fare_amount</th>\n",
              "      <th>pickup_longitude</th>\n",
              "      <th>pickup_latitude</th>\n",
              "      <th>dropoff_longitude</th>\n",
              "      <th>dropoff_latitude</th>\n",
              "      <th>passenger_count</th>\n",
              "      <th>year</th>\n",
              "      <th>day</th>\n",
              "      <th>month</th>\n",
              "      <th>weekday</th>\n",
              "      <th>hour</th>\n",
              "      <th>night</th>\n",
              "      <th>geopyDesic_dist</th>\n",
              "      <th>geopyGrtCir_dist</th>\n",
              "      <th>distance</th>\n",
              "      <th>dist_group</th>\n",
              "      <th>latdiff</th>\n",
              "      <th>londiff</th>\n",
              "      <th>euclidean</th>\n",
              "    </tr>\n",
              "  </thead>\n",
              "  <tbody>\n",
              "    <tr>\n",
              "      <th>0</th>\n",
              "      <td>4.50</td>\n",
              "      <td>-73.84</td>\n",
              "      <td>40.72</td>\n",
              "      <td>-73.84</td>\n",
              "      <td>40.71</td>\n",
              "      <td>1</td>\n",
              "      <td>2009</td>\n",
              "      <td>15</td>\n",
              "      <td>6</td>\n",
              "      <td>0</td>\n",
              "      <td>17</td>\n",
              "      <td>0</td>\n",
              "      <td>1.03</td>\n",
              "      <td>1.03</td>\n",
              "      <td>1.03</td>\n",
              "      <td>1</td>\n",
              "      <td>0.01</td>\n",
              "      <td>-0.00</td>\n",
              "      <td>0.01</td>\n",
              "    </tr>\n",
              "    <tr>\n",
              "      <th>1</th>\n",
              "      <td>16.90</td>\n",
              "      <td>-74.02</td>\n",
              "      <td>40.71</td>\n",
              "      <td>-73.98</td>\n",
              "      <td>40.78</td>\n",
              "      <td>1</td>\n",
              "      <td>2010</td>\n",
              "      <td>5</td>\n",
              "      <td>1</td>\n",
              "      <td>1</td>\n",
              "      <td>16</td>\n",
              "      <td>0</td>\n",
              "      <td>8.44</td>\n",
              "      <td>8.45</td>\n",
              "      <td>8.45</td>\n",
              "      <td>2</td>\n",
              "      <td>-0.07</td>\n",
              "      <td>-0.04</td>\n",
              "      <td>0.08</td>\n",
              "    </tr>\n",
              "    <tr>\n",
              "      <th>2</th>\n",
              "      <td>5.70</td>\n",
              "      <td>-73.98</td>\n",
              "      <td>40.76</td>\n",
              "      <td>-73.99</td>\n",
              "      <td>40.75</td>\n",
              "      <td>2</td>\n",
              "      <td>2011</td>\n",
              "      <td>18</td>\n",
              "      <td>8</td>\n",
              "      <td>3</td>\n",
              "      <td>0</td>\n",
              "      <td>1</td>\n",
              "      <td>1.39</td>\n",
              "      <td>1.39</td>\n",
              "      <td>1.39</td>\n",
              "      <td>1</td>\n",
              "      <td>0.01</td>\n",
              "      <td>0.01</td>\n",
              "      <td>0.01</td>\n",
              "    </tr>\n",
              "    <tr>\n",
              "      <th>3</th>\n",
              "      <td>7.70</td>\n",
              "      <td>-73.99</td>\n",
              "      <td>40.73</td>\n",
              "      <td>-73.99</td>\n",
              "      <td>40.76</td>\n",
              "      <td>1</td>\n",
              "      <td>2012</td>\n",
              "      <td>21</td>\n",
              "      <td>4</td>\n",
              "      <td>5</td>\n",
              "      <td>4</td>\n",
              "      <td>1</td>\n",
              "      <td>2.80</td>\n",
              "      <td>2.80</td>\n",
              "      <td>2.80</td>\n",
              "      <td>1</td>\n",
              "      <td>-0.02</td>\n",
              "      <td>0.00</td>\n",
              "      <td>0.03</td>\n",
              "    </tr>\n",
              "    <tr>\n",
              "      <th>4</th>\n",
              "      <td>5.30</td>\n",
              "      <td>-73.97</td>\n",
              "      <td>40.77</td>\n",
              "      <td>-73.96</td>\n",
              "      <td>40.78</td>\n",
              "      <td>1</td>\n",
              "      <td>2010</td>\n",
              "      <td>9</td>\n",
              "      <td>3</td>\n",
              "      <td>1</td>\n",
              "      <td>7</td>\n",
              "      <td>0</td>\n",
              "      <td>2.00</td>\n",
              "      <td>2.00</td>\n",
              "      <td>2.00</td>\n",
              "      <td>1</td>\n",
              "      <td>-0.02</td>\n",
              "      <td>-0.01</td>\n",
              "      <td>0.02</td>\n",
              "    </tr>\n",
              "    <tr>\n",
              "      <th>...</th>\n",
              "      <td>...</td>\n",
              "      <td>...</td>\n",
              "      <td>...</td>\n",
              "      <td>...</td>\n",
              "      <td>...</td>\n",
              "      <td>...</td>\n",
              "      <td>...</td>\n",
              "      <td>...</td>\n",
              "      <td>...</td>\n",
              "      <td>...</td>\n",
              "      <td>...</td>\n",
              "      <td>...</td>\n",
              "      <td>...</td>\n",
              "      <td>...</td>\n",
              "      <td>...</td>\n",
              "      <td>...</td>\n",
              "      <td>...</td>\n",
              "      <td>...</td>\n",
              "      <td>...</td>\n",
              "    </tr>\n",
              "    <tr>\n",
              "      <th>399995</th>\n",
              "      <td>7.00</td>\n",
              "      <td>-73.99</td>\n",
              "      <td>40.73</td>\n",
              "      <td>-74.01</td>\n",
              "      <td>40.73</td>\n",
              "      <td>1</td>\n",
              "      <td>2013</td>\n",
              "      <td>25</td>\n",
              "      <td>11</td>\n",
              "      <td>0</td>\n",
              "      <td>12</td>\n",
              "      <td>0</td>\n",
              "      <td>1.60</td>\n",
              "      <td>1.60</td>\n",
              "      <td>1.60</td>\n",
              "      <td>1</td>\n",
              "      <td>0.00</td>\n",
              "      <td>0.02</td>\n",
              "      <td>0.02</td>\n",
              "    </tr>\n",
              "    <tr>\n",
              "      <th>399996</th>\n",
              "      <td>8.50</td>\n",
              "      <td>-73.99</td>\n",
              "      <td>40.75</td>\n",
              "      <td>-73.99</td>\n",
              "      <td>40.77</td>\n",
              "      <td>2</td>\n",
              "      <td>2013</td>\n",
              "      <td>17</td>\n",
              "      <td>12</td>\n",
              "      <td>1</td>\n",
              "      <td>10</td>\n",
              "      <td>0</td>\n",
              "      <td>2.14</td>\n",
              "      <td>2.14</td>\n",
              "      <td>2.14</td>\n",
              "      <td>1</td>\n",
              "      <td>-0.02</td>\n",
              "      <td>-0.00</td>\n",
              "      <td>0.02</td>\n",
              "    </tr>\n",
              "    <tr>\n",
              "      <th>399997</th>\n",
              "      <td>35.00</td>\n",
              "      <td>-73.99</td>\n",
              "      <td>40.67</td>\n",
              "      <td>-73.96</td>\n",
              "      <td>40.77</td>\n",
              "      <td>1</td>\n",
              "      <td>2014</td>\n",
              "      <td>17</td>\n",
              "      <td>12</td>\n",
              "      <td>2</td>\n",
              "      <td>7</td>\n",
              "      <td>0</td>\n",
              "      <td>10.51</td>\n",
              "      <td>10.52</td>\n",
              "      <td>10.52</td>\n",
              "      <td>2</td>\n",
              "      <td>-0.09</td>\n",
              "      <td>-0.03</td>\n",
              "      <td>0.10</td>\n",
              "    </tr>\n",
              "    <tr>\n",
              "      <th>399998</th>\n",
              "      <td>14.10</td>\n",
              "      <td>-73.98</td>\n",
              "      <td>40.73</td>\n",
              "      <td>-73.99</td>\n",
              "      <td>40.78</td>\n",
              "      <td>4</td>\n",
              "      <td>2011</td>\n",
              "      <td>16</td>\n",
              "      <td>1</td>\n",
              "      <td>6</td>\n",
              "      <td>16</td>\n",
              "      <td>0</td>\n",
              "      <td>5.46</td>\n",
              "      <td>5.47</td>\n",
              "      <td>5.47</td>\n",
              "      <td>1</td>\n",
              "      <td>-0.05</td>\n",
              "      <td>0.00</td>\n",
              "      <td>0.05</td>\n",
              "    </tr>\n",
              "    <tr>\n",
              "      <th>399999</th>\n",
              "      <td>6.00</td>\n",
              "      <td>-73.99</td>\n",
              "      <td>40.76</td>\n",
              "      <td>-73.99</td>\n",
              "      <td>40.74</td>\n",
              "      <td>6</td>\n",
              "      <td>2015</td>\n",
              "      <td>3</td>\n",
              "      <td>5</td>\n",
              "      <td>6</td>\n",
              "      <td>17</td>\n",
              "      <td>0</td>\n",
              "      <td>1.66</td>\n",
              "      <td>1.66</td>\n",
              "      <td>1.66</td>\n",
              "      <td>1</td>\n",
              "      <td>0.01</td>\n",
              "      <td>0.01</td>\n",
              "      <td>0.02</td>\n",
              "    </tr>\n",
              "  </tbody>\n",
              "</table>\n",
              "<p>387143 rows × 19 columns</p>\n",
              "</div>"
            ],
            "text/plain": [
              "        fare_amount  pickup_longitude  ...  londiff  euclidean\n",
              "0              4.50            -73.84  ...    -0.00       0.01\n",
              "1             16.90            -74.02  ...    -0.04       0.08\n",
              "2              5.70            -73.98  ...     0.01       0.01\n",
              "3              7.70            -73.99  ...     0.00       0.03\n",
              "4              5.30            -73.97  ...    -0.01       0.02\n",
              "...             ...               ...  ...      ...        ...\n",
              "399995         7.00            -73.99  ...     0.02       0.02\n",
              "399996         8.50            -73.99  ...    -0.00       0.02\n",
              "399997        35.00            -73.99  ...    -0.03       0.10\n",
              "399998        14.10            -73.98  ...     0.00       0.05\n",
              "399999         6.00            -73.99  ...     0.01       0.02\n",
              "\n",
              "[387143 rows x 19 columns]"
            ]
          },
          "metadata": {},
          "execution_count": 27
        }
      ]
    },
    {
      "cell_type": "code",
      "metadata": {
        "colab": {
          "base_uri": "https://localhost:8080/"
        },
        "id": "avaRxkABjPLQ",
        "outputId": "0a8ccfbe-82a2-4005-af50-00621921441f"
      },
      "source": [
        "df3.shape"
      ],
      "id": "avaRxkABjPLQ",
      "execution_count": 28,
      "outputs": [
        {
          "output_type": "execute_result",
          "data": {
            "text/plain": [
              "(387143, 19)"
            ]
          },
          "metadata": {},
          "execution_count": 28
        }
      ]
    },
    {
      "cell_type": "markdown",
      "metadata": {
        "id": "719292a1"
      },
      "source": [
        "## Save DF to CSV /feather*"
      ],
      "id": "719292a1"
    },
    {
      "cell_type": "code",
      "metadata": {
        "id": "06768dcc"
      },
      "source": [
        "df3 = pd.read_feather('NY_Updated_Data.feather')"
      ],
      "id": "06768dcc",
      "execution_count": null,
      "outputs": []
    },
    {
      "cell_type": "code",
      "metadata": {
        "id": "081c6a3a",
        "outputId": "5c6c4fc9-91d2-4fb4-cc65-5d8814760c7a"
      },
      "source": [
        "df3.columns"
      ],
      "id": "081c6a3a",
      "execution_count": null,
      "outputs": [
        {
          "data": {
            "text/plain": [
              "Index(['fare_amount', 'pickup_longitude', 'pickup_latitude',\n",
              "       'dropoff_longitude', 'dropoff_latitude', 'passenger_count', 'year',\n",
              "       'day', 'month', 'weekday', 'hour', 'distance', 'geopyDesic_dist',\n",
              "       'geopyGrtCir_dist', 'Fare per k/m'],\n",
              "      dtype='object')"
            ]
          },
          "execution_count": 168,
          "metadata": {},
          "output_type": "execute_result"
        }
      ]
    },
    {
      "cell_type": "code",
      "metadata": {
        "id": "32237a66",
        "outputId": "ee016668-5cdd-4ab1-cf41-60f8fc0285d0"
      },
      "source": [
        "df3.describe()"
      ],
      "id": "32237a66",
      "execution_count": null,
      "outputs": [
        {
          "data": {
            "text/html": [
              "<div>\n",
              "<style scoped>\n",
              "    .dataframe tbody tr th:only-of-type {\n",
              "        vertical-align: middle;\n",
              "    }\n",
              "\n",
              "    .dataframe tbody tr th {\n",
              "        vertical-align: top;\n",
              "    }\n",
              "\n",
              "    .dataframe thead th {\n",
              "        text-align: right;\n",
              "    }\n",
              "</style>\n",
              "<table border=\"1\" class=\"dataframe\">\n",
              "  <thead>\n",
              "    <tr style=\"text-align: right;\">\n",
              "      <th></th>\n",
              "      <th>fare_amount</th>\n",
              "      <th>pickup_longitude</th>\n",
              "      <th>pickup_latitude</th>\n",
              "      <th>dropoff_longitude</th>\n",
              "      <th>dropoff_latitude</th>\n",
              "      <th>passenger_count</th>\n",
              "      <th>year</th>\n",
              "      <th>day</th>\n",
              "      <th>month</th>\n",
              "      <th>weekday</th>\n",
              "      <th>hour</th>\n",
              "      <th>distance</th>\n",
              "      <th>geopyDesic_dist</th>\n",
              "      <th>geopyGrtCir_dist</th>\n",
              "      <th>Fare per k/m</th>\n",
              "    </tr>\n",
              "  </thead>\n",
              "  <tbody>\n",
              "    <tr>\n",
              "      <th>count</th>\n",
              "      <td>385221.000000</td>\n",
              "      <td>385221.000000</td>\n",
              "      <td>385221.000000</td>\n",
              "      <td>385221.000000</td>\n",
              "      <td>385221.000000</td>\n",
              "      <td>385221.000000</td>\n",
              "      <td>385221.000000</td>\n",
              "      <td>385221.000000</td>\n",
              "      <td>385221.000000</td>\n",
              "      <td>385221.000000</td>\n",
              "      <td>385221.000000</td>\n",
              "      <td>385221.000000</td>\n",
              "      <td>385221.000000</td>\n",
              "      <td>385221.000000</td>\n",
              "      <td>385221.000000</td>\n",
              "    </tr>\n",
              "    <tr>\n",
              "      <th>mean</th>\n",
              "      <td>11.301880</td>\n",
              "      <td>-73.998222</td>\n",
              "      <td>40.874714</td>\n",
              "      <td>-73.998268</td>\n",
              "      <td>40.875866</td>\n",
              "      <td>1.690251</td>\n",
              "      <td>2011.744684</td>\n",
              "      <td>15.671721</td>\n",
              "      <td>6.276299</td>\n",
              "      <td>3.041693</td>\n",
              "      <td>13.510600</td>\n",
              "      <td>3.389573</td>\n",
              "      <td>3.390619</td>\n",
              "      <td>3.389580</td>\n",
              "      <td>5.435536</td>\n",
              "    </tr>\n",
              "    <tr>\n",
              "      <th>std</th>\n",
              "      <td>9.470420</td>\n",
              "      <td>0.046377</td>\n",
              "      <td>0.127075</td>\n",
              "      <td>0.045571</td>\n",
              "      <td>0.128576</td>\n",
              "      <td>1.306367</td>\n",
              "      <td>1.867031</td>\n",
              "      <td>8.681774</td>\n",
              "      <td>3.439939</td>\n",
              "      <td>1.948550</td>\n",
              "      <td>6.510648</td>\n",
              "      <td>3.965195</td>\n",
              "      <td>3.969135</td>\n",
              "      <td>3.965470</td>\n",
              "      <td>21.657330</td>\n",
              "    </tr>\n",
              "    <tr>\n",
              "      <th>min</th>\n",
              "      <td>2.500000</td>\n",
              "      <td>-78.650909</td>\n",
              "      <td>40.052723</td>\n",
              "      <td>-78.659447</td>\n",
              "      <td>40.041180</td>\n",
              "      <td>1.000000</td>\n",
              "      <td>2009.000000</td>\n",
              "      <td>1.000000</td>\n",
              "      <td>1.000000</td>\n",
              "      <td>0.000000</td>\n",
              "      <td>0.000000</td>\n",
              "      <td>0.002553</td>\n",
              "      <td>0.002129</td>\n",
              "      <td>0.002129</td>\n",
              "      <td>0.020000</td>\n",
              "    </tr>\n",
              "    <tr>\n",
              "      <th>25%</th>\n",
              "      <td>6.000000</td>\n",
              "      <td>-73.992287</td>\n",
              "      <td>40.736637</td>\n",
              "      <td>-73.991554</td>\n",
              "      <td>40.735695</td>\n",
              "      <td>1.000000</td>\n",
              "      <td>2010.000000</td>\n",
              "      <td>8.000000</td>\n",
              "      <td>3.000000</td>\n",
              "      <td>1.000000</td>\n",
              "      <td>9.000000</td>\n",
              "      <td>1.285923</td>\n",
              "      <td>1.286503</td>\n",
              "      <td>1.285871</td>\n",
              "      <td>2.970000</td>\n",
              "    </tr>\n",
              "    <tr>\n",
              "      <th>50%</th>\n",
              "      <td>8.500000</td>\n",
              "      <td>-73.982109</td>\n",
              "      <td>40.753471</td>\n",
              "      <td>-73.980591</td>\n",
              "      <td>40.753960</td>\n",
              "      <td>1.000000</td>\n",
              "      <td>2012.000000</td>\n",
              "      <td>16.000000</td>\n",
              "      <td>6.000000</td>\n",
              "      <td>3.000000</td>\n",
              "      <td>14.000000</td>\n",
              "      <td>2.185232</td>\n",
              "      <td>2.185659</td>\n",
              "      <td>2.185190</td>\n",
              "      <td>3.810000</td>\n",
              "    </tr>\n",
              "    <tr>\n",
              "      <th>75%</th>\n",
              "      <td>12.500000</td>\n",
              "      <td>-73.968498</td>\n",
              "      <td>40.767525</td>\n",
              "      <td>-73.965446</td>\n",
              "      <td>40.768414</td>\n",
              "      <td>2.000000</td>\n",
              "      <td>2013.000000</td>\n",
              "      <td>23.000000</td>\n",
              "      <td>9.000000</td>\n",
              "      <td>5.000000</td>\n",
              "      <td>19.000000</td>\n",
              "      <td>3.964424</td>\n",
              "      <td>3.963499</td>\n",
              "      <td>3.964440</td>\n",
              "      <td>5.030000</td>\n",
              "    </tr>\n",
              "    <tr>\n",
              "      <th>max</th>\n",
              "      <td>281.049988</td>\n",
              "      <td>-71.056412</td>\n",
              "      <td>43.183331</td>\n",
              "      <td>-71.035461</td>\n",
              "      <td>43.415192</td>\n",
              "      <td>6.000000</td>\n",
              "      <td>2015.000000</td>\n",
              "      <td>31.000000</td>\n",
              "      <td>12.000000</td>\n",
              "      <td>6.000000</td>\n",
              "      <td>23.000000</td>\n",
              "      <td>343.669189</td>\n",
              "      <td>344.545070</td>\n",
              "      <td>343.669544</td>\n",
              "      <td>993.400024</td>\n",
              "    </tr>\n",
              "  </tbody>\n",
              "</table>\n",
              "</div>"
            ],
            "text/plain": [
              "         fare_amount  pickup_longitude  pickup_latitude  dropoff_longitude  \\\n",
              "count  385221.000000     385221.000000    385221.000000      385221.000000   \n",
              "mean       11.301880        -73.998222        40.874714         -73.998268   \n",
              "std         9.470420          0.046377         0.127075           0.045571   \n",
              "min         2.500000        -78.650909        40.052723         -78.659447   \n",
              "25%         6.000000        -73.992287        40.736637         -73.991554   \n",
              "50%         8.500000        -73.982109        40.753471         -73.980591   \n",
              "75%        12.500000        -73.968498        40.767525         -73.965446   \n",
              "max       281.049988        -71.056412        43.183331         -71.035461   \n",
              "\n",
              "       dropoff_latitude  passenger_count           year            day  \\\n",
              "count     385221.000000    385221.000000  385221.000000  385221.000000   \n",
              "mean          40.875866         1.690251    2011.744684      15.671721   \n",
              "std            0.128576         1.306367       1.867031       8.681774   \n",
              "min           40.041180         1.000000    2009.000000       1.000000   \n",
              "25%           40.735695         1.000000    2010.000000       8.000000   \n",
              "50%           40.753960         1.000000    2012.000000      16.000000   \n",
              "75%           40.768414         2.000000    2013.000000      23.000000   \n",
              "max           43.415192         6.000000    2015.000000      31.000000   \n",
              "\n",
              "               month        weekday           hour       distance  \\\n",
              "count  385221.000000  385221.000000  385221.000000  385221.000000   \n",
              "mean        6.276299       3.041693      13.510600       3.389573   \n",
              "std         3.439939       1.948550       6.510648       3.965195   \n",
              "min         1.000000       0.000000       0.000000       0.002553   \n",
              "25%         3.000000       1.000000       9.000000       1.285923   \n",
              "50%         6.000000       3.000000      14.000000       2.185232   \n",
              "75%         9.000000       5.000000      19.000000       3.964424   \n",
              "max        12.000000       6.000000      23.000000     343.669189   \n",
              "\n",
              "       geopyDesic_dist  geopyGrtCir_dist   Fare per k/m  \n",
              "count    385221.000000     385221.000000  385221.000000  \n",
              "mean          3.390619          3.389580       5.435536  \n",
              "std           3.969135          3.965470      21.657330  \n",
              "min           0.002129          0.002129       0.020000  \n",
              "25%           1.286503          1.285871       2.970000  \n",
              "50%           2.185659          2.185190       3.810000  \n",
              "75%           3.963499          3.964440       5.030000  \n",
              "max         344.545070        343.669544     993.400024  "
            ]
          },
          "execution_count": 175,
          "metadata": {},
          "output_type": "execute_result"
        }
      ]
    },
    {
      "cell_type": "markdown",
      "metadata": {
        "id": "97b69348"
      },
      "source": [
        "## Exploratory Data Analysis"
      ],
      "id": "97b69348"
    },
    {
      "cell_type": "code",
      "metadata": {
        "id": "46f2454d",
        "outputId": "dc060a82-7a7d-40b7-8b55-6661c0877955"
      },
      "source": [
        "plt.scatter(df3.fare_amount, df3.distance,color='blue')\n",
        "plt.xlabel(\"distance\")\n",
        "plt.ylabel(\"fare_amount\")\n",
        "plt.show();"
      ],
      "id": "46f2454d",
      "execution_count": null,
      "outputs": [
        {
          "data": {
            "image/png": "[encoded data removed]",
            "text/plain": [
              "<Figure size 432x288 with 1 Axes>"
            ]
          },
          "metadata": {
            "needs_background": "light"
          },
          "output_type": "display_data"
        }
      ]
    },
    {
      "cell_type": "code",
      "metadata": {
        "id": "136237a1",
        "outputId": "338aebb8-53e1-4dc1-e9a1-0b6e2adc6476"
      },
      "source": [
        "plt.scatter( df3.fare_amount,df3.distance,color='blue')\n",
        "plt.show();"
      ],
      "id": "136237a1",
      "execution_count": null,
      "outputs": [
        {
          "data": {
            "image/png": "[encoded data removed]",
            "text/plain": [
              "<Figure size 432x288 with 1 Axes>"
            ]
          },
          "metadata": {
            "needs_background": "light"
          },
          "output_type": "display_data"
        }
      ]
    },
    {
      "cell_type": "code",
      "metadata": {
        "id": "1LLPYJISE7SI"
      },
      "source": [
        "## "
      ],
      "id": "1LLPYJISE7SI",
      "execution_count": null,
      "outputs": []
    },
    {
      "cell_type": "markdown",
      "metadata": {
        "id": "O62C3bY5E8ga"
      },
      "source": [
        "## prepare the dataset for training"
      ],
      "id": "O62C3bY5E8ga"
    },
    {
      "cell_type": "code",
      "metadata": {
        "colab": {
          "base_uri": "https://localhost:8080/"
        },
        "id": "hVmbfh2EaT2p",
        "outputId": "6cc4682e-dc9d-43ab-dbdf-9756f72377a0"
      },
      "source": [
        "df3.columns"
      ],
      "id": "hVmbfh2EaT2p",
      "execution_count": 29,
      "outputs": [
        {
          "output_type": "execute_result",
          "data": {
            "text/plain": [
              "Index(['fare_amount', 'pickup_longitude', 'pickup_latitude',\n",
              "       'dropoff_longitude', 'dropoff_latitude', 'passenger_count', 'year',\n",
              "       'day', 'month', 'weekday', 'hour', 'night', 'geopyDesic_dist',\n",
              "       'geopyGrtCir_dist', 'distance', 'dist_group', 'latdiff', 'londiff',\n",
              "       'euclidean'],\n",
              "      dtype='object')"
            ]
          },
          "metadata": {},
          "execution_count": 29
        }
      ]
    },
    {
      "cell_type": "code",
      "metadata": {
        "id": "RR0AFSuCaUA0"
      },
      "source": [
        "# Drop unwanted columns\n",
        "dropped_columns = ['pickup_longitude', 'pickup_latitude', \n",
        "                   'dropoff_longitude', 'dropoff_latitude','distance']\n",
        "df3 = df3.drop(dropped_columns, axis=1)"
      ],
      "id": "RR0AFSuCaUA0",
      "execution_count": null,
      "outputs": []
    },
    {
      "cell_type": "code",
      "metadata": {
        "id": "xq1iW87HjW6h"
      },
      "source": [
        "df4=df3.copy()"
      ],
      "id": "xq1iW87HjW6h",
      "execution_count": 30,
      "outputs": []
    },
    {
      "cell_type": "code",
      "metadata": {
        "id": "f1dca415"
      },
      "source": [
        "import numpy as np\n",
        "from sklearn.impute import SimpleImputer\n",
        "from sklearn.preprocessing import MinMaxScaler, OneHotEncoder\n",
        "from sklearn.model_selection import train_test_split\n",
        "\n",
        "# Identify input and target columns\n",
        "input_cols, target_col = df4.columns[1:], df4.columns[:1]\n",
        "inputs_df, targets = df4[input_cols].copy(), df4[target_col].copy()\n",
        "\n",
        "# Identify numeric and categorical columns\n",
        "numeric_cols = df4[input_cols].select_dtypes(include=np.number).columns.tolist()\n"
      ],
      "id": "f1dca415",
      "execution_count": 31,
      "outputs": []
    },
    {
      "cell_type": "code",
      "metadata": {
        "id": "46269526"
      },
      "source": [
        "imputer = SimpleImputer().fit(inputs_df[numeric_cols])\n",
        "\n",
        "### #Impute and scale numeric columns\n",
        "imputer = SimpleImputer().fit(inputs_df[numeric_cols])\n",
        "inputs_df[numeric_cols] = imputer.transform(inputs_df[numeric_cols])\n",
        "scaler = MinMaxScaler().fit(inputs_df[numeric_cols])\n",
        "inputs_df[numeric_cols] = scaler.transform(inputs_df[numeric_cols])"
      ],
      "id": "46269526",
      "execution_count": 32,
      "outputs": []
    },
    {
      "cell_type": "code",
      "metadata": {
        "id": "fbcee869"
      },
      "source": [
        "\n",
        "# Create training and validation sets\n",
        "train_inputs, val_inputs, train_targets, val_targets = train_test_split(\n",
        "    inputs_df[numeric_cols], targets, test_size=0.20, random_state=42)"
      ],
      "id": "fbcee869",
      "execution_count": 33,
      "outputs": []
    },
    {
      "cell_type": "markdown",
      "metadata": {
        "id": "iHk1H06TFd9E"
      },
      "source": [
        "## decision tree"
      ],
      "id": "iHk1H06TFd9E"
    },
    {
      "cell_type": "code",
      "metadata": {
        "id": "fd2747f8"
      },
      "source": [
        "from sklearn.tree import DecisionTreeRegressor\n",
        "from sklearn.metrics import mean_squared_error"
      ],
      "id": "fd2747f8",
      "execution_count": 34,
      "outputs": []
    },
    {
      "cell_type": "code",
      "metadata": {
        "id": "d7c60c9a"
      },
      "source": [
        "tree = DecisionTreeRegressor(random_state=42)"
      ],
      "id": "d7c60c9a",
      "execution_count": 35,
      "outputs": []
    },
    {
      "cell_type": "code",
      "metadata": {
        "colab": {
          "base_uri": "https://localhost:8080/"
        },
        "id": "fd0b1d45",
        "outputId": "a292c631-476a-45e7-eb4f-e047c2550bae"
      },
      "source": [
        "# Fit the model to the training data\n",
        "tree.fit(train_inputs,train_targets)"
      ],
      "id": "fd0b1d45",
      "execution_count": 36,
      "outputs": [
        {
          "output_type": "execute_result",
          "data": {
            "text/plain": [
              "DecisionTreeRegressor(ccp_alpha=0.0, criterion='mse', max_depth=None,\n",
              "                      max_features=None, max_leaf_nodes=None,\n",
              "                      min_impurity_decrease=0.0, min_impurity_split=None,\n",
              "                      min_samples_leaf=1, min_samples_split=2,\n",
              "                      min_weight_fraction_leaf=0.0, presort='deprecated',\n",
              "                      random_state=42, splitter='best')"
            ]
          },
          "metadata": {},
          "execution_count": 36
        }
      ]
    },
    {
      "cell_type": "code",
      "metadata": {
        "id": "9e5d1cba"
      },
      "source": [
        "tree_train_preds = tree.predict(train_inputs)"
      ],
      "id": "9e5d1cba",
      "execution_count": 37,
      "outputs": []
    },
    {
      "cell_type": "code",
      "metadata": {
        "colab": {
          "base_uri": "https://localhost:8080/"
        },
        "id": "0a4961cd",
        "outputId": "9a70cc03-c026-4e60-e68a-21893280a43a"
      },
      "source": [
        "tree_train_preds"
      ],
      "id": "0a4961cd",
      "execution_count": 38,
      "outputs": [
        {
          "output_type": "execute_result",
          "data": {
            "text/plain": [
              "array([ 8.89999962, 11.69999981, 15.        , ..., 57.33000183,\n",
              "       14.5       ,  6.5       ])"
            ]
          },
          "metadata": {},
          "execution_count": 38
        }
      ]
    },
    {
      "cell_type": "code",
      "metadata": {
        "id": "424505d1"
      },
      "source": [
        "tree_train_rmse = mean_squared_error(train_targets,tree_train_preds,squared=False)"
      ],
      "id": "424505d1",
      "execution_count": 39,
      "outputs": []
    },
    {
      "cell_type": "code",
      "metadata": {
        "id": "376e7009"
      },
      "source": [
        "tree_val_preds = tree.predict(val_inputs)"
      ],
      "id": "376e7009",
      "execution_count": 40,
      "outputs": []
    },
    {
      "cell_type": "code",
      "metadata": {
        "id": "173ff639"
      },
      "source": [
        "tree_val_rmse = mean_squared_error(val_targets,tree_val_preds,squared=False)"
      ],
      "id": "173ff639",
      "execution_count": 41,
      "outputs": []
    },
    {
      "cell_type": "code",
      "metadata": {
        "colab": {
          "base_uri": "https://localhost:8080/"
        },
        "id": "d6d95e24",
        "outputId": "dc305b03-13f5-4e8b-838f-f2c628d53154"
      },
      "source": [
        "print('Train RMSE: {}, Validation RMSE: {}'.format(tree_train_rmse, tree_val_rmse))"
      ],
      "id": "d6d95e24",
      "execution_count": 42,
      "outputs": [
        {
          "output_type": "stream",
          "text": [
            "Train RMSE: 0.0, Validation RMSE: 4.75847841564057\n"
          ],
          "name": "stdout"
        }
      ]
    },
    {
      "cell_type": "code",
      "metadata": {
        "colab": {
          "base_uri": "https://localhost:8080/"
        },
        "id": "-e1dIl_YkAoD",
        "outputId": "f9de5ad8-2628-4cb1-8a1f-b0dcbeb3f623"
      },
      "source": [
        "df4['fare_amount'].mean()"
      ],
      "id": "-e1dIl_YkAoD",
      "execution_count": 43,
      "outputs": [
        {
          "output_type": "execute_result",
          "data": {
            "text/plain": [
              "11.297341346740723"
            ]
          },
          "metadata": {},
          "execution_count": 43
        }
      ]
    },
    {
      "cell_type": "code",
      "metadata": {
        "id": "837fd42a"
      },
      "source": [
        "import matplotlib.pyplot as plt\n",
        "from sklearn.tree import plot_tree, export_text\n",
        "import seaborn as sns\n",
        "sns.set_style('darkgrid')\n",
        "%matplotlib inline"
      ],
      "id": "837fd42a",
      "execution_count": 44,
      "outputs": []
    },
    {
      "cell_type": "code",
      "metadata": {
        "colab": {
          "base_uri": "https://localhost:8080/",
          "height": 516
        },
        "id": "6e519d0f",
        "outputId": "4ed54aae-1452-471d-a27b-1bd01b66c569"
      },
      "source": [
        "plt.figure(figsize=(30,15))\n",
        "\n",
        "# Visualize the tree graphically using plot_tree\n",
        "plot_tree(tree, feature_names=train_inputs.columns, max_depth=2, filled=True);"
      ],
      "id": "6e519d0f",
      "execution_count": null,
      "outputs": [
        {
          "output_type": "display_data",
          "data": {
            "image/png": "[encoded data removed]",
            "text/plain": [
              "<Figure size 2160x1080 with 1 Axes>"
            ]
          },
          "metadata": {
            "needs_background": "light"
          }
        }
      ]
    },
    {
      "cell_type": "code",
      "metadata": {
        "id": "21747bcd"
      },
      "source": [
        "# Visualize the tree textually using export_text\n",
        "tree_text = export_text(tree, max_depth=10, feature_names=list(train_inputs.columns))"
      ],
      "id": "21747bcd",
      "execution_count": null,
      "outputs": []
    },
    {
      "cell_type": "code",
      "metadata": {
        "colab": {
          "base_uri": "https://localhost:8080/"
        },
        "id": "2426ffb4",
        "outputId": "4fb6e47f-67f0-493e-8d0a-7dec0a5af5c2"
      },
      "source": [
        "# Display the first few lines\n",
        "print(tree_text[:2000])"
      ],
      "id": "2426ffb4",
      "execution_count": null,
      "outputs": [
        {
          "output_type": "stream",
          "text": [
            "|--- euclidean <= 0.06\n",
            "|   |--- euclidean <= 0.02\n",
            "|   |   |--- euclidean <= 0.01\n",
            "|   |   |   |--- dropoff_longitude <= 0.44\n",
            "|   |   |   |   |--- pickup_longitude <= 0.37\n",
            "|   |   |   |   |   |--- euclidean <= 0.00\n",
            "|   |   |   |   |   |   |--- euclidean <= 0.00\n",
            "|   |   |   |   |   |   |   |--- day <= 0.65\n",
            "|   |   |   |   |   |   |   |   |--- year <= 0.42\n",
            "|   |   |   |   |   |   |   |   |   |--- month <= 0.09\n",
            "|   |   |   |   |   |   |   |   |   |   |--- value: [2.50]\n",
            "|   |   |   |   |   |   |   |   |   |--- month >  0.09\n",
            "|   |   |   |   |   |   |   |   |   |   |--- pickup_longitude <= 0.37\n",
            "|   |   |   |   |   |   |   |   |   |   |   |--- truncated branch of depth 3\n",
            "|   |   |   |   |   |   |   |   |   |   |--- pickup_longitude >  0.37\n",
            "|   |   |   |   |   |   |   |   |   |   |   |--- value: [3.30]\n",
            "|   |   |   |   |   |   |   |   |--- year >  0.42\n",
            "|   |   |   |   |   |   |   |   |   |--- value: [2.50]\n",
            "|   |   |   |   |   |   |   |--- day >  0.65\n",
            "|   |   |   |   |   |   |   |   |--- value: [2.50]\n",
            "|   |   |   |   |   |   |--- euclidean >  0.00\n",
            "|   |   |   |   |   |   |   |--- year <= 0.58\n",
            "|   |   |   |   |   |   |   |   |--- pickup_latitude <= 0.37\n",
            "|   |   |   |   |   |   |   |   |   |--- dropoff_longitude <= 0.34\n",
            "|   |   |   |   |   |   |   |   |   |   |--- pickup_latitude <= 0.34\n",
            "|   |   |   |   |   |   |   |   |   |   |   |--- value: [80.00]\n",
            "|   |   |   |   |   |   |   |   |   |   |--- pickup_latitude >  0.34\n",
            "|   |   |   |   |   |   |   |   |   |   |   |--- truncated branch of depth 2\n",
            "|   |   |   |   |   |   |   |   |   |--- dropoff_longitude >  0.34\n",
            "|   |   |   |   |   |   |   |   |   |   |--- euclidean <= 0.00\n",
            "|   |   |   |   |   |   |   |   |   |   |   |--- value: [9.70]\n",
            "|   |   |   |   |   |   |   |   |   |   |--- euclidean >  0.00\n",
            "|   |   |   |   |   |   |   |   |   |   |   |--- truncated branch of depth 3\n",
            "|   |   |   |   |   |   |   |   |--- pickup_latitude >  0.37\n",
            "|   |   |   |   |   |   |   |   |   |--- pickup_longitude <= 0.37\n",
            "|   |   |   |   |   |   |   |   |  \n"
          ],
          "name": "stdout"
        }
      ]
    },
    {
      "cell_type": "code",
      "metadata": {
        "id": "3f1e4763"
      },
      "source": [
        "# Check feature importance\n",
        "tree_importances = tree.feature_importances_"
      ],
      "id": "3f1e4763",
      "execution_count": null,
      "outputs": []
    },
    {
      "cell_type": "code",
      "metadata": {
        "id": "810b92a1"
      },
      "source": [
        "tree_importance_df = pd.DataFrame({\n",
        "    'feature': train_inputs.columns,\n",
        "    'importance': tree_importances\n",
        "}).sort_values('importance', ascending=False)"
      ],
      "id": "810b92a1",
      "execution_count": null,
      "outputs": []
    },
    {
      "cell_type": "code",
      "metadata": {
        "colab": {
          "base_uri": "https://localhost:8080/",
          "height": 576
        },
        "id": "3754b29f",
        "outputId": "5254cae1-3ac7-46d5-8397-b5c52ec7793c"
      },
      "source": [
        "tree_importance_df"
      ],
      "id": "3754b29f",
      "execution_count": null,
      "outputs": [
        {
          "output_type": "execute_result",
          "data": {
            "text/html": [
              "<div>\n",
              "<style scoped>\n",
              "    .dataframe tbody tr th:only-of-type {\n",
              "        vertical-align: middle;\n",
              "    }\n",
              "\n",
              "    .dataframe tbody tr th {\n",
              "        vertical-align: top;\n",
              "    }\n",
              "\n",
              "    .dataframe thead th {\n",
              "        text-align: right;\n",
              "    }\n",
              "</style>\n",
              "<table border=\"1\" class=\"dataframe\">\n",
              "  <thead>\n",
              "    <tr style=\"text-align: right;\">\n",
              "      <th></th>\n",
              "      <th>feature</th>\n",
              "      <th>importance</th>\n",
              "    </tr>\n",
              "  </thead>\n",
              "  <tbody>\n",
              "    <tr>\n",
              "      <th>16</th>\n",
              "      <td>euclidean</td>\n",
              "      <td>0.80</td>\n",
              "    </tr>\n",
              "    <tr>\n",
              "      <th>2</th>\n",
              "      <td>dropoff_longitude</td>\n",
              "      <td>0.03</td>\n",
              "    </tr>\n",
              "    <tr>\n",
              "      <th>5</th>\n",
              "      <td>year</td>\n",
              "      <td>0.02</td>\n",
              "    </tr>\n",
              "    <tr>\n",
              "      <th>3</th>\n",
              "      <td>dropoff_latitude</td>\n",
              "      <td>0.02</td>\n",
              "    </tr>\n",
              "    <tr>\n",
              "      <th>14</th>\n",
              "      <td>latdiff</td>\n",
              "      <td>0.02</td>\n",
              "    </tr>\n",
              "    <tr>\n",
              "      <th>15</th>\n",
              "      <td>londiff</td>\n",
              "      <td>0.02</td>\n",
              "    </tr>\n",
              "    <tr>\n",
              "      <th>0</th>\n",
              "      <td>pickup_longitude</td>\n",
              "      <td>0.02</td>\n",
              "    </tr>\n",
              "    <tr>\n",
              "      <th>11</th>\n",
              "      <td>geopyDesic_dist</td>\n",
              "      <td>0.01</td>\n",
              "    </tr>\n",
              "    <tr>\n",
              "      <th>1</th>\n",
              "      <td>pickup_latitude</td>\n",
              "      <td>0.01</td>\n",
              "    </tr>\n",
              "    <tr>\n",
              "      <th>13</th>\n",
              "      <td>distance</td>\n",
              "      <td>0.01</td>\n",
              "    </tr>\n",
              "    <tr>\n",
              "      <th>9</th>\n",
              "      <td>hour</td>\n",
              "      <td>0.01</td>\n",
              "    </tr>\n",
              "    <tr>\n",
              "      <th>7</th>\n",
              "      <td>month</td>\n",
              "      <td>0.01</td>\n",
              "    </tr>\n",
              "    <tr>\n",
              "      <th>6</th>\n",
              "      <td>day</td>\n",
              "      <td>0.01</td>\n",
              "    </tr>\n",
              "    <tr>\n",
              "      <th>12</th>\n",
              "      <td>geopyGrtCir_dist</td>\n",
              "      <td>0.01</td>\n",
              "    </tr>\n",
              "    <tr>\n",
              "      <th>8</th>\n",
              "      <td>weekday</td>\n",
              "      <td>0.01</td>\n",
              "    </tr>\n",
              "    <tr>\n",
              "      <th>10</th>\n",
              "      <td>night</td>\n",
              "      <td>0.00</td>\n",
              "    </tr>\n",
              "    <tr>\n",
              "      <th>4</th>\n",
              "      <td>passenger_count</td>\n",
              "      <td>0.00</td>\n",
              "    </tr>\n",
              "  </tbody>\n",
              "</table>\n",
              "</div>"
            ],
            "text/plain": [
              "              feature  importance\n",
              "16          euclidean        0.80\n",
              "2   dropoff_longitude        0.03\n",
              "5                year        0.02\n",
              "3    dropoff_latitude        0.02\n",
              "14            latdiff        0.02\n",
              "15            londiff        0.02\n",
              "0    pickup_longitude        0.02\n",
              "11    geopyDesic_dist        0.01\n",
              "1     pickup_latitude        0.01\n",
              "13           distance        0.01\n",
              "9                hour        0.01\n",
              "7               month        0.01\n",
              "6                 day        0.01\n",
              "12   geopyGrtCir_dist        0.01\n",
              "8             weekday        0.01\n",
              "10              night        0.00\n",
              "4     passenger_count        0.00"
            ]
          },
          "metadata": {},
          "execution_count": 226
        }
      ]
    },
    {
      "cell_type": "code",
      "metadata": {
        "colab": {
          "base_uri": "https://localhost:8080/",
          "height": 295
        },
        "id": "e3b63b02",
        "outputId": "58dab5a0-cd1b-4275-95d8-1e298db499d3"
      },
      "source": [
        "plt.title('Decision Tree Feature Importance')\n",
        "sns.barplot(data=tree_importance_df.head(10), x='importance', y='feature');"
      ],
      "id": "e3b63b02",
      "execution_count": null,
      "outputs": [
        {
          "output_type": "display_data",
          "data": {
            "image/png": "[encoded data removed]",
            "text/plain": [
              "<Figure size 432x288 with 1 Axes>"
            ]
          },
          "metadata": {
            "needs_background": "light"
          }
        }
      ]
    },
    {
      "cell_type": "markdown",
      "metadata": {
        "id": "559808d2"
      },
      "source": [
        "## Random Forests"
      ],
      "id": "559808d2"
    },
    {
      "cell_type": "code",
      "metadata": {
        "id": "1eaa317f"
      },
      "source": [
        "from sklearn.ensemble import RandomForestRegressor"
      ],
      "id": "1eaa317f",
      "execution_count": 45,
      "outputs": []
    },
    {
      "cell_type": "code",
      "metadata": {
        "id": "752a1a27"
      },
      "source": [
        "# Create the model\n",
        "rf1 = RandomForestRegressor(n_estimators=50, max_depth=10, min_samples_leaf=4, max_features=0.4,random_state=42)"
      ],
      "id": "752a1a27",
      "execution_count": 46,
      "outputs": []
    },
    {
      "cell_type": "code",
      "metadata": {
        "colab": {
          "base_uri": "https://localhost:8080/"
        },
        "id": "581c64da",
        "outputId": "2e6b8736-5ccd-4229-b098-412d4d292430"
      },
      "source": [
        "# Fit the model\n",
        "rf1.fit(train_inputs,train_targets)"
      ],
      "id": "581c64da",
      "execution_count": 47,
      "outputs": [
        {
          "output_type": "stream",
          "text": [
            "/usr/local/lib/python3.7/dist-packages/ipykernel_launcher.py:2: DataConversionWarning: A column-vector y was passed when a 1d array was expected. Please change the shape of y to (n_samples,), for example using ravel().\n",
            "  \n"
          ],
          "name": "stderr"
        },
        {
          "output_type": "execute_result",
          "data": {
            "text/plain": [
              "RandomForestRegressor(bootstrap=True, ccp_alpha=0.0, criterion='mse',\n",
              "                      max_depth=10, max_features=0.4, max_leaf_nodes=None,\n",
              "                      max_samples=None, min_impurity_decrease=0.0,\n",
              "                      min_impurity_split=None, min_samples_leaf=4,\n",
              "                      min_samples_split=2, min_weight_fraction_leaf=0.0,\n",
              "                      n_estimators=50, n_jobs=None, oob_score=False,\n",
              "                      random_state=None, verbose=0, warm_start=False)"
            ]
          },
          "metadata": {},
          "execution_count": 47
        }
      ]
    },
    {
      "cell_type": "code",
      "metadata": {
        "id": "e4243644"
      },
      "source": [
        "rf1_train_preds = rf1.predict(train_inputs)"
      ],
      "id": "e4243644",
      "execution_count": 48,
      "outputs": []
    },
    {
      "cell_type": "code",
      "metadata": {
        "id": "90d5fc1e"
      },
      "source": [
        "rf1_train_rmse = mean_squared_error(train_targets,rf1_train_preds,squared=False)"
      ],
      "id": "90d5fc1e",
      "execution_count": 49,
      "outputs": []
    },
    {
      "cell_type": "code",
      "metadata": {
        "id": "56b7dfb3"
      },
      "source": [
        "rf1_val_preds = rf1.predict(val_inputs)"
      ],
      "id": "56b7dfb3",
      "execution_count": 50,
      "outputs": []
    },
    {
      "cell_type": "code",
      "metadata": {
        "id": "585b8584"
      },
      "source": [
        "rf1_val_rmse = mean_squared_error(val_targets,rf1_val_preds,squared=False)"
      ],
      "id": "585b8584",
      "execution_count": 51,
      "outputs": []
    },
    {
      "cell_type": "code",
      "metadata": {
        "colab": {
          "base_uri": "https://localhost:8080/"
        },
        "id": "c76937d5",
        "outputId": "c044a264-a6f4-421d-f4c4-8f16d847d97c"
      },
      "source": [
        "print('Train RMSE: {}, Validation RMSE: {}'.format(rf1_train_rmse, rf1_val_rmse))"
      ],
      "id": "c76937d5",
      "execution_count": 52,
      "outputs": [
        {
          "output_type": "stream",
          "text": [
            "Train RMSE: 3.331035948981638, Validation RMSE: 3.512552306225089\n"
          ],
          "name": "stdout"
        }
      ]
    },
    {
      "cell_type": "markdown",
      "metadata": {
        "id": "2ffc1cbc"
      },
      "source": [
        "### Hyperparameter Tuning\n"
      ],
      "id": "2ffc1cbc"
    },
    {
      "cell_type": "code",
      "metadata": {
        "id": "ca14d5a6"
      },
      "source": [
        "def test_params(**params):\n",
        "    model = RandomForestRegressor(random_state=42, n_jobs=-1, **params).fit(train_inputs, train_targets)\n",
        "    train_rmse = mean_squared_error(model.predict(train_inputs), train_targets, squared=False)\n",
        "    val_rmse = mean_squared_error(model.predict(val_inputs), val_targets, squared=False)\n",
        "    return train_rmse, val_rmse"
      ],
      "id": "ca14d5a6",
      "execution_count": 83,
      "outputs": []
    },
    {
      "cell_type": "code",
      "metadata": {
        "id": "d9bab859"
      },
      "source": [
        "def test_param_and_plot(param_name, param_values):\n",
        "    train_errors, val_errors = [], [] \n",
        "    for value in param_values:\n",
        "        params = {param_name: value}\n",
        "        train_rmse, val_rmse = test_params(**params)\n",
        "        train_errors.append(train_rmse)\n",
        "        val_errors.append(val_rmse)\n",
        "    plt.figure(figsize=(10,6))\n",
        "    plt.title('Overfitting curve: ' + param_name)\n",
        "    plt.plot(param_values, train_errors, 'b-o')\n",
        "    plt.plot(param_values, val_errors, 'r-o')\n",
        "    plt.xlabel(param_name)\n",
        "    plt.ylabel('RMSE')\n",
        "    plt.legend(['Training', 'Validation'])"
      ],
      "id": "d9bab859",
      "execution_count": 84,
      "outputs": []
    },
    {
      "cell_type": "code",
      "metadata": {
        "colab": {
          "base_uri": "https://localhost:8080/",
          "height": 361
        },
        "id": "2d5f4afb",
        "outputId": "a27b57d0-2392-40bb-f103-e4f243bb7217"
      },
      "source": [
        "test_params(n_estimators=50, max_depth=10, min_samples_leaf=4, max_features=0.4)"
      ],
      "id": "2d5f4afb",
      "execution_count": 86,
      "outputs": [
        {
          "output_type": "stream",
          "text": [
            "/usr/local/lib/python3.7/dist-packages/ipykernel_launcher.py:2: DataConversionWarning: A column-vector y was passed when a 1d array was expected. Please change the shape of y to (n_samples,), for example using ravel().\n",
            "  \n"
          ],
          "name": "stderr"
        },
        {
          "output_type": "error",
          "ename": "KeyboardInterrupt",
          "evalue": "ignored",
          "traceback": [
            "\u001b[0;31m---------------------------------------------------------------------------\u001b[0m",
            "\u001b[0;31mKeyboardInterrupt\u001b[0m                         Traceback (most recent call last)",
            "\u001b[0;32m<ipython-input-86-d95a63fcbedb>\u001b[0m in \u001b[0;36m<module>\u001b[0;34m()\u001b[0m\n\u001b[0;32m----> 1\u001b[0;31m \u001b[0mtest_params\u001b[0m\u001b[0;34m(\u001b[0m\u001b[0mn_estimators\u001b[0m\u001b[0;34m=\u001b[0m\u001b[0;36m50\u001b[0m\u001b[0;34m,\u001b[0m \u001b[0mmax_depth\u001b[0m\u001b[0;34m=\u001b[0m\u001b[0;36m10\u001b[0m\u001b[0;34m,\u001b[0m \u001b[0mmin_samples_leaf\u001b[0m\u001b[0;34m=\u001b[0m\u001b[0;36m4\u001b[0m\u001b[0;34m,\u001b[0m \u001b[0mmax_features\u001b[0m\u001b[0;34m=\u001b[0m\u001b[0;36m0.4\u001b[0m\u001b[0;34m)\u001b[0m\u001b[0;34m\u001b[0m\u001b[0;34m\u001b[0m\u001b[0m\n\u001b[0m",
            "\u001b[0;32m<ipython-input-83-0a934fac384a>\u001b[0m in \u001b[0;36mtest_params\u001b[0;34m(**params)\u001b[0m\n\u001b[1;32m      1\u001b[0m \u001b[0;32mdef\u001b[0m \u001b[0mtest_params\u001b[0m\u001b[0;34m(\u001b[0m\u001b[0;34m**\u001b[0m\u001b[0mparams\u001b[0m\u001b[0;34m)\u001b[0m\u001b[0;34m:\u001b[0m\u001b[0;34m\u001b[0m\u001b[0;34m\u001b[0m\u001b[0m\n\u001b[0;32m----> 2\u001b[0;31m     \u001b[0mmodel\u001b[0m \u001b[0;34m=\u001b[0m \u001b[0mRandomForestRegressor\u001b[0m\u001b[0;34m(\u001b[0m\u001b[0mrandom_state\u001b[0m\u001b[0;34m=\u001b[0m\u001b[0;36m42\u001b[0m\u001b[0;34m,\u001b[0m \u001b[0mn_jobs\u001b[0m\u001b[0;34m=\u001b[0m\u001b[0;34m-\u001b[0m\u001b[0;36m1\u001b[0m\u001b[0;34m,\u001b[0m \u001b[0;34m**\u001b[0m\u001b[0mparams\u001b[0m\u001b[0;34m)\u001b[0m\u001b[0;34m.\u001b[0m\u001b[0mfit\u001b[0m\u001b[0;34m(\u001b[0m\u001b[0mtrain_inputs\u001b[0m\u001b[0;34m,\u001b[0m \u001b[0mtrain_targets\u001b[0m\u001b[0;34m)\u001b[0m\u001b[0;34m\u001b[0m\u001b[0;34m\u001b[0m\u001b[0m\n\u001b[0m\u001b[1;32m      3\u001b[0m     \u001b[0mtrain_rmse\u001b[0m \u001b[0;34m=\u001b[0m \u001b[0mmean_squared_error\u001b[0m\u001b[0;34m(\u001b[0m\u001b[0mmodel\u001b[0m\u001b[0;34m.\u001b[0m\u001b[0mpredict\u001b[0m\u001b[0;34m(\u001b[0m\u001b[0mtrain_inputs\u001b[0m\u001b[0;34m)\u001b[0m\u001b[0;34m,\u001b[0m \u001b[0mtrain_targets\u001b[0m\u001b[0;34m,\u001b[0m \u001b[0msquared\u001b[0m\u001b[0;34m=\u001b[0m\u001b[0;32mFalse\u001b[0m\u001b[0;34m)\u001b[0m\u001b[0;34m\u001b[0m\u001b[0;34m\u001b[0m\u001b[0m\n\u001b[1;32m      4\u001b[0m     \u001b[0mval_rmse\u001b[0m \u001b[0;34m=\u001b[0m \u001b[0mmean_squared_error\u001b[0m\u001b[0;34m(\u001b[0m\u001b[0mmodel\u001b[0m\u001b[0;34m.\u001b[0m\u001b[0mpredict\u001b[0m\u001b[0;34m(\u001b[0m\u001b[0mval_inputs\u001b[0m\u001b[0;34m)\u001b[0m\u001b[0;34m,\u001b[0m \u001b[0mval_targets\u001b[0m\u001b[0;34m,\u001b[0m \u001b[0msquared\u001b[0m\u001b[0;34m=\u001b[0m\u001b[0;32mFalse\u001b[0m\u001b[0;34m)\u001b[0m\u001b[0;34m\u001b[0m\u001b[0;34m\u001b[0m\u001b[0m\n\u001b[1;32m      5\u001b[0m     \u001b[0;32mreturn\u001b[0m \u001b[0mtrain_rmse\u001b[0m\u001b[0;34m,\u001b[0m \u001b[0mval_rmse\u001b[0m\u001b[0;34m\u001b[0m\u001b[0;34m\u001b[0m\u001b[0m\n",
            "\u001b[0;32m/usr/local/lib/python3.7/dist-packages/sklearn/ensemble/_forest.py\u001b[0m in \u001b[0;36mfit\u001b[0;34m(self, X, y, sample_weight)\u001b[0m\n\u001b[1;32m    381\u001b[0m                     \u001b[0mverbose\u001b[0m\u001b[0;34m=\u001b[0m\u001b[0mself\u001b[0m\u001b[0;34m.\u001b[0m\u001b[0mverbose\u001b[0m\u001b[0;34m,\u001b[0m \u001b[0mclass_weight\u001b[0m\u001b[0;34m=\u001b[0m\u001b[0mself\u001b[0m\u001b[0;34m.\u001b[0m\u001b[0mclass_weight\u001b[0m\u001b[0;34m,\u001b[0m\u001b[0;34m\u001b[0m\u001b[0;34m\u001b[0m\u001b[0m\n\u001b[1;32m    382\u001b[0m                     n_samples_bootstrap=n_samples_bootstrap)\n\u001b[0;32m--> 383\u001b[0;31m                 for i, t in enumerate(trees))\n\u001b[0m\u001b[1;32m    384\u001b[0m \u001b[0;34m\u001b[0m\u001b[0m\n\u001b[1;32m    385\u001b[0m             \u001b[0;31m# Collect newly grown trees\u001b[0m\u001b[0;34m\u001b[0m\u001b[0;34m\u001b[0m\u001b[0;34m\u001b[0m\u001b[0m\n",
            "\u001b[0;32m/usr/local/lib/python3.7/dist-packages/joblib/parallel.py\u001b[0m in \u001b[0;36m__call__\u001b[0;34m(self, iterable)\u001b[0m\n\u001b[1;32m   1052\u001b[0m \u001b[0;34m\u001b[0m\u001b[0m\n\u001b[1;32m   1053\u001b[0m             \u001b[0;32mwith\u001b[0m \u001b[0mself\u001b[0m\u001b[0;34m.\u001b[0m\u001b[0m_backend\u001b[0m\u001b[0;34m.\u001b[0m\u001b[0mretrieval_context\u001b[0m\u001b[0;34m(\u001b[0m\u001b[0;34m)\u001b[0m\u001b[0;34m:\u001b[0m\u001b[0;34m\u001b[0m\u001b[0;34m\u001b[0m\u001b[0m\n\u001b[0;32m-> 1054\u001b[0;31m                 \u001b[0mself\u001b[0m\u001b[0;34m.\u001b[0m\u001b[0mretrieve\u001b[0m\u001b[0;34m(\u001b[0m\u001b[0;34m)\u001b[0m\u001b[0;34m\u001b[0m\u001b[0;34m\u001b[0m\u001b[0m\n\u001b[0m\u001b[1;32m   1055\u001b[0m             \u001b[0;31m# Make sure that we get a last message telling us we are done\u001b[0m\u001b[0;34m\u001b[0m\u001b[0;34m\u001b[0m\u001b[0;34m\u001b[0m\u001b[0m\n\u001b[1;32m   1056\u001b[0m             \u001b[0melapsed_time\u001b[0m \u001b[0;34m=\u001b[0m \u001b[0mtime\u001b[0m\u001b[0;34m.\u001b[0m\u001b[0mtime\u001b[0m\u001b[0;34m(\u001b[0m\u001b[0;34m)\u001b[0m \u001b[0;34m-\u001b[0m \u001b[0mself\u001b[0m\u001b[0;34m.\u001b[0m\u001b[0m_start_time\u001b[0m\u001b[0;34m\u001b[0m\u001b[0;34m\u001b[0m\u001b[0m\n",
            "\u001b[0;32m/usr/local/lib/python3.7/dist-packages/joblib/parallel.py\u001b[0m in \u001b[0;36mretrieve\u001b[0;34m(self)\u001b[0m\n\u001b[1;32m    931\u001b[0m             \u001b[0;32mtry\u001b[0m\u001b[0;34m:\u001b[0m\u001b[0;34m\u001b[0m\u001b[0;34m\u001b[0m\u001b[0m\n\u001b[1;32m    932\u001b[0m                 \u001b[0;32mif\u001b[0m \u001b[0mgetattr\u001b[0m\u001b[0;34m(\u001b[0m\u001b[0mself\u001b[0m\u001b[0;34m.\u001b[0m\u001b[0m_backend\u001b[0m\u001b[0;34m,\u001b[0m \u001b[0;34m'supports_timeout'\u001b[0m\u001b[0;34m,\u001b[0m \u001b[0;32mFalse\u001b[0m\u001b[0;34m)\u001b[0m\u001b[0;34m:\u001b[0m\u001b[0;34m\u001b[0m\u001b[0;34m\u001b[0m\u001b[0m\n\u001b[0;32m--> 933\u001b[0;31m                     \u001b[0mself\u001b[0m\u001b[0;34m.\u001b[0m\u001b[0m_output\u001b[0m\u001b[0;34m.\u001b[0m\u001b[0mextend\u001b[0m\u001b[0;34m(\u001b[0m\u001b[0mjob\u001b[0m\u001b[0;34m.\u001b[0m\u001b[0mget\u001b[0m\u001b[0;34m(\u001b[0m\u001b[0mtimeout\u001b[0m\u001b[0;34m=\u001b[0m\u001b[0mself\u001b[0m\u001b[0;34m.\u001b[0m\u001b[0mtimeout\u001b[0m\u001b[0;34m)\u001b[0m\u001b[0;34m)\u001b[0m\u001b[0;34m\u001b[0m\u001b[0;34m\u001b[0m\u001b[0m\n\u001b[0m\u001b[1;32m    934\u001b[0m                 \u001b[0;32melse\u001b[0m\u001b[0;34m:\u001b[0m\u001b[0;34m\u001b[0m\u001b[0;34m\u001b[0m\u001b[0m\n\u001b[1;32m    935\u001b[0m                     \u001b[0mself\u001b[0m\u001b[0;34m.\u001b[0m\u001b[0m_output\u001b[0m\u001b[0;34m.\u001b[0m\u001b[0mextend\u001b[0m\u001b[0;34m(\u001b[0m\u001b[0mjob\u001b[0m\u001b[0;34m.\u001b[0m\u001b[0mget\u001b[0m\u001b[0;34m(\u001b[0m\u001b[0;34m)\u001b[0m\u001b[0;34m)\u001b[0m\u001b[0;34m\u001b[0m\u001b[0;34m\u001b[0m\u001b[0m\n",
            "\u001b[0;32m/usr/lib/python3.7/multiprocessing/pool.py\u001b[0m in \u001b[0;36mget\u001b[0;34m(self, timeout)\u001b[0m\n\u001b[1;32m    649\u001b[0m \u001b[0;34m\u001b[0m\u001b[0m\n\u001b[1;32m    650\u001b[0m     \u001b[0;32mdef\u001b[0m \u001b[0mget\u001b[0m\u001b[0;34m(\u001b[0m\u001b[0mself\u001b[0m\u001b[0;34m,\u001b[0m \u001b[0mtimeout\u001b[0m\u001b[0;34m=\u001b[0m\u001b[0;32mNone\u001b[0m\u001b[0;34m)\u001b[0m\u001b[0;34m:\u001b[0m\u001b[0;34m\u001b[0m\u001b[0;34m\u001b[0m\u001b[0m\n\u001b[0;32m--> 651\u001b[0;31m         \u001b[0mself\u001b[0m\u001b[0;34m.\u001b[0m\u001b[0mwait\u001b[0m\u001b[0;34m(\u001b[0m\u001b[0mtimeout\u001b[0m\u001b[0;34m)\u001b[0m\u001b[0;34m\u001b[0m\u001b[0;34m\u001b[0m\u001b[0m\n\u001b[0m\u001b[1;32m    652\u001b[0m         \u001b[0;32mif\u001b[0m \u001b[0;32mnot\u001b[0m \u001b[0mself\u001b[0m\u001b[0;34m.\u001b[0m\u001b[0mready\u001b[0m\u001b[0;34m(\u001b[0m\u001b[0;34m)\u001b[0m\u001b[0;34m:\u001b[0m\u001b[0;34m\u001b[0m\u001b[0;34m\u001b[0m\u001b[0m\n\u001b[1;32m    653\u001b[0m             \u001b[0;32mraise\u001b[0m \u001b[0mTimeoutError\u001b[0m\u001b[0;34m\u001b[0m\u001b[0;34m\u001b[0m\u001b[0m\n",
            "\u001b[0;32m/usr/lib/python3.7/multiprocessing/pool.py\u001b[0m in \u001b[0;36mwait\u001b[0;34m(self, timeout)\u001b[0m\n\u001b[1;32m    646\u001b[0m \u001b[0;34m\u001b[0m\u001b[0m\n\u001b[1;32m    647\u001b[0m     \u001b[0;32mdef\u001b[0m \u001b[0mwait\u001b[0m\u001b[0;34m(\u001b[0m\u001b[0mself\u001b[0m\u001b[0;34m,\u001b[0m \u001b[0mtimeout\u001b[0m\u001b[0;34m=\u001b[0m\u001b[0;32mNone\u001b[0m\u001b[0;34m)\u001b[0m\u001b[0;34m:\u001b[0m\u001b[0;34m\u001b[0m\u001b[0;34m\u001b[0m\u001b[0m\n\u001b[0;32m--> 648\u001b[0;31m         \u001b[0mself\u001b[0m\u001b[0;34m.\u001b[0m\u001b[0m_event\u001b[0m\u001b[0;34m.\u001b[0m\u001b[0mwait\u001b[0m\u001b[0;34m(\u001b[0m\u001b[0mtimeout\u001b[0m\u001b[0;34m)\u001b[0m\u001b[0;34m\u001b[0m\u001b[0;34m\u001b[0m\u001b[0m\n\u001b[0m\u001b[1;32m    649\u001b[0m \u001b[0;34m\u001b[0m\u001b[0m\n\u001b[1;32m    650\u001b[0m     \u001b[0;32mdef\u001b[0m \u001b[0mget\u001b[0m\u001b[0;34m(\u001b[0m\u001b[0mself\u001b[0m\u001b[0;34m,\u001b[0m \u001b[0mtimeout\u001b[0m\u001b[0;34m=\u001b[0m\u001b[0;32mNone\u001b[0m\u001b[0;34m)\u001b[0m\u001b[0;34m:\u001b[0m\u001b[0;34m\u001b[0m\u001b[0;34m\u001b[0m\u001b[0m\n",
            "\u001b[0;32m/usr/lib/python3.7/threading.py\u001b[0m in \u001b[0;36mwait\u001b[0;34m(self, timeout)\u001b[0m\n\u001b[1;32m    550\u001b[0m             \u001b[0msignaled\u001b[0m \u001b[0;34m=\u001b[0m \u001b[0mself\u001b[0m\u001b[0;34m.\u001b[0m\u001b[0m_flag\u001b[0m\u001b[0;34m\u001b[0m\u001b[0;34m\u001b[0m\u001b[0m\n\u001b[1;32m    551\u001b[0m             \u001b[0;32mif\u001b[0m \u001b[0;32mnot\u001b[0m \u001b[0msignaled\u001b[0m\u001b[0;34m:\u001b[0m\u001b[0;34m\u001b[0m\u001b[0;34m\u001b[0m\u001b[0m\n\u001b[0;32m--> 552\u001b[0;31m                 \u001b[0msignaled\u001b[0m \u001b[0;34m=\u001b[0m \u001b[0mself\u001b[0m\u001b[0;34m.\u001b[0m\u001b[0m_cond\u001b[0m\u001b[0;34m.\u001b[0m\u001b[0mwait\u001b[0m\u001b[0;34m(\u001b[0m\u001b[0mtimeout\u001b[0m\u001b[0;34m)\u001b[0m\u001b[0;34m\u001b[0m\u001b[0;34m\u001b[0m\u001b[0m\n\u001b[0m\u001b[1;32m    553\u001b[0m             \u001b[0;32mreturn\u001b[0m \u001b[0msignaled\u001b[0m\u001b[0;34m\u001b[0m\u001b[0;34m\u001b[0m\u001b[0m\n\u001b[1;32m    554\u001b[0m \u001b[0;34m\u001b[0m\u001b[0m\n",
            "\u001b[0;32m/usr/lib/python3.7/threading.py\u001b[0m in \u001b[0;36mwait\u001b[0;34m(self, timeout)\u001b[0m\n\u001b[1;32m    294\u001b[0m         \u001b[0;32mtry\u001b[0m\u001b[0;34m:\u001b[0m    \u001b[0;31m# restore state no matter what (e.g., KeyboardInterrupt)\u001b[0m\u001b[0;34m\u001b[0m\u001b[0;34m\u001b[0m\u001b[0m\n\u001b[1;32m    295\u001b[0m             \u001b[0;32mif\u001b[0m \u001b[0mtimeout\u001b[0m \u001b[0;32mis\u001b[0m \u001b[0;32mNone\u001b[0m\u001b[0;34m:\u001b[0m\u001b[0;34m\u001b[0m\u001b[0;34m\u001b[0m\u001b[0m\n\u001b[0;32m--> 296\u001b[0;31m                 \u001b[0mwaiter\u001b[0m\u001b[0;34m.\u001b[0m\u001b[0macquire\u001b[0m\u001b[0;34m(\u001b[0m\u001b[0;34m)\u001b[0m\u001b[0;34m\u001b[0m\u001b[0;34m\u001b[0m\u001b[0m\n\u001b[0m\u001b[1;32m    297\u001b[0m                 \u001b[0mgotit\u001b[0m \u001b[0;34m=\u001b[0m \u001b[0;32mTrue\u001b[0m\u001b[0;34m\u001b[0m\u001b[0;34m\u001b[0m\u001b[0m\n\u001b[1;32m    298\u001b[0m             \u001b[0;32melse\u001b[0m\u001b[0;34m:\u001b[0m\u001b[0;34m\u001b[0m\u001b[0;34m\u001b[0m\u001b[0m\n",
            "\u001b[0;31mKeyboardInterrupt\u001b[0m: "
          ]
        }
      ]
    },
    {
      "cell_type": "code",
      "metadata": {
        "id": "b652fe2e"
      },
      "source": [
        "test_param_and_plot('max_depth', [5, 10, 15, 20, 25, 30, 35])"
      ],
      "id": "b652fe2e",
      "execution_count": null,
      "outputs": []
    },
    {
      "cell_type": "code",
      "metadata": {
        "id": "1989b5da"
      },
      "source": [
        "test_params(n_estimators, [15,30,45,60,75,90,105])"
      ],
      "id": "1989b5da",
      "execution_count": null,
      "outputs": []
    },
    {
      "cell_type": "markdown",
      "metadata": {
        "id": "827aaa0f"
      },
      "source": [
        "#### This seems to be a best fit param for RandomForrest"
      ],
      "id": "827aaa0f"
    },
    {
      "cell_type": "code",
      "metadata": {
        "id": "qGDKzzpDmmJM"
      },
      "source": [
        "test_params(n_estimators=35, max_depth=10)"
      ],
      "id": "qGDKzzpDmmJM",
      "execution_count": null,
      "outputs": []
    },
    {
      "cell_type": "code",
      "metadata": {
        "id": "iYG7NHPXU9XO"
      },
      "source": [
        ""
      ],
      "id": "iYG7NHPXU9XO",
      "execution_count": null,
      "outputs": []
    },
    {
      "cell_type": "markdown",
      "metadata": {
        "id": "AkS6XJK6VGqp"
      },
      "source": [
        "### XGBRegressor"
      ],
      "id": "AkS6XJK6VGqp"
    },
    {
      "cell_type": "code",
      "metadata": {
        "id": "wXabLuu5VRON"
      },
      "source": [
        "from xgboost import XGBRegressor"
      ],
      "id": "wXabLuu5VRON",
      "execution_count": 53,
      "outputs": []
    },
    {
      "cell_type": "code",
      "metadata": {
        "id": "LOHIpxUYZkGD"
      },
      "source": [
        "def test_params(**params):\n",
        "    model = XGBRegressor(n_jobs=-1, random_state=42, **params)\n",
        "    model.fit(train_inputs, train_targets)\n",
        "    train_rmse = mean_squared_error(model.predict(train_inputs), train_targets,squared=False)\n",
        "    val_rmse = mean_squared_error(model.predict(val_inputs), val_targets,squared=False)\n",
        "    print('Train RMSE: {}, Validation RMSE: {}'.format(train_rmse, val_rmse))\n"
      ],
      "id": "LOHIpxUYZkGD",
      "execution_count": 68,
      "outputs": []
    },
    {
      "cell_type": "code",
      "metadata": {
        "id": "NxuHVl2kVRYt"
      },
      "source": [
        "?XGBRegressor"
      ],
      "id": "NxuHVl2kVRYt",
      "execution_count": 54,
      "outputs": []
    },
    {
      "cell_type": "code",
      "metadata": {
        "id": "wasozs-jVRhO"
      },
      "source": [
        "rf2 = XGBRegressor(n_estimators=50, max_depth=10, min_samples_leaf=4, max_features=0.4,random_state=42)\n"
      ],
      "id": "wasozs-jVRhO",
      "execution_count": 75,
      "outputs": []
    },
    {
      "cell_type": "code",
      "metadata": {
        "colab": {
          "base_uri": "https://localhost:8080/"
        },
        "id": "EFKXpYwOVRqP",
        "outputId": "0d0c9db7-f971-423b-b330-c24d082c7259"
      },
      "source": [
        "rf2.fit(train_inputs,train_targets)\n"
      ],
      "id": "EFKXpYwOVRqP",
      "execution_count": 76,
      "outputs": [
        {
          "output_type": "stream",
          "text": [
            "[16:27:44] WARNING: /workspace/src/objective/regression_obj.cu:152: reg:linear is now deprecated in favor of reg:squarederror.\n"
          ],
          "name": "stdout"
        },
        {
          "output_type": "execute_result",
          "data": {
            "text/plain": [
              "XGBRegressor(base_score=0.5, booster='gbtree', colsample_bylevel=1,\n",
              "             colsample_bynode=1, colsample_bytree=1, gamma=0,\n",
              "             importance_type='gain', learning_rate=0.1, max_delta_step=0,\n",
              "             max_depth=10, max_features=0.4, min_child_weight=1,\n",
              "             min_samples_leaf=4, missing=None, n_estimators=50, n_jobs=1,\n",
              "             nthread=None, objective='reg:linear', random_state=42, reg_alpha=0,\n",
              "             reg_lambda=1, scale_pos_weight=1, seed=None, silent=None,\n",
              "             subsample=1, verbosity=1)"
            ]
          },
          "metadata": {},
          "execution_count": 76
        }
      ]
    },
    {
      "cell_type": "code",
      "metadata": {
        "id": "7wMwKPx0W-AM"
      },
      "source": [
        "rf2_train_preds = rf2.predict(train_inputs)"
      ],
      "id": "7wMwKPx0W-AM",
      "execution_count": 77,
      "outputs": []
    },
    {
      "cell_type": "code",
      "metadata": {
        "id": "1zJbu_XMW-Me"
      },
      "source": [
        "rf2_train_rmse = mean_squared_error(train_targets,rf2_train_preds,squared=False)"
      ],
      "id": "1zJbu_XMW-Me",
      "execution_count": 78,
      "outputs": []
    },
    {
      "cell_type": "code",
      "metadata": {
        "id": "Zwu5QGv9XKka"
      },
      "source": [
        "rf2_val_preds = rf2.predict(val_inputs)"
      ],
      "id": "Zwu5QGv9XKka",
      "execution_count": 79,
      "outputs": []
    },
    {
      "cell_type": "code",
      "metadata": {
        "id": "9n7iA3dsXKnh"
      },
      "source": [
        "rf2_val_rmse = mean_squared_error(val_targets,rf2_val_preds,squared=False)"
      ],
      "id": "9n7iA3dsXKnh",
      "execution_count": 80,
      "outputs": []
    },
    {
      "cell_type": "code",
      "metadata": {
        "colab": {
          "base_uri": "https://localhost:8080/"
        },
        "id": "2EuMiCvwXKqn",
        "outputId": "e5018a22-9964-4f46-e8f0-1542faae5e70"
      },
      "source": [
        "print('Train RMSE: {}, Validation RMSE: {}'.format(rf2_train_rmse, rf2_val_rmse))"
      ],
      "id": "2EuMiCvwXKqn",
      "execution_count": 81,
      "outputs": [
        {
          "output_type": "stream",
          "text": [
            "Train RMSE: 2.626535415649414, Validation RMSE: 3.308532476425171\n"
          ],
          "name": "stdout"
        }
      ]
    },
    {
      "cell_type": "code",
      "metadata": {
        "id": "3S4SSWN2aKUi",
        "outputId": "4b31a2e6-b38f-4b54-ee6b-8be9e3720f0d",
        "colab": {
          "base_uri": "https://localhost:8080/"
        }
      },
      "source": [
        "test_params(booster='gblinear')"
      ],
      "id": "3S4SSWN2aKUi",
      "execution_count": 82,
      "outputs": [
        {
          "output_type": "stream",
          "text": [
            "[16:29:39] WARNING: /workspace/src/objective/regression_obj.cu:152: reg:linear is now deprecated in favor of reg:squarederror.\n",
            "Train RMSE: 9.423067092895508, Validation RMSE: 9.3563871383667\n"
          ],
          "name": "stdout"
        }
      ]
    },
    {
      "cell_type": "code",
      "metadata": {
        "id": "hGaUzszsenmL"
      },
      "source": [
        ""
      ],
      "id": "hGaUzszsenmL",
      "execution_count": null,
      "outputs": []
    },
    {
      "cell_type": "markdown",
      "metadata": {
        "id": "0iKXygewephx"
      },
      "source": [
        "## KNN"
      ],
      "id": "0iKXygewephx"
    },
    {
      "cell_type": "code",
      "metadata": {
        "id": "wPLTJ5lFenur"
      },
      "source": [
        ""
      ],
      "id": "wPLTJ5lFenur",
      "execution_count": null,
      "outputs": []
    },
    {
      "cell_type": "code",
      "metadata": {
        "id": "yxiuRg2Venxg"
      },
      "source": [
        ""
      ],
      "id": "yxiuRg2Venxg",
      "execution_count": null,
      "outputs": []
    },
    {
      "cell_type": "code",
      "metadata": {
        "id": "voyAknMFen0k"
      },
      "source": [
        ""
      ],
      "id": "voyAknMFen0k",
      "execution_count": null,
      "outputs": []
    },
    {
      "cell_type": "code",
      "metadata": {
        "id": "EUcmogvnen34"
      },
      "source": [
        ""
      ],
      "id": "EUcmogvnen34",
      "execution_count": null,
      "outputs": []
    },
    {
      "cell_type": "markdown",
      "metadata": {
        "id": "73a62d37"
      },
      "source": [
        "# Validate Test Data"
      ],
      "id": "73a62d37"
    },
    {
      "cell_type": "code",
      "metadata": {
        "id": "b3147f22",
        "colab": {
          "base_uri": "https://localhost:8080/"
        },
        "outputId": "089245f8-81f1-4d37-8a33-726ea8ed91dc"
      },
      "source": [
        "\n",
        "df3_test.columns"
      ],
      "id": "b3147f22",
      "execution_count": null,
      "outputs": [
        {
          "output_type": "execute_result",
          "data": {
            "text/plain": [
              "Index(['key', 'pickup_longitude', 'pickup_latitude', 'dropoff_longitude',\n",
              "       'dropoff_latitude', 'passenger_count', 'year', 'day', 'month',\n",
              "       'weekday', 'hour', 'night', 'geopyDesic_dist', 'geopyGrtCir_dist',\n",
              "       'distance', 'dist_group', 'latdiff', 'londiff', 'euclidean'],\n",
              "      dtype='object')"
            ]
          },
          "metadata": {},
          "execution_count": 257
        }
      ]
    },
    {
      "cell_type": "code",
      "metadata": {
        "id": "143b0f19"
      },
      "source": [
        "selected_cols = ['pickup_longitude', 'pickup_latitude', 'dropoff_longitude',\n",
        "       'dropoff_latitude', 'passenger_count', 'year', 'day', 'month',\n",
        "       'weekday', 'hour', 'night', 'geopyDesic_dist', 'geopyGrtCir_dist',\n",
        "       'distance', 'latdiff', 'londiff', 'euclidean']"
      ],
      "id": "143b0f19",
      "execution_count": null,
      "outputs": []
    },
    {
      "cell_type": "code",
      "metadata": {
        "id": "eada4f64",
        "colab": {
          "base_uri": "https://localhost:8080/"
        },
        "outputId": "d0a2e1c4-b6a1-4416-f314-56700cf031d1"
      },
      "source": [
        "train_inputs.columns"
      ],
      "id": "eada4f64",
      "execution_count": null,
      "outputs": [
        {
          "output_type": "execute_result",
          "data": {
            "text/plain": [
              "Index(['pickup_longitude', 'pickup_latitude', 'dropoff_longitude',\n",
              "       'dropoff_latitude', 'passenger_count', 'year', 'day', 'month',\n",
              "       'weekday', 'hour', 'night', 'geopyDesic_dist', 'geopyGrtCir_dist',\n",
              "       'distance', 'latdiff', 'londiff', 'euclidean'],\n",
              "      dtype='object')"
            ]
          },
          "metadata": {},
          "execution_count": 251
        }
      ]
    },
    {
      "cell_type": "code",
      "metadata": {
        "id": "NUAivbMFGv98",
        "colab": {
          "base_uri": "https://localhost:8080/"
        },
        "outputId": "2eff5626-65a7-4d27-bae2-387e4ce76ea1"
      },
      "source": [
        "inputs_df.columns"
      ],
      "id": "NUAivbMFGv98",
      "execution_count": null,
      "outputs": [
        {
          "output_type": "execute_result",
          "data": {
            "text/plain": [
              "Index(['pickup_longitude', 'pickup_latitude', 'dropoff_longitude',\n",
              "       'dropoff_latitude', 'passenger_count', 'year', 'day', 'month',\n",
              "       'weekday', 'hour', 'night', 'geopyDesic_dist', 'geopyGrtCir_dist',\n",
              "       'distance', 'latdiff', 'londiff', 'euclidean', 'dist_group'],\n",
              "      dtype='object')"
            ]
          },
          "metadata": {},
          "execution_count": 271
        }
      ]
    },
    {
      "cell_type": "code",
      "metadata": {
        "id": "6ca279de"
      },
      "source": [
        "a=rf1.predict(df3_test[selected_cols])"
      ],
      "id": "6ca279de",
      "execution_count": null,
      "outputs": []
    },
    {
      "cell_type": "code",
      "metadata": {
        "id": "8eddc1d9",
        "colab": {
          "base_uri": "https://localhost:8080/"
        },
        "outputId": "66b3e25e-ae8a-4a68-dc3d-61ff82eeca55"
      },
      "source": [
        "a[:100]"
      ],
      "id": "8eddc1d9",
      "execution_count": null,
      "outputs": [
        {
          "output_type": "execute_result",
          "data": {
            "text/plain": [
              "array([39.61213208, 38.89189247, 35.63002584, 41.02556191, 42.29520364,\n",
              "       41.39750417, 39.01708818, 72.48294321, 39.95908342, 39.22160984,\n",
              "       39.61213208, 41.94495211, 36.75095583, 41.63629928, 40.15557329,\n",
              "       42.29520364, 46.75954704, 39.95841779, 35.70202584, 37.96179247,\n",
              "       40.10189524, 38.89189247, 39.22160984, 40.97063033, 42.15167864,\n",
              "       39.20026983, 63.62080301, 54.28495665, 38.35844529, 41.66062478,\n",
              "       39.96946778, 39.24488257, 38.35844529, 39.96946778, 40.71825013,\n",
              "       39.51050307, 38.35844529, 39.24488257, 40.43416974, 35.63002584,\n",
              "       49.68880853, 39.96946778, 49.01722043, 39.61213208, 35.63002584,\n",
              "       39.51930956, 39.01708818, 39.20026983, 39.22160984, 35.63002584,\n",
              "       39.17009052, 39.95908342, 49.01722043, 38.35844529, 39.20026983,\n",
              "       41.66062478, 39.86411863, 40.00028099, 39.95908342, 39.95908342,\n",
              "       39.51050307, 38.91916638, 35.63002584, 38.22380247, 39.20026983,\n",
              "       39.20026983, 38.91916638, 38.35844529, 35.63002584, 42.15167864,\n",
              "       39.20026983, 35.63002584, 39.51930956, 39.20026983, 38.91916638,\n",
              "       39.17009052, 66.62420804, 46.75954704, 35.63002584, 35.70202584,\n",
              "       39.24488257, 39.22160984, 39.20026983, 39.31553858, 46.20425938,\n",
              "       39.22160984, 35.63002584, 39.20026983, 46.20425938, 38.91916638,\n",
              "       38.91916638, 39.61213208, 39.20026983, 39.20026983, 40.18907179,\n",
              "       39.95908342, 40.00028099, 39.95908342, 39.51050307, 38.91916638])"
            ]
          },
          "metadata": {},
          "execution_count": 279
        }
      ]
    },
    {
      "cell_type": "code",
      "metadata": {
        "id": "efd95fe2",
        "colab": {
          "base_uri": "https://localhost:8080/",
          "height": 609
        },
        "outputId": "f86d0246-f596-4996-94b4-cfa5080c54db"
      },
      "source": [
        "df3_test"
      ],
      "id": "efd95fe2",
      "execution_count": null,
      "outputs": [
        {
          "output_type": "execute_result",
          "data": {
            "text/html": [
              "<div>\n",
              "<style scoped>\n",
              "    .dataframe tbody tr th:only-of-type {\n",
              "        vertical-align: middle;\n",
              "    }\n",
              "\n",
              "    .dataframe tbody tr th {\n",
              "        vertical-align: top;\n",
              "    }\n",
              "\n",
              "    .dataframe thead th {\n",
              "        text-align: right;\n",
              "    }\n",
              "</style>\n",
              "<table border=\"1\" class=\"dataframe\">\n",
              "  <thead>\n",
              "    <tr style=\"text-align: right;\">\n",
              "      <th></th>\n",
              "      <th>key</th>\n",
              "      <th>pickup_longitude</th>\n",
              "      <th>pickup_latitude</th>\n",
              "      <th>dropoff_longitude</th>\n",
              "      <th>dropoff_latitude</th>\n",
              "      <th>passenger_count</th>\n",
              "      <th>year</th>\n",
              "      <th>day</th>\n",
              "      <th>month</th>\n",
              "      <th>weekday</th>\n",
              "      <th>hour</th>\n",
              "      <th>night</th>\n",
              "      <th>geopyDesic_dist</th>\n",
              "      <th>geopyGrtCir_dist</th>\n",
              "      <th>distance</th>\n",
              "      <th>dist_group</th>\n",
              "      <th>latdiff</th>\n",
              "      <th>londiff</th>\n",
              "      <th>euclidean</th>\n",
              "    </tr>\n",
              "  </thead>\n",
              "  <tbody>\n",
              "    <tr>\n",
              "      <th>0</th>\n",
              "      <td>2015-01-27 13:08:24.0000002</td>\n",
              "      <td>-73.97</td>\n",
              "      <td>40.76</td>\n",
              "      <td>-73.98</td>\n",
              "      <td>40.74</td>\n",
              "      <td>1</td>\n",
              "      <td>2015</td>\n",
              "      <td>27</td>\n",
              "      <td>1</td>\n",
              "      <td>1</td>\n",
              "      <td>13</td>\n",
              "      <td>0</td>\n",
              "      <td>2.32</td>\n",
              "      <td>2.32</td>\n",
              "      <td>2.32</td>\n",
              "      <td>1</td>\n",
              "      <td>0.02</td>\n",
              "      <td>0.01</td>\n",
              "      <td>0.02</td>\n",
              "    </tr>\n",
              "    <tr>\n",
              "      <th>1</th>\n",
              "      <td>2015-01-27 13:08:24.0000003</td>\n",
              "      <td>-73.99</td>\n",
              "      <td>40.72</td>\n",
              "      <td>-74.00</td>\n",
              "      <td>40.74</td>\n",
              "      <td>1</td>\n",
              "      <td>2015</td>\n",
              "      <td>27</td>\n",
              "      <td>1</td>\n",
              "      <td>1</td>\n",
              "      <td>13</td>\n",
              "      <td>0</td>\n",
              "      <td>2.42</td>\n",
              "      <td>2.43</td>\n",
              "      <td>2.43</td>\n",
              "      <td>1</td>\n",
              "      <td>-0.02</td>\n",
              "      <td>0.01</td>\n",
              "      <td>0.02</td>\n",
              "    </tr>\n",
              "    <tr>\n",
              "      <th>2</th>\n",
              "      <td>2011-10-08 11:53:44.0000002</td>\n",
              "      <td>-73.98</td>\n",
              "      <td>40.75</td>\n",
              "      <td>-73.98</td>\n",
              "      <td>40.75</td>\n",
              "      <td>1</td>\n",
              "      <td>2011</td>\n",
              "      <td>8</td>\n",
              "      <td>10</td>\n",
              "      <td>5</td>\n",
              "      <td>11</td>\n",
              "      <td>0</td>\n",
              "      <td>0.62</td>\n",
              "      <td>0.62</td>\n",
              "      <td>0.62</td>\n",
              "      <td>1</td>\n",
              "      <td>0.01</td>\n",
              "      <td>-0.00</td>\n",
              "      <td>0.01</td>\n",
              "    </tr>\n",
              "    <tr>\n",
              "      <th>3</th>\n",
              "      <td>2012-12-01 21:12:12.0000002</td>\n",
              "      <td>-73.98</td>\n",
              "      <td>40.77</td>\n",
              "      <td>-73.99</td>\n",
              "      <td>40.75</td>\n",
              "      <td>1</td>\n",
              "      <td>2012</td>\n",
              "      <td>1</td>\n",
              "      <td>12</td>\n",
              "      <td>5</td>\n",
              "      <td>21</td>\n",
              "      <td>1</td>\n",
              "      <td>1.96</td>\n",
              "      <td>1.96</td>\n",
              "      <td>1.96</td>\n",
              "      <td>1</td>\n",
              "      <td>0.02</td>\n",
              "      <td>0.01</td>\n",
              "      <td>0.02</td>\n",
              "    </tr>\n",
              "    <tr>\n",
              "      <th>4</th>\n",
              "      <td>2012-12-01 21:12:12.0000003</td>\n",
              "      <td>-73.97</td>\n",
              "      <td>40.79</td>\n",
              "      <td>-73.99</td>\n",
              "      <td>40.74</td>\n",
              "      <td>1</td>\n",
              "      <td>2012</td>\n",
              "      <td>1</td>\n",
              "      <td>12</td>\n",
              "      <td>5</td>\n",
              "      <td>21</td>\n",
              "      <td>1</td>\n",
              "      <td>5.38</td>\n",
              "      <td>5.39</td>\n",
              "      <td>5.39</td>\n",
              "      <td>1</td>\n",
              "      <td>0.05</td>\n",
              "      <td>0.02</td>\n",
              "      <td>0.05</td>\n",
              "    </tr>\n",
              "    <tr>\n",
              "      <th>...</th>\n",
              "      <td>...</td>\n",
              "      <td>...</td>\n",
              "      <td>...</td>\n",
              "      <td>...</td>\n",
              "      <td>...</td>\n",
              "      <td>...</td>\n",
              "      <td>...</td>\n",
              "      <td>...</td>\n",
              "      <td>...</td>\n",
              "      <td>...</td>\n",
              "      <td>...</td>\n",
              "      <td>...</td>\n",
              "      <td>...</td>\n",
              "      <td>...</td>\n",
              "      <td>...</td>\n",
              "      <td>...</td>\n",
              "      <td>...</td>\n",
              "      <td>...</td>\n",
              "      <td>...</td>\n",
              "    </tr>\n",
              "    <tr>\n",
              "      <th>9909</th>\n",
              "      <td>2015-05-10 12:37:51.0000002</td>\n",
              "      <td>-73.97</td>\n",
              "      <td>40.80</td>\n",
              "      <td>-73.96</td>\n",
              "      <td>40.78</td>\n",
              "      <td>6</td>\n",
              "      <td>2015</td>\n",
              "      <td>10</td>\n",
              "      <td>5</td>\n",
              "      <td>6</td>\n",
              "      <td>12</td>\n",
              "      <td>0</td>\n",
              "      <td>2.12</td>\n",
              "      <td>2.12</td>\n",
              "      <td>2.12</td>\n",
              "      <td>1</td>\n",
              "      <td>0.02</td>\n",
              "      <td>-0.01</td>\n",
              "      <td>0.02</td>\n",
              "    </tr>\n",
              "    <tr>\n",
              "      <th>9910</th>\n",
              "      <td>2015-01-12 17:05:51.0000001</td>\n",
              "      <td>-73.95</td>\n",
              "      <td>40.80</td>\n",
              "      <td>-73.96</td>\n",
              "      <td>40.78</td>\n",
              "      <td>6</td>\n",
              "      <td>2015</td>\n",
              "      <td>12</td>\n",
              "      <td>1</td>\n",
              "      <td>0</td>\n",
              "      <td>17</td>\n",
              "      <td>0</td>\n",
              "      <td>3.27</td>\n",
              "      <td>3.27</td>\n",
              "      <td>3.27</td>\n",
              "      <td>1</td>\n",
              "      <td>0.03</td>\n",
              "      <td>0.01</td>\n",
              "      <td>0.03</td>\n",
              "    </tr>\n",
              "    <tr>\n",
              "      <th>9911</th>\n",
              "      <td>2015-04-19 20:44:15.0000001</td>\n",
              "      <td>-73.99</td>\n",
              "      <td>40.73</td>\n",
              "      <td>-73.79</td>\n",
              "      <td>40.65</td>\n",
              "      <td>6</td>\n",
              "      <td>2015</td>\n",
              "      <td>19</td>\n",
              "      <td>4</td>\n",
              "      <td>6</td>\n",
              "      <td>20</td>\n",
              "      <td>1</td>\n",
              "      <td>19.22</td>\n",
              "      <td>19.18</td>\n",
              "      <td>19.18</td>\n",
              "      <td>4</td>\n",
              "      <td>0.08</td>\n",
              "      <td>-0.20</td>\n",
              "      <td>0.22</td>\n",
              "    </tr>\n",
              "    <tr>\n",
              "      <th>9912</th>\n",
              "      <td>2015-01-31 01:05:19.0000005</td>\n",
              "      <td>-73.99</td>\n",
              "      <td>40.74</td>\n",
              "      <td>-73.94</td>\n",
              "      <td>40.80</td>\n",
              "      <td>6</td>\n",
              "      <td>2015</td>\n",
              "      <td>31</td>\n",
              "      <td>1</td>\n",
              "      <td>5</td>\n",
              "      <td>1</td>\n",
              "      <td>1</td>\n",
              "      <td>8.34</td>\n",
              "      <td>8.34</td>\n",
              "      <td>8.34</td>\n",
              "      <td>2</td>\n",
              "      <td>-0.07</td>\n",
              "      <td>-0.05</td>\n",
              "      <td>0.08</td>\n",
              "    </tr>\n",
              "    <tr>\n",
              "      <th>9913</th>\n",
              "      <td>2015-01-18 14:06:23.0000006</td>\n",
              "      <td>-73.99</td>\n",
              "      <td>40.75</td>\n",
              "      <td>-74.00</td>\n",
              "      <td>40.76</td>\n",
              "      <td>6</td>\n",
              "      <td>2015</td>\n",
              "      <td>18</td>\n",
              "      <td>1</td>\n",
              "      <td>6</td>\n",
              "      <td>14</td>\n",
              "      <td>0</td>\n",
              "      <td>1.18</td>\n",
              "      <td>1.18</td>\n",
              "      <td>1.18</td>\n",
              "      <td>1</td>\n",
              "      <td>-0.01</td>\n",
              "      <td>0.01</td>\n",
              "      <td>0.01</td>\n",
              "    </tr>\n",
              "  </tbody>\n",
              "</table>\n",
              "<p>9914 rows × 19 columns</p>\n",
              "</div>"
            ],
            "text/plain": [
              "                              key  pickup_longitude  ...  londiff  euclidean\n",
              "0     2015-01-27 13:08:24.0000002            -73.97  ...     0.01       0.02\n",
              "1     2015-01-27 13:08:24.0000003            -73.99  ...     0.01       0.02\n",
              "2     2011-10-08 11:53:44.0000002            -73.98  ...    -0.00       0.01\n",
              "3     2012-12-01 21:12:12.0000002            -73.98  ...     0.01       0.02\n",
              "4     2012-12-01 21:12:12.0000003            -73.97  ...     0.02       0.05\n",
              "...                           ...               ...  ...      ...        ...\n",
              "9909  2015-05-10 12:37:51.0000002            -73.97  ...    -0.01       0.02\n",
              "9910  2015-01-12 17:05:51.0000001            -73.95  ...     0.01       0.03\n",
              "9911  2015-04-19 20:44:15.0000001            -73.99  ...    -0.20       0.22\n",
              "9912  2015-01-31 01:05:19.0000005            -73.99  ...    -0.05       0.08\n",
              "9913  2015-01-18 14:06:23.0000006            -73.99  ...     0.01       0.01\n",
              "\n",
              "[9914 rows x 19 columns]"
            ]
          },
          "metadata": {},
          "execution_count": 282
        }
      ]
    },
    {
      "cell_type": "code",
      "metadata": {
        "id": "4700a1aa"
      },
      "source": [
        "import numpy as np\n",
        "from sklearn.impute import SimpleImputer\n",
        "from sklearn.preprocessing import MinMaxScaler, OneHotEncoder\n",
        "from sklearn.model_selection import train_test_split\n",
        "\n",
        "# Identify input and target columns\n",
        "input_cols, target_col = df3.columns[1:], df3.columns[:1]\n",
        "inputs_df, targets = df3[input_cols].copy(), df3[target_col].copy()"
      ],
      "id": "4700a1aa",
      "execution_count": null,
      "outputs": []
    }
  ]
}