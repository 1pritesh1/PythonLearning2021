{
 "cells": [
  {
   "cell_type": "code",
   "execution_count": 2,
   "metadata": {},
   "outputs": [],
   "source": [
    "import jovian"
   ]
  },
  {
   "cell_type": "code",
   "execution_count": 3,
   "metadata": {},
   "outputs": [
    {
     "data": {
      "application/javascript": [
       "window.require && require([\"base/js/namespace\"],function(Jupyter){Jupyter.notebook.save_checkpoint()})"
      ],
      "text/plain": [
       "<IPython.core.display.Javascript object>"
      ]
     },
     "metadata": {},
     "output_type": "display_data"
    },
    {
     "name": "stdout",
     "output_type": "stream",
     "text": [
      "[jovian] Attempting to save notebook..\n",
      "[jovian] Updating notebook \"pritesh009/suduko-puzzle-excercise-practice-workbook\" on https://jovian.ai/\n",
      "[jovian] Uploading notebook..\n",
      "[jovian] Capturing environment..\n",
      "[jovian] Committed successfully! https://jovian.ai/pritesh009/suduko-puzzle-excercise-practice-workbook\n"
     ]
    },
    {
     "data": {
      "text/plain": [
       "'https://jovian.ai/pritesh009/suduko-puzzle-excercise-practice-workbook'"
      ]
     },
     "execution_count": 3,
     "metadata": {},
     "output_type": "execute_result"
    }
   ],
   "source": [
    "jovian.commit()"
   ]
  },
  {
   "cell_type": "code",
   "execution_count": 1,
   "metadata": {},
   "outputs": [],
   "source": [
    "puzzle1 = [[5, 3, 0, 0, 7, 0, 0, 0, 0], \n",
    "           [6, 0, 0, 1, 9, 5, 0, 0, 0], \n",
    "           [0, 9, 8, 0, 0, 0, 0, 6, 0], \n",
    "           [8, 0, 0, 0, 6, 0, 0, 0, 3],\n",
    "           [4, 0, 0, 8, 0, 3, 0, 0, 1],\n",
    "           [7, 0, 0, 0, 2, 0, 0, 0, 6],\n",
    "           [0, 6, 0, 0, 0, 0, 2, 8, 0],\n",
    "           [0, 0, 0, 4, 1, 9, 0, 0, 5],\n",
    "           [0, 0, 0, 0, 8, 0, 0, 7, 9]]"
   ]
  },
  {
   "cell_type": "code",
   "execution_count": 5,
   "metadata": {},
   "outputs": [
    {
     "name": "stdout",
     "output_type": "stream",
     "text": [
      "5\n",
      "6\n",
      "0\n",
      "8\n",
      "4\n",
      "7\n",
      "0\n",
      "0\n",
      "0\n"
     ]
    }
   ],
   "source": [
    "for row in puzzle1:\n",
    "    print(row[0])\n",
    "    "
   ]
  },
  {
   "cell_type": "code",
   "execution_count": 3,
   "metadata": {},
   "outputs": [
    {
     "data": {
      "text/plain": [
       "3"
      ]
     },
     "execution_count": 3,
     "metadata": {},
     "output_type": "execute_result"
    }
   ],
   "source": [
    "puzzle1[0][1]"
   ]
  },
  {
   "cell_type": "code",
   "execution_count": 8,
   "metadata": {},
   "outputs": [
    {
     "name": "stdout",
     "output_type": "stream",
     "text": [
      "0\n",
      "7\n",
      "0\n",
      "1\n",
      "9\n",
      "5\n",
      "0\n",
      "0\n",
      "0\n"
     ]
    }
   ],
   "source": [
    "for x in range(3):\n",
    "    for y in range(3,6):\n",
    "        print(puzzle1[x][y])"
   ]
  },
  {
   "cell_type": "code",
   "execution_count": 2,
   "metadata": {},
   "outputs": [
    {
     "name": "stdout",
     "output_type": "stream",
     "text": [
      "[5, 3, 0]\n",
      "[6, 0, 0]\n",
      "[0, 9, 8]\n"
     ]
    }
   ],
   "source": [
    "i=1\n",
    "for items in puzzle1:\n",
    "    if i < 4:\n",
    "        i= i+1\n",
    "        print(items[0:3])\n",
    "   "
   ]
  },
  {
   "cell_type": "code",
   "execution_count": 5,
   "metadata": {},
   "outputs": [
    {
     "name": "stdout",
     "output_type": "stream",
     "text": [
      "[0, 7, 0]\n",
      "[1, 9, 5]\n",
      "[0, 0, 0]\n"
     ]
    }
   ],
   "source": [
    "i=1\n",
    "for items in puzzle1:\n",
    "    if i < 4:\n",
    "        i= i+1\n",
    "        print(items[3:6])"
   ]
  },
  {
   "cell_type": "code",
   "execution_count": 6,
   "metadata": {},
   "outputs": [
    {
     "name": "stdout",
     "output_type": "stream",
     "text": [
      "[0, 0, 0]\n",
      "[0, 0, 0]\n",
      "[0, 6, 0]\n"
     ]
    }
   ],
   "source": [
    "i=1\n",
    "for items in puzzle1:\n",
    "    if i < 4:\n",
    "        i= i+1\n",
    "        print(items[6:9])"
   ]
  },
  {
   "cell_type": "code",
   "execution_count": 7,
   "metadata": {},
   "outputs": [
    {
     "ename": "SyntaxError",
     "evalue": "invalid syntax (<ipython-input-7-e603d4adf5bb>, line 5)",
     "output_type": "error",
     "traceback": [
      "\u001b[1;36m  File \u001b[1;32m\"<ipython-input-7-e603d4adf5bb>\"\u001b[1;36m, line \u001b[1;32m5\u001b[0m\n\u001b[1;33m    print(items[])\u001b[0m\n\u001b[1;37m                ^\u001b[0m\n\u001b[1;31mSyntaxError\u001b[0m\u001b[1;31m:\u001b[0m invalid syntax\n"
     ]
    }
   ],
   "source": [
    "i=1\n",
    "for items in puzzle1:\n",
    "    \n",
    "    if i < 4:\n",
    "        i= i+1\n",
    "        print(items[])"
   ]
  },
  {
   "cell_type": "code",
   "execution_count": 8,
   "metadata": {},
   "outputs": [
    {
     "name": "stdout",
     "output_type": "stream",
     "text": [
      "[8, 0, 0]\n",
      "[4, 0, 0]\n",
      "[7, 0, 0]\n"
     ]
    }
   ],
   "source": [
    "for i in range (3,6):\n",
    "    print(puzzle1[i][:3])"
   ]
  },
  {
   "cell_type": "code",
   "execution_count": 9,
   "metadata": {},
   "outputs": [
    {
     "name": "stdout",
     "output_type": "stream",
     "text": [
      "[0, 6, 0]\n",
      "[0, 0, 0]\n",
      "[0, 0, 0]\n"
     ]
    }
   ],
   "source": [
    "for i in range (6,9):\n",
    "    print(puzzle1[i][:3])"
   ]
  },
  {
   "cell_type": "code",
   "execution_count": 10,
   "metadata": {},
   "outputs": [
    {
     "name": "stdout",
     "output_type": "stream",
     "text": [
      "[5]\n",
      "[6]\n",
      "[0]\n",
      "[8]\n",
      "[4]\n",
      "[7]\n",
      "[0]\n",
      "[0]\n",
      "[0]\n"
     ]
    }
   ],
   "source": [
    "for i in range (0,9):\n",
    "    print(puzzle1[i][:1])    "
   ]
  },
  {
   "cell_type": "code",
   "execution_count": 1,
   "metadata": {},
   "outputs": [],
   "source": [
    "solution1 = [[5,3,4,6,7,8,9,1,2],[6,7,2,1,9,5,3,4,8],[1,9,8,3,4,2,5,6,7],[8,5,9,7,6,1,4,2,3],[4,2,6,8,5,3,7,9,1],[7,1,3,9,2,4,8,5,6],[9,6,1,5,3,7,2,8,4],[2,8,7,4,1,9,6,3,5],[3,4,5,2,8,6,1,7,9]]"
   ]
  },
  {
   "cell_type": "code",
   "execution_count": 12,
   "metadata": {},
   "outputs": [
    {
     "data": {
      "text/plain": [
       "[[5, 3, 4, 6, 7, 8, 9, 1, 2],\n",
       " [6, 7, 2, 1, 9, 5, 3, 4, 8],\n",
       " [1, 9, 8, 3, 4, 2, 5, 6, 7],\n",
       " [8, 5, 9, 7, 6, 1, 4, 2, 3],\n",
       " [4, 2, 6, 8, 5, 3, 7, 9, 1],\n",
       " [7, 1, 3, 9, 2, 4, 8, 5, 6],\n",
       " [9, 6, 1, 5, 3, 7, 2, 8, 4],\n",
       " [2, 8, 7, 4, 1, 9, 6, 3, 5],\n",
       " [3, 4, 5, 2, 8, 6, 1, 7, 9]]"
      ]
     },
     "execution_count": 12,
     "metadata": {},
     "output_type": "execute_result"
    }
   ],
   "source": [
    "solution1"
   ]
  },
  {
   "cell_type": "code",
   "execution_count": 13,
   "metadata": {},
   "outputs": [],
   "source": [
    "def get_row(sudoku, k):\n",
    "    return sudoku[k]"
   ]
  },
  {
   "cell_type": "code",
   "execution_count": 4,
   "metadata": {},
   "outputs": [
    {
     "name": "stdout",
     "output_type": "stream",
     "text": [
      "[3, 4, 5, 2, 8, 6, 1, 7, 9]\n"
     ]
    }
   ],
   "source": [
    "k=8\n",
    "sudoku=solution1\n",
    "\n",
    "for row in sudoku:\n",
    "    if k >= 0 or k < 9:\n",
    "        row = solution1[k]\n",
    "        print(row)\n",
    "        break\n",
    "    else:\n",
    "        print(\"Enter row number between 0 and 8\")"
   ]
  },
  {
   "cell_type": "code",
   "execution_count": 15,
   "metadata": {
    "scrolled": true
   },
   "outputs": [
    {
     "data": {
      "text/plain": [
       "[3, 7, 9, 5, 2, 1, 6, 8, 4]"
      ]
     },
     "execution_count": 15,
     "metadata": {},
     "output_type": "execute_result"
    }
   ],
   "source": [
    "list = [row[1] for row in solution1]\n",
    "list"
   ]
  },
  {
   "cell_type": "code",
   "execution_count": 16,
   "metadata": {},
   "outputs": [],
   "source": [
    "def get_col(sudoku, k):\n",
    "    list=[row[k] for row in sudoku] \n",
    "    return list"
   ]
  },
  {
   "cell_type": "code",
   "execution_count": 17,
   "metadata": {},
   "outputs": [],
   "source": [
    "def get_col(sudoku, k):\n",
    "    list=[row[k] for row in sudoku] \n",
    "    return list"
   ]
  },
  {
   "cell_type": "code",
   "execution_count": 5,
   "metadata": {},
   "outputs": [],
   "source": [
    "def get_box(sudoku, k):\n",
    "    if k == 0:\n",
    "        box = [sudoku[x][y] for x in range(3) for y in range(3)]\n",
    "    elif k== 1:\n",
    "        box = [sudoku[x][y] for x in range(3) for y in range(3,6)]\n",
    "    elif k== 2:\n",
    "        box = [sudoku[x][y] for x in range(3) for y in range(6,9)]\n",
    "    elif k== 3:\n",
    "        box = [sudoku[x][y] for x in range(3,6) for y in range(3)]\n",
    "    elif k== 4:\n",
    "        box = [sudoku[x][y] for x in range(3,6) for y in range(3,6)]\n",
    "    elif k== 5:\n",
    "        box = [sudoku[x][y] for x in range(3,6) for y in range(6,9)]\n",
    "    elif k== 6:\n",
    "        box = [sudoku[x][y] for x in range(6,9) for y in range(3)]\n",
    "    elif k== 7:\n",
    "        box = [sudoku[x][y] for x in range(6,9) for y in range(3,6)]\n",
    "    elif k== 8:\n",
    "        box = [sudoku[x][y] for x in range(6,9) for y in range(6,9)]\n",
    "    else:\n",
    "        print(\"Enter box number between 0 and 8\")\n",
    "    return box"
   ]
  },
  {
   "cell_type": "code",
   "execution_count": null,
   "metadata": {},
   "outputs": [],
   "source": []
  },
  {
   "cell_type": "code",
   "execution_count": 19,
   "metadata": {},
   "outputs": [
    {
     "data": {
      "text/plain": [
       "4"
      ]
     },
     "execution_count": 19,
     "metadata": {},
     "output_type": "execute_result"
    }
   ],
   "source": [
    "solution1[0][2]"
   ]
  },
  {
   "cell_type": "code",
   "execution_count": 36,
   "metadata": {},
   "outputs": [
    {
     "data": {
      "text/plain": [
       "[[5, 3, 0, 0, 7, 0, 0, 0, 0],\n",
       " [6, 0, 0, 1, 9, 5, 0, 0, 0],\n",
       " [0, 9, 8, 0, 0, 0, 0, 6, 0],\n",
       " [8, 0, 0, 0, 6, 0, 0, 0, 3],\n",
       " [4, 0, 0, 8, 0, 3, 0, 0, 1],\n",
       " [7, 0, 0, 0, 2, 0, 0, 0, 6],\n",
       " [0, 6, 0, 0, 0, 0, 2, 8, 0],\n",
       " [0, 0, 0, 4, 1, 9, 0, 0, 5],\n",
       " [0, 0, 0, 0, 8, 0, 0, 7, 9]]"
      ]
     },
     "execution_count": 36,
     "metadata": {},
     "output_type": "execute_result"
    }
   ],
   "source": [
    "puzzle1"
   ]
  },
  {
   "cell_type": "code",
   "execution_count": null,
   "metadata": {},
   "outputs": [],
   "source": []
  },
  {
   "cell_type": "code",
   "execution_count": 2,
   "metadata": {},
   "outputs": [],
   "source": [
    "puzzle2 = [[5, 3, 3, 1, 7, 4, 5, 6, 7], \n",
    "           [5, 3, 3, 1, 7, 4, 5, 6, 7], \n",
    "           [5, 3, 3, 1, 7, 4, 5, 6, 7], \n",
    "           [5, 3, 3, 5, 3, 3, 0, 0, 3],\n",
    "           [5, 3, 3, 8, 0, 5, 3, 3, 1],\n",
    "           [7, 0, 0, 0, 2, 0, 0, 0, 6],\n",
    "           [0, 6, 0, 0, 0, 0, 2, 8, 0],\n",
    "           [0, 0, 0, 4, 1, 9, 0, 0, 5],\n",
    "           [0, 0, 0, 0, 8, 0, 0, 7, 9]]"
   ]
  },
  {
   "cell_type": "code",
   "execution_count": 22,
   "metadata": {},
   "outputs": [
    {
     "data": {
      "text/plain": [
       "[5, 5, 5, 5, 5, 5, 5, 5, 5, 5, 5]"
      ]
     },
     "execution_count": 22,
     "metadata": {},
     "output_type": "execute_result"
    }
   ],
   "source": [
    "emptyLoc = [puzzle2[x][y] for x in range(0,9) for y in range(0,9) if puzzle2[x][y]==5]\n",
    "emptyLoc"
   ]
  },
  {
   "cell_type": "code",
   "execution_count": 23,
   "metadata": {},
   "outputs": [
    {
     "name": "stdout",
     "output_type": "stream",
     "text": [
      "(3, 6)\n",
      "(3, 7)\n",
      "(4, 4)\n",
      "(5, 1)\n",
      "(5, 2)\n",
      "(5, 3)\n",
      "(5, 5)\n",
      "(5, 6)\n",
      "(5, 7)\n",
      "(6, 0)\n",
      "(6, 2)\n",
      "(6, 3)\n",
      "(6, 4)\n",
      "(6, 5)\n",
      "(6, 8)\n",
      "(7, 0)\n",
      "(7, 1)\n",
      "(7, 2)\n",
      "(7, 6)\n",
      "(7, 7)\n",
      "(8, 0)\n",
      "(8, 1)\n",
      "(8, 2)\n",
      "(8, 3)\n",
      "(8, 5)\n",
      "(8, 6)\n"
     ]
    }
   ],
   "source": [
    "for i  in range (0,9):\n",
    "    for j in range(0,9):\n",
    "        if puzzle2[i][j]==0:\n",
    "            emptyCell = (i,j)\n",
    "            print(emptyCell)"
   ]
  },
  {
   "cell_type": "code",
   "execution_count": 17,
   "metadata": {},
   "outputs": [],
   "source": [
    "test1=[[3,6],[3,8]]"
   ]
  },
  {
   "cell_type": "code",
   "execution_count": 19,
   "metadata": {},
   "outputs": [
    {
     "data": {
      "text/plain": [
       "([3, 6], [3, 8])"
      ]
     },
     "execution_count": 19,
     "metadata": {},
     "output_type": "execute_result"
    }
   ],
   "source": [
    "tuple(test1)"
   ]
  },
  {
   "cell_type": "code",
   "execution_count": 22,
   "metadata": {},
   "outputs": [
    {
     "data": {
      "text/plain": [
       "2"
      ]
     },
     "execution_count": 22,
     "metadata": {},
     "output_type": "execute_result"
    }
   ],
   "source": [
    "len(test1)"
   ]
  },
  {
   "cell_type": "code",
   "execution_count": 12,
   "metadata": {},
   "outputs": [],
   "source": [
    "puzzle2 = [[5, 3, 3, 0, 7, 4, 5, 6, 7], \n",
    "           [5, 3, 3, 1, 7, 4, 5, 6, 7], \n",
    "           [5, 3, 3, 1, 7, 4, 5, 6, 7], \n",
    "           [5, 3, 3, 0, 7, 4, 5, 6, 7],\n",
    "           [5, 3, 0, 8, 7, 5, 3, 3, 1],\n",
    "           [5, 3, 3, 1, 7, 4, 5, 6, 7],\n",
    "           [5, 3, 0, 1, 7, 4, 5, 6, 7],\n",
    "           [5, 3, 0, 1, 7, 4, 5, 6, 7],\n",
    "           [5, 3, 3, 1, 7, 4, 5, 6, 8]]"
   ]
  },
  {
   "cell_type": "code",
   "execution_count": 2,
   "metadata": {},
   "outputs": [
    {
     "name": "stdout",
     "output_type": "stream",
     "text": [
      "(8, 8)\n"
     ]
    }
   ],
   "source": [
    "for i  in range (0,9):\n",
    "    for j in range(0,9):\n",
    "        if puzzle2[i][j]==0:\n",
    "            emtyCell=(i,j)\n",
    "            print(emtyCell)\n",
    "            break"
   ]
  },
  {
   "cell_type": "code",
   "execution_count": 14,
   "metadata": {},
   "outputs": [
    {
     "name": "stdout",
     "output_type": "stream",
     "text": [
      "[(0, 3), (3, 3), (4, 2), (6, 2), (7, 2)]\n",
      "(0, 3)\n"
     ]
    }
   ],
   "source": [
    "elist=[]\n",
    "for i  in range (0,9):\n",
    "    for j in range(0,9):\n",
    "        if puzzle2[i][j]==0:\n",
    "            emtyCell=(i,j)\n",
    "            elist.append(emtyCell)\n",
    "            j += 1\n",
    "print(elist)\n",
    "if len(elist) !=0:\n",
    "    print(elist[0])\n",
    "else:\n",
    "    print (None,None)"
   ]
  },
  {
   "cell_type": "code",
   "execution_count": 25,
   "metadata": {},
   "outputs": [],
   "source": [
    "puzzle2 = [[5, 3, 3, 1, 7, 4, 5, 6, 7], \n",
    "           [5, 3, 3, 1, 7, 4, 5, 6, 7], \n",
    "           [5, 3, 3, 1, 7, 4, 5, 6, 7], \n",
    "           [5, 3, 3, 5, 3, 3, 5, 5, 3],\n",
    "           [5, 3, 3, 8, 5, 5, 3, 3, 1],\n",
    "           [7, 0, 0, 0, 2, 0, 0, 0, 6],\n",
    "           [0, 6, 0, 0, 0, 0, 2, 8, 0],\n",
    "           [0, 0, 0, 4, 1, 9, 0, 0, 5],\n",
    "           [0, 0, 0, 0, 8, 0, 0, 7, 9]]"
   ]
  },
  {
   "cell_type": "code",
   "execution_count": 26,
   "metadata": {},
   "outputs": [
    {
     "name": "stdout",
     "output_type": "stream",
     "text": [
      "[5, 1]\n",
      "[5, 2]\n",
      "[5, 3]\n",
      "[5, 5]\n",
      "[5, 6]\n",
      "[5, 7]\n",
      "[6, 0]\n",
      "[6, 2]\n",
      "[6, 3]\n",
      "[6, 4]\n",
      "[6, 5]\n",
      "[6, 8]\n",
      "[7, 0]\n",
      "[7, 1]\n",
      "[7, 2]\n",
      "[7, 6]\n",
      "[7, 7]\n",
      "[8, 0]\n",
      "[8, 1]\n",
      "[8, 2]\n",
      "[8, 3]\n",
      "[8, 5]\n",
      "[8, 6]\n",
      "[[5, 1], [5, 2], [5, 3], [5, 5], [5, 6], [5, 7], [6, 0], [6, 2], [6, 3], [6, 4], [6, 5], [6, 8], [7, 0], [7, 1], [7, 2], [7, 6], [7, 7], [8, 0], [8, 1], [8, 2], [8, 3], [8, 5], [8, 6]]\n"
     ]
    }
   ],
   "source": [
    "elist=[]\n",
    "for i  in range (0,9):\n",
    "    for j in range(0,9):\n",
    "        if puzzle2[i][j]==0:\n",
    "            emtyCell=[i,j]\n",
    "            print(emtyCell)\n",
    "            elist.append(emtyCell)\n",
    "            j += 1\n",
    "\n",
    "FirstVal=elist          "
   ]
  },
  {
   "cell_type": "code",
   "execution_count": 39,
   "metadata": {},
   "outputs": [],
   "source": [
    "def first_empty_position(sudoku):\n",
    "    box = [sudoku[x][y] for x in range(0,8) for y in range(0,8) if sudoku[x][y]==0 ]\n",
    "    return box"
   ]
  },
  {
   "cell_type": "code",
   "execution_count": 10,
   "metadata": {},
   "outputs": [],
   "source": [
    "def first_empty_position(sudoku):\n",
    "    for i  in range (0,9):\n",
    "        for j in range(0,9):\n",
    "            if sudoku[i][j]==0:\n",
    "                [i,j]\n",
    "\n",
    "        FirstVal=elist[0]\n",
    "    else:\n",
    "        FirstVal= None, None\n",
    "    return FirstVal"
   ]
  },
  {
   "cell_type": "code",
   "execution_count": 52,
   "metadata": {},
   "outputs": [],
   "source": [
    "def first_empty_position(sudoku):\n",
    "    elist=[]\n",
    "    for i  in range (0,9):\n",
    "        for j in range(0,9):\n",
    "            if sudoku[i][j]==0:\n",
    "                emtyCell=[i,j]\n",
    "                #print(emtyCell)\n",
    "                elist.append(emtyCell)\n",
    "                j += 1\n",
    "    if len(elist) !=0:\n",
    "         FirstVal=elist[0]\n",
    "    else:\n",
    "        FirstVal= None, None\n",
    "    return FirstVal"
   ]
  },
  {
   "cell_type": "code",
   "execution_count": null,
   "metadata": {},
   "outputs": [],
   "source": []
  },
  {
   "cell_type": "code",
   "execution_count": 17,
   "metadata": {},
   "outputs": [],
   "source": [
    "Section_complete=[1, 9, 0, 3, 4, 2, 5, 6, 7]\n"
   ]
  },
  {
   "cell_type": "code",
   "execution_count": 19,
   "metadata": {},
   "outputs": [
    {
     "data": {
      "text/plain": [
       "0"
      ]
     },
     "execution_count": 19,
     "metadata": {},
     "output_type": "execute_result"
    }
   ],
   "source": [
    "Section_complete[2]"
   ]
  },
  {
   "cell_type": "code",
   "execution_count": 6,
   "metadata": {},
   "outputs": [],
   "source": [
    "def is_section_complete(nums):\n",
    "    \n",
    "    e=0\n",
    "    d = 0\n",
    "    for i in range(1,10):\n",
    "        if i in nums:\n",
    "            d = d + 1\n",
    "            #print(\"yes\")\n",
    "        else:\n",
    "            e = e + 1\n",
    "            #print(\"No\")        \n",
    "    if d == 9:\n",
    "        result = \"Section Complete\"\n",
    "    else:\n",
    "        result = \"Section Not complete\" \n",
    "    \n",
    "    return result"
   ]
  },
  {
   "cell_type": "code",
   "execution_count": 16,
   "metadata": {},
   "outputs": [
    {
     "data": {
      "text/plain": [
       "'Section Not complete'"
      ]
     },
     "execution_count": 16,
     "metadata": {},
     "output_type": "execute_result"
    }
   ],
   "source": [
    "is_section_complete([1, 2, 3, 5, 5, 6, 7, 8, 9])"
   ]
  },
  {
   "cell_type": "code",
   "execution_count": 61,
   "metadata": {},
   "outputs": [],
   "source": [
    "Section_complete=[1, 9, 0, 0,0, 0, 5, 6, 7]"
   ]
  },
  {
   "cell_type": "code",
   "execution_count": 24,
   "metadata": {},
   "outputs": [
    {
     "data": {
      "text/plain": [
       "False"
      ]
     },
     "execution_count": 24,
     "metadata": {},
     "output_type": "execute_result"
    }
   ],
   "source": [
    "Section_complete[1] == 0"
   ]
  },
  {
   "cell_type": "code",
   "execution_count": 52,
   "metadata": {},
   "outputs": [
    {
     "name": "stdout",
     "output_type": "stream",
     "text": [
      "0\n"
     ]
    }
   ],
   "source": [
    "count=0\n",
    "i=0\n",
    "if len(Section_complete) == 9:\n",
    "    for i in range(0,9):\n",
    "        if Section_complete[i] == :\n",
    "            count = count + 1\n",
    "print(count)\n"
   ]
  },
  {
   "cell_type": "code",
   "execution_count": 63,
   "metadata": {},
   "outputs": [
    {
     "data": {
      "text/plain": [
       "True"
      ]
     },
     "execution_count": 63,
     "metadata": {},
     "output_type": "execute_result"
    }
   ],
   "source": [
    "# is_section_valid \n",
    "d = 0\n",
    "for i in range(1,10):\n",
    "    if i in Section_complete:\n",
    "        d = d + 1\n",
    "d + Section_complete.count(0) == 9\n"
   ]
  },
  {
   "cell_type": "code",
   "execution_count": 7,
   "metadata": {},
   "outputs": [],
   "source": [
    "def is_section_valid(nums):\n",
    "    d = 0\n",
    "    for i in range(1,10):\n",
    "        if i in nums:\n",
    "            d = d + 1\n",
    "    v = d + nums.count(0) \n",
    "    \n",
    "    if v == 9:\n",
    "        result = True\n",
    "    else:\n",
    "        result = False\n",
    "    return result"
   ]
  },
  {
   "cell_type": "code",
   "execution_count": 1,
   "metadata": {},
   "outputs": [
    {
     "ename": "NameError",
     "evalue": "name 'is_section_complete' is not defined",
     "output_type": "error",
     "traceback": [
      "\u001b[1;31m---------------------------------------------------------------------------\u001b[0m",
      "\u001b[1;31mNameError\u001b[0m                                 Traceback (most recent call last)",
      "\u001b[1;32m<ipython-input-1-18f5a82cb525>\u001b[0m in \u001b[0;36m<module>\u001b[1;34m\u001b[0m\n\u001b[1;32m----> 1\u001b[1;33m \u001b[0mis_section_complete\u001b[0m\u001b[1;33m(\u001b[0m\u001b[1;33m[\u001b[0m\u001b[1;36m1\u001b[0m\u001b[1;33m,\u001b[0m \u001b[1;36m2\u001b[0m\u001b[1;33m,\u001b[0m \u001b[1;36m3\u001b[0m\u001b[1;33m,\u001b[0m \u001b[1;36m4\u001b[0m\u001b[1;33m,\u001b[0m \u001b[1;36m5\u001b[0m\u001b[1;33m,\u001b[0m \u001b[1;36m6\u001b[0m\u001b[1;33m,\u001b[0m \u001b[1;36m7\u001b[0m\u001b[1;33m,\u001b[0m \u001b[1;36m9\u001b[0m\u001b[1;33m,\u001b[0m \u001b[1;36m9\u001b[0m\u001b[1;33m]\u001b[0m\u001b[1;33m)\u001b[0m\u001b[1;33m\u001b[0m\u001b[1;33m\u001b[0m\u001b[0m\n\u001b[0m",
      "\u001b[1;31mNameError\u001b[0m: name 'is_section_complete' is not defined"
     ]
    }
   ],
   "source": [
    "is_section_complete([1, 2, 3, 4, 5, 6, 7, 9, 9])"
   ]
  },
  {
   "cell_type": "code",
   "execution_count": 50,
   "metadata": {},
   "outputs": [
    {
     "name": "stdout",
     "output_type": "stream",
     "text": [
      "9\n",
      "0\n",
      "Section Complete\n"
     ]
    }
   ],
   "source": [
    "e=0\n",
    "d = 0\n",
    "for i in range(1,10):\n",
    "    if i in Section_complete:\n",
    "        d = d + 1\n",
    "        #print(\"yes\")\n",
    "    else:\n",
    "        e = e + 1\n",
    "        #print(\"No\")\n",
    "print(d)\n",
    "print(e)\n",
    "if d == 9:\n",
    "    result = print(\"Section Complete\")\n",
    "else:\n",
    "    result = print(\"Section Not complete\")"
   ]
  },
  {
   "cell_type": "code",
   "execution_count": 39,
   "metadata": {},
   "outputs": [],
   "source": [
    "def is_section_complete(nums):   \n",
    "    e=0 \n",
    "    d = 0\n",
    "    for i in range(1,10):\n",
    "        if i in Section_complete:\n",
    "            d += 1\n",
    "        else:\n",
    "            e += 1       \n",
    "    if d == 8:\n",
    "        result = \"Section Complete\"\n",
    "    else:\n",
    "        result = \"Section Not complete\" \n",
    "    return result\n",
    "    "
   ]
  },
  {
   "cell_type": "code",
   "execution_count": null,
   "metadata": {},
   "outputs": [],
   "source": [
    "def is_section_complete(nums):   \n",
    "    e=0 \n",
    "    d = 0\n",
    "    for i in range(1,10):\n",
    "        if i in nums:\n",
    "            d += 1\n",
    "        else:\n",
    "            e += 1       \n",
    "    if d == 9:\n",
    "        result = True\n",
    "    else:\n",
    "        result = False \n",
    "    return result"
   ]
  },
  {
   "cell_type": "code",
   "execution_count": 100,
   "metadata": {},
   "outputs": [
    {
     "data": {
      "text/plain": [
       "9"
      ]
     },
     "execution_count": 100,
     "metadata": {},
     "output_type": "execute_result"
    }
   ],
   "source": [
    "len(Section_complete)"
   ]
  },
  {
   "cell_type": "code",
   "execution_count": null,
   "metadata": {},
   "outputs": [],
   "source": [
    "elist=[]\n",
    "i=0\n",
    "while i < 9:\n",
    "    for Section_complete[i] in Section_complete:\n",
    "        cellVal = Section_complete[i]\n",
    "        elist.append(cellVal)\n",
    "        i += 1\n",
    "    print(elist)\n",
    "    \n",
    "    "
   ]
  },
  {
   "cell_type": "code",
   "execution_count": 7,
   "metadata": {},
   "outputs": [
    {
     "name": "stdout",
     "output_type": "stream",
     "text": [
      "1\n",
      "2\n",
      "3\n",
      "4\n",
      "5\n",
      "1\n",
      "6\n",
      "2\n",
      "3\n"
     ]
    }
   ],
   "source": [
    "i=0\n",
    "c=0\n",
    "d=0\n",
    "for i in range(1,10):\n",
    "    if i in Section_complete:\n",
    "        c = c + 1 \n",
    "        print(c)\n",
    "    else:\n",
    "        d = d + 1 \n",
    "        print(d)\n",
    "    "
   ]
  },
  {
   "cell_type": "code",
   "execution_count": null,
   "metadata": {},
   "outputs": [],
   "source": [
    "chcek = []"
   ]
  },
  {
   "cell_type": "code",
   "execution_count": 62,
   "metadata": {
    "scrolled": true
   },
   "outputs": [
    {
     "ename": "NameError",
     "evalue": "name 'solution' is not defined",
     "output_type": "error",
     "traceback": [
      "\u001b[1;31m---------------------------------------------------------------------------\u001b[0m",
      "\u001b[1;31mNameError\u001b[0m                                 Traceback (most recent call last)",
      "\u001b[1;32m<ipython-input-62-a1d9acbd3862>\u001b[0m in \u001b[0;36m<module>\u001b[1;34m\u001b[0m\n\u001b[1;32m----> 1\u001b[1;33m \u001b[0msolution\u001b[0m\u001b[1;33m[\u001b[0m\u001b[1;36m0\u001b[0m\u001b[1;33m]\u001b[0m\u001b[1;33m[\u001b[0m\u001b[1;36m5\u001b[0m\u001b[1;33m]\u001b[0m\u001b[1;33m.\u001b[0m\u001b[0mcount\u001b[0m\u001b[1;33m(\u001b[0m\u001b[1;36m5\u001b[0m\u001b[1;33m)\u001b[0m\u001b[1;33m\u001b[0m\u001b[1;33m\u001b[0m\u001b[0m\n\u001b[0m",
      "\u001b[1;31mNameError\u001b[0m: name 'solution' is not defined"
     ]
    }
   ],
   "source": [
    "solution[0][5].count(5)"
   ]
  },
  {
   "cell_type": "code",
   "execution_count": null,
   "metadata": {},
   "outputs": [],
   "source": [
    "test_sudoku1 =[[5,3,0,0,7,0,0,0,0],[6,0,0,1,9,5,0,0,0],[0,9,8,0,0,0,0,6,0],[8,0,0,0,6,0,0,0,3],[4,0,0,8,0,3,0,0,1],[7,0,0,0,2,0,0,0,6],[0,6,0,0,0,0,2,8,0],[0,0,0,4,1,9,0,0,5],[0,0,0,0,8,0,0,7,9]]\n"
   ]
  },
  {
   "cell_type": "code",
   "execution_count": 79,
   "metadata": {
    "scrolled": true
   },
   "outputs": [
    {
     "data": {
      "text/plain": [
       "6"
      ]
     },
     "execution_count": 79,
     "metadata": {},
     "output_type": "execute_result"
    }
   ],
   "source": [
    "get_row(puzzle1,0).count(0)\n"
   ]
  },
  {
   "cell_type": "code",
   "execution_count": 58,
   "metadata": {},
   "outputs": [
    {
     "data": {
      "text/plain": [
       "[5, 3, 4, 6, 7, 2, 1, 9, 8]"
      ]
     },
     "execution_count": 58,
     "metadata": {},
     "output_type": "execute_result"
    }
   ],
   "source": [
    "get_box(solution1, 0)\n",
    "get_col(solution1, 0)\n",
    "get_box(solution1, 0)"
   ]
  },
  {
   "cell_type": "code",
   "execution_count": 84,
   "metadata": {},
   "outputs": [
    {
     "data": {
      "text/plain": [
       "[[5, 3, 0, 0, 7, 0, 0, 0, 0],\n",
       " [6, 0, 0, 1, 9, 5, 0, 0, 0],\n",
       " [0, 9, 8, 0, 0, 0, 0, 6, 0],\n",
       " [8, 0, 0, 0, 6, 0, 0, 0, 3],\n",
       " [4, 0, 0, 8, 0, 3, 0, 0, 1],\n",
       " [7, 0, 0, 0, 2, 0, 0, 0, 6],\n",
       " [0, 6, 0, 0, 0, 0, 2, 8, 0],\n",
       " [0, 0, 0, 4, 1, 9, 0, 0, 5],\n",
       " [0, 0, 0, 0, 8, 0, 0, 7, 9]]"
      ]
     },
     "execution_count": 84,
     "metadata": {},
     "output_type": "execute_result"
    }
   ],
   "source": [
    "puzzle1"
   ]
  },
  {
   "cell_type": "code",
   "execution_count": 94,
   "metadata": {},
   "outputs": [
    {
     "name": "stdout",
     "output_type": "stream",
     "text": [
      "1\n",
      "2\n",
      "1\n",
      "1\n",
      "5\n",
      "1\n",
      "7\n",
      "1\n"
     ]
    },
    {
     "ename": "IndexError",
     "evalue": "list index out of range",
     "output_type": "error",
     "traceback": [
      "\u001b[1;31m---------------------------------------------------------------------------\u001b[0m",
      "\u001b[1;31mIndexError\u001b[0m                                Traceback (most recent call last)",
      "\u001b[1;32m<ipython-input-94-022cbf9b2a4d>\u001b[0m in \u001b[0;36m<module>\u001b[1;34m\u001b[0m\n\u001b[0;32m      1\u001b[0m \u001b[1;32mfor\u001b[0m \u001b[0mi\u001b[0m \u001b[1;32min\u001b[0m \u001b[0mrange\u001b[0m\u001b[1;33m(\u001b[0m\u001b[1;36m0\u001b[0m\u001b[1;33m,\u001b[0m\u001b[1;36m9\u001b[0m\u001b[1;33m)\u001b[0m\u001b[1;33m:\u001b[0m\u001b[1;33m\u001b[0m\u001b[1;33m\u001b[0m\u001b[0m\n\u001b[0;32m      2\u001b[0m     \u001b[1;32mfor\u001b[0m \u001b[0mj\u001b[0m \u001b[1;32min\u001b[0m \u001b[0mrange\u001b[0m \u001b[1;33m(\u001b[0m\u001b[1;36m0\u001b[0m\u001b[1;33m,\u001b[0m\u001b[1;36m10\u001b[0m\u001b[1;33m)\u001b[0m\u001b[1;33m:\u001b[0m\u001b[1;33m\u001b[0m\u001b[1;33m\u001b[0m\u001b[0m\n\u001b[1;32m----> 3\u001b[1;33m         \u001b[1;32mif\u001b[0m \u001b[0mget_row\u001b[0m\u001b[1;33m(\u001b[0m\u001b[0mpuzzle1\u001b[0m\u001b[1;33m,\u001b[0m\u001b[0mj\u001b[0m\u001b[1;33m+\u001b[0m\u001b[1;36m1\u001b[0m\u001b[1;33m)\u001b[0m\u001b[1;33m.\u001b[0m\u001b[0mcount\u001b[0m\u001b[1;33m(\u001b[0m\u001b[0mj\u001b[0m\u001b[1;33m+\u001b[0m\u001b[1;36m1\u001b[0m\u001b[1;33m)\u001b[0m \u001b[1;33m==\u001b[0m \u001b[1;36m1\u001b[0m\u001b[1;33m:\u001b[0m\u001b[1;33m\u001b[0m\u001b[1;33m\u001b[0m\u001b[0m\n\u001b[0m\u001b[0;32m      4\u001b[0m             \u001b[1;31m#print(j+1)\u001b[0m\u001b[1;33m\u001b[0m\u001b[1;33m\u001b[0m\u001b[1;33m\u001b[0m\u001b[0m\n\u001b[0;32m      5\u001b[0m             \u001b[0mprint\u001b[0m\u001b[1;33m(\u001b[0m\u001b[0mget_row\u001b[0m\u001b[1;33m(\u001b[0m\u001b[0msolution1\u001b[0m\u001b[1;33m,\u001b[0m\u001b[0mj\u001b[0m\u001b[1;33m+\u001b[0m\u001b[1;36m1\u001b[0m\u001b[1;33m)\u001b[0m\u001b[1;33m.\u001b[0m\u001b[0mcount\u001b[0m\u001b[1;33m(\u001b[0m\u001b[0mj\u001b[0m\u001b[1;33m+\u001b[0m\u001b[1;36m1\u001b[0m\u001b[1;33m)\u001b[0m\u001b[1;33m)\u001b[0m\u001b[1;33m\u001b[0m\u001b[1;33m\u001b[0m\u001b[0m\n",
      "\u001b[1;32m<ipython-input-13-fa04b5e3a7ab>\u001b[0m in \u001b[0;36mget_row\u001b[1;34m(sudoku, k)\u001b[0m\n\u001b[0;32m      1\u001b[0m \u001b[1;32mdef\u001b[0m \u001b[0mget_row\u001b[0m\u001b[1;33m(\u001b[0m\u001b[0msudoku\u001b[0m\u001b[1;33m,\u001b[0m \u001b[0mk\u001b[0m\u001b[1;33m)\u001b[0m\u001b[1;33m:\u001b[0m\u001b[1;33m\u001b[0m\u001b[1;33m\u001b[0m\u001b[0m\n\u001b[1;32m----> 2\u001b[1;33m     \u001b[1;32mreturn\u001b[0m \u001b[0msudoku\u001b[0m\u001b[1;33m[\u001b[0m\u001b[0mk\u001b[0m\u001b[1;33m]\u001b[0m\u001b[1;33m\u001b[0m\u001b[1;33m\u001b[0m\u001b[0m\n\u001b[0m",
      "\u001b[1;31mIndexError\u001b[0m: list index out of range"
     ]
    }
   ],
   "source": [
    "for i in range(0,9):\n",
    "    for j in range (0,10):\n",
    "        if get_row(puzzle1,j+1).count(j+1) == 1:\n",
    "            #print(j+1)\n",
    "            print(get_row(solution1,j+1).count(j+1))      \n",
    "        else:\n",
    "            print(j+1)\n",
    "        #if get_col(puzzle1,j).count(j) == 1:\n",
    "            #print(\"ok\")\n",
    "        #else:\n",
    "            #print(\"not ok\")\n",
    "        #if get_box(puzzle1, j).count(j) == 1:\n",
    "            #print(\"ok\")\n",
    "        #else:\n",
    "            #print(\"not ok\")"
   ]
  },
  {
   "cell_type": "code",
   "execution_count": 29,
   "metadata": {},
   "outputs": [],
   "source": [
    "def repeat(sudoku):\n",
    "    # Check if Sudoku is already complete\n",
    "    if is_sudoku_complete(sudoku):\n",
    "        return True\n",
    "    \n",
    "    # Find the first empty position\n",
    "    i, j = first_empty_position(sudoku)\n",
    "    \n",
    "    # Try to fill it with numbers 1 to 9\n",
    "    for digit in range(1, 10):\n",
    "        \n",
    "        # Insert the digit into the right place\n",
    "        sudoku[i][j] = digit\n",
    "        \n",
    "        # Check if the new puzzle is valid\n",
    "        if is_sudoku_valid(sudoku):\n",
    "            \n",
    "            # Try to fill the remaining spaces recursively using `repeat`\n",
    "            # Node that this will directly fill values into the sudoku\n",
    "            result = repeat(sudoku)\n",
    "            \n",
    "            # If the recursive result is true, we have found the answer and filled the sudoku\n",
    "            if result is True:\n",
    "                return True\n",
    "        \n",
    "        \n",
    "        # Remove the digit, it doesn't lead to a solution\n",
    "        sudoku[i][j] = 0\n",
    "        \n",
    "    \n",
    "    # There are no valid numbers to fill the empty slot(s)\n",
    "    return False"
   ]
  },
  {
   "cell_type": "code",
   "execution_count": 30,
   "metadata": {},
   "outputs": [
    {
     "ename": "NameError",
     "evalue": "name 'test' is not defined",
     "output_type": "error",
     "traceback": [
      "\u001b[1;31m---------------------------------------------------------------------------\u001b[0m",
      "\u001b[1;31mNameError\u001b[0m                                 Traceback (most recent call last)",
      "\u001b[1;32m<ipython-input-30-4e1243bd22c6>\u001b[0m in \u001b[0;36m<module>\u001b[1;34m\u001b[0m\n\u001b[1;32m----> 1\u001b[1;33m \u001b[0mtest\u001b[0m\u001b[1;33m\u001b[0m\u001b[1;33m\u001b[0m\u001b[0m\n\u001b[0m",
      "\u001b[1;31mNameError\u001b[0m: name 'test' is not defined"
     ]
    }
   ],
   "source": [
    "test"
   ]
  },
  {
   "cell_type": "code",
   "execution_count": null,
   "metadata": {},
   "outputs": [],
   "source": [
    "fact = -1\n",
    "facNum = 1\n",
    "\n",
    "if fact < 0 :\n",
    "        print(\"Please enter positive number\")\n",
    "elif fact == 0:\n",
    "        print(\" 1\")\n",
    "else:\n",
    "    for i in range(1,fact+1):\n",
    "        facNum = i * facNum\n",
    "    print(facNum)"
   ]
  },
  {
   "cell_type": "code",
   "execution_count": 59,
   "metadata": {},
   "outputs": [],
   "source": [
    "def factorial(n):\n",
    "    # write code here\n",
    "    facVal = 1\n",
    "    if n == 0:\n",
    "      facVal = 1\n",
    "    else:\n",
    "      for i in range(1,n+1):\n",
    "        facVal =i*facVal\n",
    "    return facVal\n",
    " "
   ]
  },
  {
   "cell_type": "code",
   "execution_count": 60,
   "metadata": {},
   "outputs": [
    {
     "data": {
      "text/plain": [
       "120"
      ]
     },
     "execution_count": 60,
     "metadata": {},
     "output_type": "execute_result"
    }
   ],
   "source": [
    "factorial(5)"
   ]
  },
  {
   "cell_type": "code",
   "execution_count": 58,
   "metadata": {},
   "outputs": [
    {
     "name": "stdout",
     "output_type": "stream",
     "text": [
      "[['0', '0', '4', '3', '0', '0', '2', '0', '9'], ['9', '0', '0', '5', '0', '0', '9', '0', '0'], ['0', '1', '0', '7', '0', '0', '6', '0', '0'], ['0', '4', '3', '0', '0', '6', '0', '0', '2'], ['2', '0', '8', '7', '1', '9', '0', '0', '0'], ['0', '7', '4', '0', '0', '0', '5', '0', '0'], ['0', '8', '3', '0', '0', '0', '6', '0', '0'], ['0', '0', '0', '0', '1', '0', '5', '0', '0'], ['0', '3', '5', '0', '8', '6', '9', '0', '0']]\n"
     ]
    }
   ],
   "source": [
    "num = '004300209005009001070060043006002087190007400050083000600000105003508690042910300'\n",
    "list=[num[x] for x in range(0,len(num))]\n",
    "main_list=[]\n",
    "\n",
    "inxF = 0\n",
    "inxS = 9\n",
    "\n",
    "if len(num) == 81:\n",
    "    for i in range(0,82):\n",
    "        list_of_list = list[inxF:inxS]\n",
    "        main_list.append(list_of_list)\n",
    "        inxF += 8\n",
    "        inxS += 8\n",
    "        if len(main_list)==9:\n",
    "            break\n",
    "print(main_list)\n",
    "\n",
    "        \n",
    "        \n",
    "    \n"
   ]
  },
  {
   "cell_type": "code",
   "execution_count": 65,
   "metadata": {},
   "outputs": [
    {
     "name": "stdout",
     "output_type": "stream",
     "text": [
      "[[0, 0, 4, 3, 0, 0, 2, 0, 9], [0, 0, 5, 0, 0, 9, 0, 0, 1], [0, 7, 0, 0, 6, 0, 0, 4, 3], [0, 0, 6, 0, 0, 2, 0, 8, 7], [1, 9, 0, 0, 0, 7, 4, 0, 0], [0, 5, 0, 0, 8, 3, 0, 0, 0], [6, 0, 0, 0, 0, 0, 1, 0, 5], [0, 0, 3, 5, 0, 8, 6, 9, 0], [0, 4, 2, 9, 1, 0, 3, 0, 0]]\n"
     ]
    }
   ],
   "source": [
    "sudoku_str = '004300209005009001070060043006002087190007400050083000600000105003508690042910300'\n",
    "list=[int(sudoku_str[x]) for x in range(0,len(sudoku_str))]\n",
    "main_list=[]\n",
    "\n",
    "inxF = 0\n",
    "inxS = 9\n",
    "\n",
    "if len(sudoku_str) == 81:\n",
    "    for i in range(0,82):\n",
    "        list_of_list = list[inxF:inxS]\n",
    "        main_list.append(list_of_list)\n",
    "        inxF += 9\n",
    "        inxS += 9\n",
    "        if len(main_list)==9:\n",
    "            break\n",
    "print(main_list)"
   ]
  },
  {
   "cell_type": "code",
   "execution_count": 66,
   "metadata": {},
   "outputs": [
    {
     "data": {
      "text/plain": [
       "[[0, 0, 4, 3, 0, 0, 2, 0, 9],\n",
       " [0, 0, 5, 0, 0, 9, 0, 0, 1],\n",
       " [0, 7, 0, 0, 6, 0, 0, 4, 3],\n",
       " [0, 0, 6, 0, 0, 2, 0, 8, 7],\n",
       " [1, 9, 0, 0, 0, 7, 4, 0, 0],\n",
       " [0, 5, 0, 0, 8, 3, 0, 0, 0],\n",
       " [6, 0, 0, 0, 0, 0, 1, 0, 5],\n",
       " [0, 0, 3, 5, 0, 8, 6, 9, 0],\n",
       " [0, 4, 2, 9, 1, 0, 3, 0, 0]]"
      ]
     },
     "execution_count": 66,
     "metadata": {},
     "output_type": "execute_result"
    }
   ],
   "source": [
    "main_list"
   ]
  },
  {
   "cell_type": "code",
   "execution_count": 49,
   "metadata": {},
   "outputs": [
    {
     "name": "stdout",
     "output_type": "stream",
     "text": [
      "['0', '0', '4', '3', '0', '0', '2', '0', '9', '0', '0', '5', '0', '0', '9', '0', '0', '1', '0', '7', '0', '0', '6', '0', '0', '4', '3', '0', '0', '6', '0', '0', '2', '0', '8', '7', '1', '9', '0', '0', '0', '7', '4', '0', '0', '0', '5', '0', '0', '8', '3', '0', '0', '0', '6', '0', '0', '0', '0', '0', '1', '0', '5', '0', '0', '3', '5', '0', '8', '6', '9', '0', '0', '4', '2', '9', '1', '0', '3', '0', '0']\n"
     ]
    },
    {
     "data": {
      "text/plain": [
       "81"
      ]
     },
     "execution_count": 49,
     "metadata": {},
     "output_type": "execute_result"
    }
   ],
   "source": [
    "num = '004300209005009001070060043006002087190007400050083000600000105003508690042910300'\n",
    "list=[num[x] for x in range(0,len(num))]\n",
    "print(list)\n",
    "main_list=[]\n",
    "len(num)\n",
    "\n"
   ]
  },
  {
   "cell_type": "code",
   "execution_count": 47,
   "metadata": {},
   "outputs": [
    {
     "name": "stdout",
     "output_type": "stream",
     "text": [
      "['0', '0', '4', '3', '0', '0', '2', '0']\n",
      "[['0', '0', '4', '3', '0', '0', '2', '0']]\n"
     ]
    }
   ],
   "source": [
    "list1=list[0:8]\n",
    "print(list1)\n",
    "main_list.append(list1)\n",
    "print(main_list)"
   ]
  },
  {
   "cell_type": "code",
   "execution_count": 48,
   "metadata": {},
   "outputs": [
    {
     "name": "stdout",
     "output_type": "stream",
     "text": [
      "['9', '0', '0', '5', '0', '0', '9', '0']\n",
      "[['0', '0', '4', '3', '0', '0', '2', '0'], ['9', '0', '0', '5', '0', '0', '9', '0']]\n"
     ]
    }
   ],
   "source": [
    "list2=list[8:16]\n",
    "print(list2)\n",
    "main_list.append(list2)\n",
    "print(main_list)"
   ]
  },
  {
   "cell_type": "code",
   "execution_count": 45,
   "metadata": {},
   "outputs": [
    {
     "name": "stdout",
     "output_type": "stream",
     "text": [
      "['0', '1', '0', '7', '0', '0', '6', '0']\n"
     ]
    }
   ],
   "source": [
    "list3=list[16:24]\n",
    "print(list3)"
   ]
  },
  {
   "cell_type": "code",
   "execution_count": null,
   "metadata": {},
   "outputs": [],
   "source": []
  },
  {
   "cell_type": "code",
   "execution_count": null,
   "metadata": {},
   "outputs": [],
   "source": []
  },
  {
   "cell_type": "code",
   "execution_count": null,
   "metadata": {},
   "outputs": [],
   "source": []
  },
  {
   "cell_type": "code",
   "execution_count": 14,
   "metadata": {},
   "outputs": [
    {
     "data": {
      "text/plain": [
       "0"
      ]
     },
     "execution_count": 14,
     "metadata": {},
     "output_type": "execute_result"
    }
   ],
   "source": [
    "num = '00430020900500900'\n",
    "int(num)//10**15"
   ]
  },
  {
   "cell_type": "code",
   "execution_count": 15,
   "metadata": {},
   "outputs": [
    {
     "data": {
      "text/plain": [
       "4"
      ]
     },
     "execution_count": 15,
     "metadata": {},
     "output_type": "execute_result"
    }
   ],
   "source": [
    "num = '00430020900500900'\n",
    "int(num)//10**14"
   ]
  },
  {
   "cell_type": "code",
   "execution_count": 20,
   "metadata": {},
   "outputs": [
    {
     "data": {
      "text/plain": [
       "4"
      ]
     },
     "execution_count": 20,
     "metadata": {},
     "output_type": "execute_result"
    }
   ],
   "source": [
    "num = '00430020900500900'\n",
    "(int(num)//10**13)//10"
   ]
  },
  {
   "cell_type": "code",
   "execution_count": 25,
   "metadata": {
    "scrolled": false
   },
   "outputs": [
    {
     "data": {
      "text/plain": [
       "'4'"
      ]
     },
     "execution_count": 25,
     "metadata": {},
     "output_type": "execute_result"
    }
   ],
   "source": [
    "num = '00430020900500900'\n",
    "num[2]\n"
   ]
  }
 ],
 "metadata": {
  "kernelspec": {
   "display_name": "Python 3",
   "language": "python",
   "name": "python3"
  },
  "language_info": {
   "codemirror_mode": {
    "name": "ipython",
    "version": 3
   },
   "file_extension": ".py",
   "mimetype": "text/x-python",
   "name": "python",
   "nbconvert_exporter": "python",
   "pygments_lexer": "ipython3",
   "version": "3.8.5"
  }
 },
 "nbformat": 4,
 "nbformat_minor": 4
}
